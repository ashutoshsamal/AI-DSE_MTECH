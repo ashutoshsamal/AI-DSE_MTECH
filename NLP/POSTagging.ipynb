{
 "cells": [
  {
   "cell_type": "code",
   "execution_count": 1,
   "id": "b3e0dba4-ac35-400b-9f58-bc02458f41b3",
   "metadata": {},
   "outputs": [],
   "source": [
    "import nltk\n",
    "import pandas as pd \n",
    "import numpy as np\n",
    "from nltk.stem import WordNetLemmatizer\n",
    "import warnings\n",
    "warnings.filterwarnings('ignore')\n",
    "import math\n",
    "from sklearn.model_selection import train_test_split \n"
   ]
  },
  {
   "cell_type": "code",
   "execution_count": 2,
   "id": "de5fab5e-ff76-42f9-974d-4a575c804510",
   "metadata": {},
   "outputs": [],
   "source": [
    "data=pd.read_csv(\"/Users/a0s0iro/PycharmProjects/AI-DSE_MTECH/NLP/NER_Dataset.csv\")"
   ]
  },
  {
   "cell_type": "code",
   "execution_count": 3,
   "id": "6d7712ff-147a-4f3c-9d80-37e5e890ace3",
   "metadata": {},
   "outputs": [],
   "source": [
    "#### POS tag counter"
   ]
  },
  {
   "cell_type": "code",
   "execution_count": 4,
   "id": "dbc29415-fb37-4eb8-81f6-69d2c7fed74a",
   "metadata": {},
   "outputs": [],
   "source": [
    "## Length of POS Tag and Word should be same for a valid tagging\n",
    "def checkValidaTagging(WordColumn,TagColumn):\n",
    "    wordlist=WordColumn[1:-1].replace(\"'\",\"\").split(\",\")\n",
    "    taglist=TagColumn[1:-1].replace(\"'\",\"\").split(\",\")\n",
    "    return len(wordlist)==len(taglist)\n",
    "\n",
    "def convertStringtoList(data,wordColumn=True):\n",
    "    wordlist=data[\"Word\"][1:-1].replace(\"'\",\"\").replace(\" \",\"\").split(\",\")\n",
    "    taglist=data[\"POS\"][1:-1].replace(\"'\",\"\").replace(\" \",\"\").split(\",\")\n",
    "    specialchar='[@_!#$%^&*()<>?/\\|}{~:],.;:`` '\n",
    "    FinalwordList=[]\n",
    "    FinalPosList=[]\n",
    "    for i in range(len(wordlist)):\n",
    "        if wordlist[i] not in specialchar and taglist[i] not in  specialchar:\n",
    "            FinalPosList.append(taglist[i])\n",
    "            FinalwordList.append(wordlist[i])\n",
    "    if wordColumn:\n",
    "        return FinalwordList\n",
    "    else:\n",
    "        return FinalPosList\n",
    "\n",
    "\n",
    "## NUmber of words and unique words in each sentence \n",
    "def wordCount(data,uniqueWords=False):\n",
    "    wordlist=data[\"WordList\"]\n",
    "    taglist=data[\"POSList\"]\n",
    "    if uniqueWords:\n",
    "        return len(set(tuple(wordlist)))\n",
    "    \n",
    "    return len(wordlist)"
   ]
  },
  {
   "cell_type": "code",
   "execution_count": 5,
   "id": "c73e571d-bf75-4e60-86b4-3de0ac5aeccb",
   "metadata": {},
   "outputs": [],
   "source": [
    "def WordToTagDic(data):\n",
    "    # wordlist=WordColumn[1:-1].replace(\"'\",\"\").replace(\" \",\"\").split(\",\")\n",
    "    # taglist=TagColumn[1:-1].replace(\"'\",\"\").replace(\" \",\"\").split(\",\")\n",
    "    # WordTagColumn\n",
    "    wordlist=data[\"WordList\"]\n",
    "    taglist=data[\"POSList\"]\n",
    "    \n",
    "    tagDic={}\n",
    "    for i in range(len(wordlist)):\n",
    "        word=wordlist[i]\n",
    "        postag=taglist[i]\n",
    "\n",
    "\n",
    "        if postag in tagDic:\n",
    "            wordFreqDic=tagDic[postag]\n",
    "            if word in wordFreqDic:\n",
    "                wordFreqDic[word]+=1\n",
    "            else:\n",
    "                wordFreqDic[word]=1\n",
    "        else:\n",
    "            wordFreqDic={word:1}\n",
    "            tagDic[postag]=dict(wordFreqDic)\n",
    "\n",
    "    \n",
    "    return tagDic\n",
    "    "
   ]
  },
  {
   "cell_type": "code",
   "execution_count": 6,
   "id": "e866501b-f743-429d-9cb6-700316b054a3",
   "metadata": {},
   "outputs": [
    {
     "name": "stdout",
     "output_type": "stream",
     "text": [
      "No of record with legth of POSList != WordList 0\n"
     ]
    }
   ],
   "source": [
    "\n",
    "\n",
    "data[\"validTagging\"]=data.apply(lambda x: checkValidaTagging(x[1],x[2]),axis=1)\n",
    "\n",
    "notValidIndex=list(data[data[\"validTagging\"]==False].index) \n",
    "data=data.drop(notValidIndex)\n",
    "\n",
    "data[\"WordList\"]=data.apply(lambda x:convertStringtoList(x),axis=1)\n",
    "data[\"POSList\"]=data.apply(lambda x:convertStringtoList(x,False),axis=1)\n",
    "\n",
    "print(\"No of record with legth of POSList != WordList\",data.apply(lambda x:len(x[\"POSList\"])!=len(x[\"WordList\"]),axis=1).sum())\n",
    "\n",
    "data[\"TagToWordMap\"]=data.apply(lambda x: WordToTagDic(x),axis=1)\n",
    "\n",
    "data[\"wordCount\"]=data.apply(lambda x: wordCount(x),axis=1)\n",
    "notValidIndex=list(data[data[\"wordCount\"]<=1].index) \n",
    "data=data.drop(notValidIndex)\n",
    "\n",
    "data[\"UniqueWordCount\"]=data.apply(lambda x: wordCount(x,True),axis=1)\n",
    "\n",
    "\n"
   ]
  },
  {
   "cell_type": "code",
   "execution_count": 7,
   "id": "921bca66-8765-4ed3-bc40-febc904cbe76",
   "metadata": {},
   "outputs": [
    {
     "data": {
      "text/plain": [
       "\"['Mr.', 'Egeland', 'said', 'the', 'latest', 'figures', 'show', '1.8', 'million', 'people', 'are', 'in', 'need', 'of', 'food', 'assistance', '-', 'with', 'the', 'need', 'greatest', 'in', 'Indonesia', ',', 'Sri', 'Lanka', ',', 'the', 'Maldives', 'and', 'India', '.']\""
      ]
     },
     "execution_count": 7,
     "metadata": {},
     "output_type": "execute_result"
    }
   ],
   "source": [
    "data.iloc[5][\"Word\"]"
   ]
  },
  {
   "cell_type": "code",
   "execution_count": 8,
   "id": "bae688fb-3e82-456c-83ae-c3949ff6037f",
   "metadata": {},
   "outputs": [
    {
     "data": {
      "text/plain": [
       "\"['NNP', 'NNP', 'VBD', 'DT', 'JJS', 'NNS', 'VBP', 'CD', 'CD', 'NNS', 'VBP', 'IN', 'NN', 'IN', 'NN', 'NN', ':', 'IN', 'DT', 'NN', 'JJS', 'IN', 'NNP', ',', 'NNP', 'NNP', ',', 'DT', 'NNP', 'CC', 'NNP', '.']\""
      ]
     },
     "execution_count": 8,
     "metadata": {},
     "output_type": "execute_result"
    }
   ],
   "source": [
    "data.iloc[5][\"POS\"]"
   ]
  },
  {
   "cell_type": "code",
   "execution_count": 9,
   "id": "7cbbc1d7-de3b-45e6-8c16-bcf84ad0539f",
   "metadata": {},
   "outputs": [
    {
     "data": {
      "text/plain": [
       "{'NNP': {'Mr.': 1,\n",
       "  'Egeland': 1,\n",
       "  'Indonesia': 1,\n",
       "  'Sri': 1,\n",
       "  'Lanka': 1,\n",
       "  'Maldives': 1,\n",
       "  'India': 1},\n",
       " 'VBD': {'said': 1},\n",
       " 'DT': {'the': 3},\n",
       " 'JJS': {'latest': 1, 'greatest': 1},\n",
       " 'NNS': {'figures': 1, 'people': 1},\n",
       " 'VBP': {'show': 1, 'are': 1},\n",
       " 'CD': {'1.8': 1, 'million': 1},\n",
       " 'IN': {'in': 2, 'of': 1, 'with': 1},\n",
       " 'NN': {'need': 2, 'food': 1, 'assistance': 1},\n",
       " 'CC': {'and': 1}}"
      ]
     },
     "execution_count": 9,
     "metadata": {},
     "output_type": "execute_result"
    }
   ],
   "source": [
    "data.iloc[5][\"TagToWordMap\"]"
   ]
  },
  {
   "cell_type": "code",
   "execution_count": 10,
   "id": "2346c08d-fcec-48f0-b19b-abc796fc8665",
   "metadata": {},
   "outputs": [],
   "source": [
    "# TrainData,TestData=train_test_split(data, random_state=104,  test_size=0.01,  shuffle=True) "
   ]
  },
  {
   "cell_type": "code",
   "execution_count": 11,
   "id": "c869f9a0-4755-4c74-80ce-fe2b0a5ae4a9",
   "metadata": {},
   "outputs": [],
   "source": [
    "TestData=data.sample(50,random_state=40)\n",
    "TrainData=data.drop(TestData.index)\n"
   ]
  },
  {
   "cell_type": "code",
   "execution_count": 12,
   "id": "cdf43cf9-3ef9-4abb-bbc8-4282229fbf81",
   "metadata": {},
   "outputs": [
    {
     "name": "stdout",
     "output_type": "stream",
     "text": [
      "total data size:- (46552, 10)\n",
      "Train Data size (46502, 10)\n",
      "Test Data size (50, 10)\n"
     ]
    }
   ],
   "source": [
    "print(\"total data size:-\",data.shape)\n",
    "print(\"Train Data size\",TrainData.shape)\n",
    "print(\"Test Data size\",TestData.shape)\n",
    "\n"
   ]
  },
  {
   "cell_type": "code",
   "execution_count": null,
   "id": "72564b9a-8d13-4227-9fa8-998c6245c148",
   "metadata": {},
   "outputs": [],
   "source": []
  },
  {
   "cell_type": "code",
   "execution_count": null,
   "id": "f0559524-bd6b-4e5c-97af-a5b0bd315514",
   "metadata": {},
   "outputs": [],
   "source": []
  },
  {
   "cell_type": "code",
   "execution_count": 13,
   "id": "d4c708b6-1b9e-4437-865f-d309c72e1207",
   "metadata": {},
   "outputs": [],
   "source": [
    "def CreateMasterFreqDic(RowWiseMap):\n",
    "    MasterCount={}\n",
    "    for RowDic in RowWiseMap:\n",
    "        for tags in RowDic:\n",
    "            RowFreqCountDic=RowDic[tags]\n",
    "            if tags in MasterCount:\n",
    "                MasterFreqCountDic=MasterCount[tags]\n",
    "                for word in RowFreqCountDic:\n",
    "                    if word in MasterFreqCountDic:\n",
    "                        MasterFreqCountDic[word]+=RowFreqCountDic[word]\n",
    "                    else:\n",
    "                        MasterFreqCountDic[word]=RowFreqCountDic[word]\n",
    "                MasterCount[tags]=dict(MasterFreqCountDic)\n",
    "            else:\n",
    "                 MasterCount[tags]=dict(RowFreqCountDic)\n",
    "    return MasterCount\n",
    "\n",
    "            "
   ]
  },
  {
   "cell_type": "code",
   "execution_count": 14,
   "id": "5b123b54-ca08-41bb-993c-e09abca79677",
   "metadata": {
    "scrolled": true
   },
   "outputs": [],
   "source": [
    "FinalEmissionDic=CreateMasterFreqDic(TrainData[\"TagToWordMap\"])\n"
   ]
  },
  {
   "cell_type": "code",
   "execution_count": 15,
   "id": "47711c73-f91e-452a-b7c5-bcfdecd907ce",
   "metadata": {},
   "outputs": [
    {
     "name": "stdout",
     "output_type": "stream",
     "text": [
      "Total Tags in Train dataset:- 36\n"
     ]
    }
   ],
   "source": [
    "TotalTags=len(FinalEmissionDic.keys())\n",
    "print(\"Total Tags in Train dataset:-\",TotalTags)\n"
   ]
  },
  {
   "cell_type": "code",
   "execution_count": 16,
   "id": "c7819f7d-405c-44d4-b750-a0ee30b88533",
   "metadata": {},
   "outputs": [
    {
     "name": "stdout",
     "output_type": "stream",
     "text": [
      "Total Words captured by FinalEmissionDic:- 930101\n",
      "Total words in the Train dataset:- 930101\n"
     ]
    }
   ],
   "source": [
    "count=0\n",
    "for i in FinalEmissionDic.keys():\n",
    "    count+=sum(FinalEmissionDic[i].values())\n",
    "print(\"Total Words captured by FinalEmissionDic:-\",count)\n",
    "TotalWord=TrainData[\"wordCount\"].sum()\n",
    "print(\"Total words in the Train dataset:-\",TotalWord)    \n",
    "## Total words in dataset  should be equal to total words captured in our FinalEmissionDic"
   ]
  },
  {
   "cell_type": "code",
   "execution_count": null,
   "id": "bae429b3-c294-4332-9397-fa3b96a797d0",
   "metadata": {},
   "outputs": [],
   "source": []
  },
  {
   "cell_type": "code",
   "execution_count": 17,
   "id": "78fe73a9-1d4d-4f7d-a10d-ac88113ee670",
   "metadata": {},
   "outputs": [
    {
     "data": {
      "text/plain": [
       "np.float64(20.00131177153671)"
      ]
     },
     "execution_count": 17,
     "metadata": {},
     "output_type": "execute_result"
    }
   ],
   "source": [
    "TrainData[\"wordCount\"].mean()  ### average word length in the dataset "
   ]
  },
  {
   "cell_type": "code",
   "execution_count": 18,
   "id": "6b7a9a18-ab38-4c70-964f-9366f2750eda",
   "metadata": {},
   "outputs": [],
   "source": [
    "### Dictionary for transitive probability "
   ]
  },
  {
   "cell_type": "code",
   "execution_count": 19,
   "id": "b59512da-d814-4e24-8eff-c69dc046c197",
   "metadata": {},
   "outputs": [],
   "source": [
    "def TransitiveMap(TagColumn):\n",
    "    resultDict={}\n",
    "    specialchar='[@_!#$%^&*()<>?/\\|}{~:],.;:`` '\n",
    "\n",
    "    for tags in TagColumn:\n",
    "        taglist=list(tags)\n",
    "        if \"start\" in resultDict:\n",
    "            posCountDict=resultDict[\"start\"]\n",
    "            if taglist[0] in posCountDict:\n",
    "                posCountDict[taglist[0]]+=1\n",
    "            else:\n",
    "                posCountDict[taglist[0]]=1\n",
    "                \n",
    "            resultDict[\"start\"]=dict(posCountDict)\n",
    "                \n",
    "        else:\n",
    "            resultDict[\"start\"]={taglist[0]:1}\n",
    "        for i in range(len(taglist)-1):\n",
    "            \n",
    "            if taglist[i] in specialchar:\n",
    "                continue\n",
    "                \n",
    "            if taglist[i] in resultDict:\n",
    "                posCountDict=resultDict[taglist[i]]\n",
    "                if taglist[i+1] in posCountDict:\n",
    "                    posCountDict[taglist[i+1]]+=1\n",
    "                else:\n",
    "                    posCountDict[taglist[i+1]]=1\n",
    "                resultDict[taglist[i]]=dict(posCountDict)\n",
    "            else:\n",
    "                resultDict[taglist[i]]={taglist[i+1]:1}\n",
    "                \n",
    "    return resultDict\n",
    "\n",
    "    "
   ]
  },
  {
   "cell_type": "code",
   "execution_count": 20,
   "id": "2cc5527a-b826-4241-8115-c717ce2cc8c4",
   "metadata": {},
   "outputs": [
    {
     "name": "stdout",
     "output_type": "stream",
     "text": [
      "Unique number of words in the dataset is :- 34363\n"
     ]
    }
   ],
   "source": [
    "## calculate total number of uniqiue words which is our vocabulary \n",
    "x=0\n",
    "UniqueWords=set()\n",
    "for freqdict in FinalEmissionDic.values():\n",
    "    for word in freqdict:\n",
    "        UniqueWords.add(word)\n",
    "        count+=1\n",
    "vocab=len(UniqueWords)     \n",
    "\n",
    "print(\"Unique number of words in the dataset is :-\",vocab)"
   ]
  },
  {
   "cell_type": "code",
   "execution_count": 21,
   "id": "c711820f-162b-41ec-a701-d96cfaeb4153",
   "metadata": {},
   "outputs": [],
   "source": [
    "TransitiveDict=TransitiveMap(TrainData[\"POSList\"])"
   ]
  },
  {
   "cell_type": "code",
   "execution_count": null,
   "id": "fedc5c41-2ae6-4c82-9d78-7e8de6e328a1",
   "metadata": {},
   "outputs": [],
   "source": []
  },
  {
   "cell_type": "code",
   "execution_count": 22,
   "id": "488107c5-647c-47b4-abbe-6d431a0ecfc3",
   "metadata": {},
   "outputs": [
    {
     "data": {
      "text/plain": [
       "46502"
      ]
     },
     "execution_count": 22,
     "metadata": {},
     "output_type": "execute_result"
    }
   ],
   "source": [
    "sum(TransitiveDict[\"start\"].values())"
   ]
  },
  {
   "cell_type": "code",
   "execution_count": 23,
   "id": "10f9e86d-1bb8-4fec-b3ee-c1cd54a9f3bc",
   "metadata": {},
   "outputs": [
    {
     "data": {
      "text/plain": [
       "{'VB': 764,\n",
       " 'JJ': 3415,\n",
       " 'NNS': 1802,\n",
       " 'NNP': 3303,\n",
       " 'DT': 2615,\n",
       " 'JJR': 95,\n",
       " 'CD': 872,\n",
       " 'NN': 2674,\n",
       " 'VBD': 2028,\n",
       " 'VBZ': 722,\n",
       " 'VBP': 225,\n",
       " 'PRP': 510,\n",
       " 'RB': 660,\n",
       " 'MD': 214,\n",
       " 'TO': 150,\n",
       " 'PRP$': 506,\n",
       " 'VBG': 781,\n",
       " 'VBN': 578,\n",
       " 'IN': 852,\n",
       " 'NNPS': 39,\n",
       " 'WRB': 54,\n",
       " 'RBS': 11,\n",
       " 'EX': 47,\n",
       " 'WP': 31,\n",
       " 'RBR': 18,\n",
       " 'JJS': 26,\n",
       " 'FW': 1,\n",
       " 'PDT': 2,\n",
       " 'WDT': 4}"
      ]
     },
     "execution_count": 23,
     "metadata": {},
     "output_type": "execute_result"
    }
   ],
   "source": [
    "TransitiveDict[\"CC\"]"
   ]
  },
  {
   "cell_type": "code",
   "execution_count": 24,
   "id": "f1e38c95-e979-490f-a474-10ac16681711",
   "metadata": {},
   "outputs": [],
   "source": [
    "laplaceAlpha=0.000001\n",
    "uniquesTags=list(FinalEmissionDic.keys())"
   ]
  },
  {
   "cell_type": "code",
   "execution_count": 25,
   "id": "568da7b6-0afe-473e-8c1f-90f90996e32b",
   "metadata": {},
   "outputs": [
    {
     "data": {
      "text/plain": [
       "46502"
      ]
     },
     "execution_count": 25,
     "metadata": {},
     "output_type": "execute_result"
    }
   ],
   "source": [
    "sum(TransitiveDict[\"start\"].values())"
   ]
  },
  {
   "cell_type": "code",
   "execution_count": 26,
   "id": "9c8e6893-40c4-4c84-a944-c58810ba6ab2",
   "metadata": {},
   "outputs": [
    {
     "data": {
      "text/plain": [
       "0.0015352343048914176"
      ]
     },
     "execution_count": 26,
     "metadata": {},
     "output_type": "execute_result"
    }
   ],
   "source": [
    "## Emission probability with laplace smoothing   P(Thousands/nns)=\n",
    "(FinalEmissionDic[\"NNS\"][\"Thousands\"]+laplaceAlpha)/(sum(FinalEmissionDic[\"NNS\"].values())+laplaceAlpha*vocab)\n"
   ]
  },
  {
   "cell_type": "code",
   "execution_count": 27,
   "id": "e48d3180-3d83-4aee-a217-e4f0ae6c6034",
   "metadata": {},
   "outputs": [
    {
     "data": {
      "text/plain": [
       "0.014173128265059225"
      ]
     },
     "execution_count": 27,
     "metadata": {},
     "output_type": "execute_result"
    }
   ],
   "source": [
    "## Transitive probability  with laplace smoothing   p(nns nns) =\n",
    "(TransitiveDict[\"NNS\"][\"NNS\"]+laplaceAlpha)/(sum(TransitiveDict[\"NNS\"].values())+laplaceAlpha*TotalTags)"
   ]
  },
  {
   "cell_type": "code",
   "execution_count": null,
   "id": "4a498463-39b9-47df-896e-e4ee97c0d74f",
   "metadata": {},
   "outputs": [],
   "source": []
  },
  {
   "cell_type": "code",
   "execution_count": 28,
   "id": "d33797c4-1363-424b-b7f5-8a65db3efc89",
   "metadata": {},
   "outputs": [],
   "source": [
    "#### Training is complete Now Need to use Viterbi algorithm for prediction "
   ]
  },
  {
   "cell_type": "code",
   "execution_count": 29,
   "id": "c3bfdc14-d3d4-4743-9b45-d4e3ee4c4c89",
   "metadata": {},
   "outputs": [],
   "source": [
    "def veterbiRecursion(prevState,poslist,probTillNow,CurrIndex,sentence,UniqueWords):\n",
    "    if probTillNow <=10**-7:\n",
    "        return [poslist,probTillNow]\n",
    "    if CurrIndex>=len(sentence):\n",
    "        return [poslist,probTillNow]\n",
    "\n",
    "    maxProb=0\n",
    "    maxProbPath=[]\n",
    "    check=0\n",
    "    for tags in uniquesTags:\n",
    "        if tags in TransitiveDict[prevState]:\n",
    "            Pt=(TransitiveDict[prevState][tags]+laplaceAlpha)/(sum(TransitiveDict[prevState].values())+laplaceAlpha*TotalTags)\n",
    "        else:\n",
    "            Pt=0\n",
    "\n",
    "        \n",
    "        if sentence[CurrIndex] in FinalEmissionDic[tags]:\n",
    "            Pe=(FinalEmissionDic[tags][sentence[CurrIndex]]+laplaceAlpha)/(sum(FinalEmissionDic[tags].values())+laplaceAlpha*vocab)\n",
    "            finalprob=Pt*Pe*probTillNow*1000\n",
    "            path,prob=veterbiRecursion(tags,poslist+[tags],finalprob,CurrIndex+1,sentence,UniqueWords)\n",
    "            check=1\n",
    "        else:\n",
    "            # Pe=(laplaceAlpha)/(sum(FinalEmissionDic[tags].values())+laplaceAlpha*vocab)\n",
    "            if sentence[CurrIndex] not in UniqueWords:\n",
    "                Pe=0.0001\n",
    "                finalprob=Pt*Pe*probTillNow*1000\n",
    "                path,prob=veterbiRecursion(tags,poslist+[\"UK\"],finalprob,CurrIndex+1,sentence,UniqueWords)\n",
    "                check=1\n",
    "\n",
    "\n",
    "        if check and prob>maxProb  :\n",
    "            maxProbPath=list(path)\n",
    "            maxProb=prob\n",
    "    return [maxProbPath,maxProb]\n",
    "            \n"
   ]
  },
  {
   "cell_type": "code",
   "execution_count": 30,
   "id": "bfcf6440-109a-415c-bfd4-b25faf5c24d5",
   "metadata": {},
   "outputs": [
    {
     "data": {
      "text/plain": [
       "37"
      ]
     },
     "execution_count": 30,
     "metadata": {},
     "output_type": "execute_result"
    }
   ],
   "source": [
    "len(TransitiveDict.keys())"
   ]
  },
  {
   "cell_type": "code",
   "execution_count": 31,
   "id": "db55224f-3dc8-4787-8691-0db3640b4ebc",
   "metadata": {},
   "outputs": [
    {
     "data": {
      "text/plain": [
       "dict_keys(['NNS', 'IN', 'VBP', 'VBN', 'NNP', 'TO', 'VB', 'DT', 'NN', 'CC', 'JJ', 'PRP', 'VBZ', 'VBG', 'VBD', 'WRB', 'JJR', 'RP', 'MD', 'RB', 'JJS', 'CD', 'POS', 'WDT', 'PRP$', 'WP', 'NNPS', 'WP$', 'EX', 'RBR', 'RBS', 'PDT', 'UH', 'LRB', 'RRB', 'FW'])"
      ]
     },
     "execution_count": 31,
     "metadata": {},
     "output_type": "execute_result"
    }
   ],
   "source": [
    "FinalEmissionDic.keys()"
   ]
  },
  {
   "cell_type": "code",
   "execution_count": 32,
   "id": "3f244009-9d12-44b0-a0dd-90659863002a",
   "metadata": {},
   "outputs": [],
   "source": [
    "# sentence=['It', 'also', 'cited', 'voter', 'ignorance', 'of', 'the', 'nature', 'of', 'choice', 'among', 'the', 'candidates']"
   ]
  },
  {
   "cell_type": "code",
   "execution_count": null,
   "id": "6a730955-da66-4e42-b67b-da24054e8533",
   "metadata": {},
   "outputs": [],
   "source": []
  },
  {
   "cell_type": "code",
   "execution_count": 33,
   "id": "60e0db24-81dc-4faa-a202-a28709db4d76",
   "metadata": {},
   "outputs": [],
   "source": [
    "sentence=data.iloc[130][\"Word\"]"
   ]
  },
  {
   "cell_type": "code",
   "execution_count": 34,
   "id": "17c29e99-fc69-4af2-b250-7125c26e09c2",
   "metadata": {},
   "outputs": [],
   "source": [
    "sentence=sentence[1:-1].replace(\"'\",\"\").replace(\" \",\"\").split(\",\")[0:-1]\n"
   ]
  },
  {
   "cell_type": "code",
   "execution_count": 35,
   "id": "6987edd9-fcd1-4df3-8f80-5dd66f473451",
   "metadata": {},
   "outputs": [
    {
     "name": "stdout",
     "output_type": "stream",
     "text": [
      "['It', 'also', 'cited', 'voter', 'ignorance', 'of', 'the', 'nature', 'of', 'choice', 'among', 'the', 'candidates']\n"
     ]
    }
   ],
   "source": [
    "print(sentence)"
   ]
  },
  {
   "cell_type": "code",
   "execution_count": 36,
   "id": "6f00c57e-6a6a-4114-86af-e168ffbeda39",
   "metadata": {},
   "outputs": [
    {
     "data": {
      "text/plain": [
       "\"['PRP', 'RB', 'VBD', 'NN', 'NN', 'IN', 'DT', 'NN', 'IN', 'NN', 'IN', 'DT', 'NNS', '.']\""
      ]
     },
     "execution_count": 36,
     "metadata": {},
     "output_type": "execute_result"
    }
   ],
   "source": [
    "data.iloc[130][\"POS\"]"
   ]
  },
  {
   "cell_type": "code",
   "execution_count": 37,
   "id": "fabaaaa6-0aed-415a-be56-64b0197665f7",
   "metadata": {},
   "outputs": [],
   "source": [
    "tag,prob=veterbiRecursion('start',[],1,0,sentence,UniqueWords)"
   ]
  },
  {
   "cell_type": "code",
   "execution_count": 38,
   "id": "c56fe99c-24b9-461c-9114-f57826f4c233",
   "metadata": {},
   "outputs": [
    {
     "name": "stdout",
     "output_type": "stream",
     "text": [
      "13\n"
     ]
    },
    {
     "data": {
      "text/plain": [
       "13"
      ]
     },
     "execution_count": 38,
     "metadata": {},
     "output_type": "execute_result"
    }
   ],
   "source": [
    "print(len(tag))\n",
    "len(sentence)"
   ]
  },
  {
   "cell_type": "code",
   "execution_count": 39,
   "id": "a1ad6080-fa60-44dd-8b93-78952e7d4bad",
   "metadata": {},
   "outputs": [
    {
     "name": "stdout",
     "output_type": "stream",
     "text": [
      "['PRP', 'RB', 'VBD', 'NN', 'NN', 'IN', 'DT', 'NN', 'IN', 'NN', 'IN', 'DT', 'NNS']\n"
     ]
    }
   ],
   "source": [
    "print(tag)  ### predicted Tags for the given sentence "
   ]
  },
  {
   "cell_type": "code",
   "execution_count": 40,
   "id": "b77a1c56-fab3-44b9-adc0-47d5f2b4f93e",
   "metadata": {},
   "outputs": [],
   "source": [
    "### Check for all the test sentence and calculate accuracy "
   ]
  },
  {
   "cell_type": "code",
   "execution_count": 41,
   "id": "7854cf64-51e7-4c9d-9854-b79c3caebe25",
   "metadata": {},
   "outputs": [],
   "source": [
    "def predicttag(data):\n",
    "    sentence=data[\"WordList\"]\n",
    "    actualTags=data[\"POSList\"]\n",
    "\n",
    "    tag,prob=veterbiRecursion('start',[],1,0,sentence,UniqueWords)\n",
    "   \n",
    "    return tag\n",
    "    "
   ]
  },
  {
   "cell_type": "code",
   "execution_count": null,
   "id": "49a8e3d8-b902-49b0-b8fa-e9140ad07b01",
   "metadata": {},
   "outputs": [],
   "source": []
  },
  {
   "cell_type": "code",
   "execution_count": 42,
   "id": "e844dc7d-e951-464f-80b8-d12808b0814a",
   "metadata": {},
   "outputs": [],
   "source": [
    "TestData[\"predictedTag\"]=TestData[[\"WordList\",\"POSList\"]].apply(lambda x:predicttag(x),axis=1)"
   ]
  },
  {
   "cell_type": "code",
   "execution_count": 43,
   "id": "71d372e4-1a54-42e3-b845-2655619b5cd8",
   "metadata": {},
   "outputs": [
    {
     "data": {
      "text/html": [
       "<div>\n",
       "<style scoped>\n",
       "    .dataframe tbody tr th:only-of-type {\n",
       "        vertical-align: middle;\n",
       "    }\n",
       "\n",
       "    .dataframe tbody tr th {\n",
       "        vertical-align: top;\n",
       "    }\n",
       "\n",
       "    .dataframe thead th {\n",
       "        text-align: right;\n",
       "    }\n",
       "</style>\n",
       "<table border=\"1\" class=\"dataframe\">\n",
       "  <thead>\n",
       "    <tr style=\"text-align: right;\">\n",
       "      <th></th>\n",
       "      <th>Sentence_ID</th>\n",
       "      <th>Word</th>\n",
       "      <th>POS</th>\n",
       "      <th>Tag</th>\n",
       "      <th>validTagging</th>\n",
       "      <th>WordList</th>\n",
       "      <th>POSList</th>\n",
       "      <th>TagToWordMap</th>\n",
       "      <th>wordCount</th>\n",
       "      <th>UniqueWordCount</th>\n",
       "      <th>predictedTag</th>\n",
       "    </tr>\n",
       "  </thead>\n",
       "  <tbody>\n",
       "    <tr>\n",
       "      <th>41662</th>\n",
       "      <td>Sentence: 47495</td>\n",
       "      <td>['The', 'ministry', 'says', 'eight', 'armed', ...</td>\n",
       "      <td>['DT', 'NN', 'VBZ', 'CD', 'JJ', 'NNS', 'IN', '...</td>\n",
       "      <td>['O', 'O', 'O', 'O', 'O', 'O', 'O', 'O', 'O', ...</td>\n",
       "      <td>True</td>\n",
       "      <td>[The, ministry, says, eight, armed, assailants...</td>\n",
       "      <td>[DT, NN, VBZ, CD, JJ, NNS, IN, CD, NN, NNS, VB...</td>\n",
       "      <td>{'DT': {'The': 1, 'the': 1}, 'NN': {'ministry'...</td>\n",
       "      <td>14</td>\n",
       "      <td>14</td>\n",
       "      <td>[DT, NN, VBZ, CD, JJ, NNS, IN, CD, NN, NNS, VB...</td>\n",
       "    </tr>\n",
       "    <tr>\n",
       "      <th>26783</th>\n",
       "      <td>Sentence: 34102</td>\n",
       "      <td>['A', 'FATHER', ',', 'being', 'on', 'the', 'po...</td>\n",
       "      <td>['DT', 'NN', ',', 'VBG', 'IN', 'DT', 'NN', 'IN...</td>\n",
       "      <td>['O', 'O', 'O', 'O', 'O', 'O', 'O', 'O', 'O', ...</td>\n",
       "      <td>True</td>\n",
       "      <td>[A, FATHER, being, on, the, point, of, death, ...</td>\n",
       "      <td>[DT, NN, VBG, IN, DT, NN, IN, NN, VBD, TO, VB,...</td>\n",
       "      <td>{'DT': {'A': 1, 'the': 2}, 'NN': {'FATHER': 1,...</td>\n",
       "      <td>29</td>\n",
       "      <td>26</td>\n",
       "      <td>[DT, UK, VBG, IN, DT, NN, IN, NN, VBD, TO, VB,...</td>\n",
       "    </tr>\n",
       "    <tr>\n",
       "      <th>40136</th>\n",
       "      <td>Sentence: 46120</td>\n",
       "      <td>['French', 'Interior', 'Minister', 'Brice', 'H...</td>\n",
       "      <td>['JJ', 'NNP', 'NNP', 'NNP', 'NNP', 'VBZ', 'NNP...</td>\n",
       "      <td>['B-gpe', 'O', 'B-per', 'I-per', 'I-per', 'O',...</td>\n",
       "      <td>True</td>\n",
       "      <td>[French, Interior, Minister, Brice, Hortefeux,...</td>\n",
       "      <td>[JJ, NNP, NNP, NNP, NNP, VBZ, NNP, NNP, VBZ, V...</td>\n",
       "      <td>{'JJ': {'French': 1, 'particular': 1}, 'NNP': ...</td>\n",
       "      <td>22</td>\n",
       "      <td>21</td>\n",
       "      <td>[JJ, NNP, NNP, UK, NNP, VBZ, NNP, NNP, VBZ, VB...</td>\n",
       "    </tr>\n",
       "  </tbody>\n",
       "</table>\n",
       "</div>"
      ],
      "text/plain": [
       "           Sentence_ID                                               Word  \\\n",
       "41662  Sentence: 47495  ['The', 'ministry', 'says', 'eight', 'armed', ...   \n",
       "26783  Sentence: 34102  ['A', 'FATHER', ',', 'being', 'on', 'the', 'po...   \n",
       "40136  Sentence: 46120  ['French', 'Interior', 'Minister', 'Brice', 'H...   \n",
       "\n",
       "                                                     POS  \\\n",
       "41662  ['DT', 'NN', 'VBZ', 'CD', 'JJ', 'NNS', 'IN', '...   \n",
       "26783  ['DT', 'NN', ',', 'VBG', 'IN', 'DT', 'NN', 'IN...   \n",
       "40136  ['JJ', 'NNP', 'NNP', 'NNP', 'NNP', 'VBZ', 'NNP...   \n",
       "\n",
       "                                                     Tag  validTagging  \\\n",
       "41662  ['O', 'O', 'O', 'O', 'O', 'O', 'O', 'O', 'O', ...          True   \n",
       "26783  ['O', 'O', 'O', 'O', 'O', 'O', 'O', 'O', 'O', ...          True   \n",
       "40136  ['B-gpe', 'O', 'B-per', 'I-per', 'I-per', 'O',...          True   \n",
       "\n",
       "                                                WordList  \\\n",
       "41662  [The, ministry, says, eight, armed, assailants...   \n",
       "26783  [A, FATHER, being, on, the, point, of, death, ...   \n",
       "40136  [French, Interior, Minister, Brice, Hortefeux,...   \n",
       "\n",
       "                                                 POSList  \\\n",
       "41662  [DT, NN, VBZ, CD, JJ, NNS, IN, CD, NN, NNS, VB...   \n",
       "26783  [DT, NN, VBG, IN, DT, NN, IN, NN, VBD, TO, VB,...   \n",
       "40136  [JJ, NNP, NNP, NNP, NNP, VBZ, NNP, NNP, VBZ, V...   \n",
       "\n",
       "                                            TagToWordMap  wordCount  \\\n",
       "41662  {'DT': {'The': 1, 'the': 1}, 'NN': {'ministry'...         14   \n",
       "26783  {'DT': {'A': 1, 'the': 2}, 'NN': {'FATHER': 1,...         29   \n",
       "40136  {'JJ': {'French': 1, 'particular': 1}, 'NNP': ...         22   \n",
       "\n",
       "       UniqueWordCount                                       predictedTag  \n",
       "41662               14  [DT, NN, VBZ, CD, JJ, NNS, IN, CD, NN, NNS, VB...  \n",
       "26783               26  [DT, UK, VBG, IN, DT, NN, IN, NN, VBD, TO, VB,...  \n",
       "40136               21  [JJ, NNP, NNP, UK, NNP, VBZ, NNP, NNP, VBZ, VB...  "
      ]
     },
     "execution_count": 43,
     "metadata": {},
     "output_type": "execute_result"
    }
   ],
   "source": [
    "TestData.head(3)"
   ]
  },
  {
   "cell_type": "code",
   "execution_count": 44,
   "id": "3fcdb8f7-caf2-46cb-b809-a5b9244c3b3f",
   "metadata": {},
   "outputs": [],
   "source": [
    "def CheckAccuracy(data):\n",
    "    actualTags=data[\"POSList\"]\n",
    "    predictedTags=data[\"predictedTag\"]\n",
    "\n",
    "    count=0\n",
    "    for i in range(len(predictedTags)):\n",
    "        if predictedTags[i]==actualTags[i]:\n",
    "            count+=1\n",
    "    return count\n",
    "    "
   ]
  },
  {
   "cell_type": "code",
   "execution_count": 45,
   "id": "22c5619b-0c2b-4e9c-8dd6-0baf0d025faf",
   "metadata": {},
   "outputs": [],
   "source": [
    "TestData[\"CorrectPredictionCount\"]=TestData.apply(lambda x:CheckAccuracy(x),axis=1)"
   ]
  },
  {
   "cell_type": "code",
   "execution_count": 46,
   "id": "97c6420a-2428-41d9-a982-71eb3bf79ef7",
   "metadata": {},
   "outputs": [
    {
     "data": {
      "text/html": [
       "<div>\n",
       "<style scoped>\n",
       "    .dataframe tbody tr th:only-of-type {\n",
       "        vertical-align: middle;\n",
       "    }\n",
       "\n",
       "    .dataframe tbody tr th {\n",
       "        vertical-align: top;\n",
       "    }\n",
       "\n",
       "    .dataframe thead th {\n",
       "        text-align: right;\n",
       "    }\n",
       "</style>\n",
       "<table border=\"1\" class=\"dataframe\">\n",
       "  <thead>\n",
       "    <tr style=\"text-align: right;\">\n",
       "      <th></th>\n",
       "      <th>Sentence_ID</th>\n",
       "      <th>Word</th>\n",
       "      <th>POS</th>\n",
       "      <th>Tag</th>\n",
       "      <th>validTagging</th>\n",
       "      <th>WordList</th>\n",
       "      <th>POSList</th>\n",
       "      <th>TagToWordMap</th>\n",
       "      <th>wordCount</th>\n",
       "      <th>UniqueWordCount</th>\n",
       "      <th>predictedTag</th>\n",
       "      <th>CorrectPredictionCount</th>\n",
       "    </tr>\n",
       "  </thead>\n",
       "  <tbody>\n",
       "    <tr>\n",
       "      <th>41662</th>\n",
       "      <td>Sentence: 47495</td>\n",
       "      <td>['The', 'ministry', 'says', 'eight', 'armed', ...</td>\n",
       "      <td>['DT', 'NN', 'VBZ', 'CD', 'JJ', 'NNS', 'IN', '...</td>\n",
       "      <td>['O', 'O', 'O', 'O', 'O', 'O', 'O', 'O', 'O', ...</td>\n",
       "      <td>True</td>\n",
       "      <td>[The, ministry, says, eight, armed, assailants...</td>\n",
       "      <td>[DT, NN, VBZ, CD, JJ, NNS, IN, CD, NN, NNS, VB...</td>\n",
       "      <td>{'DT': {'The': 1, 'the': 1}, 'NN': {'ministry'...</td>\n",
       "      <td>14</td>\n",
       "      <td>14</td>\n",
       "      <td>[DT, NN, VBZ, CD, JJ, NNS, IN, CD, NN, NNS, VB...</td>\n",
       "      <td>14</td>\n",
       "    </tr>\n",
       "    <tr>\n",
       "      <th>26783</th>\n",
       "      <td>Sentence: 34102</td>\n",
       "      <td>['A', 'FATHER', ',', 'being', 'on', 'the', 'po...</td>\n",
       "      <td>['DT', 'NN', ',', 'VBG', 'IN', 'DT', 'NN', 'IN...</td>\n",
       "      <td>['O', 'O', 'O', 'O', 'O', 'O', 'O', 'O', 'O', ...</td>\n",
       "      <td>True</td>\n",
       "      <td>[A, FATHER, being, on, the, point, of, death, ...</td>\n",
       "      <td>[DT, NN, VBG, IN, DT, NN, IN, NN, VBD, TO, VB,...</td>\n",
       "      <td>{'DT': {'A': 1, 'the': 2}, 'NN': {'FATHER': 1,...</td>\n",
       "      <td>29</td>\n",
       "      <td>26</td>\n",
       "      <td>[DT, UK, VBG, IN, DT, NN, IN, NN, VBD, TO, VB,...</td>\n",
       "      <td>28</td>\n",
       "    </tr>\n",
       "    <tr>\n",
       "      <th>40136</th>\n",
       "      <td>Sentence: 46120</td>\n",
       "      <td>['French', 'Interior', 'Minister', 'Brice', 'H...</td>\n",
       "      <td>['JJ', 'NNP', 'NNP', 'NNP', 'NNP', 'VBZ', 'NNP...</td>\n",
       "      <td>['B-gpe', 'O', 'B-per', 'I-per', 'I-per', 'O',...</td>\n",
       "      <td>True</td>\n",
       "      <td>[French, Interior, Minister, Brice, Hortefeux,...</td>\n",
       "      <td>[JJ, NNP, NNP, NNP, NNP, VBZ, NNP, NNP, VBZ, V...</td>\n",
       "      <td>{'JJ': {'French': 1, 'particular': 1}, 'NNP': ...</td>\n",
       "      <td>22</td>\n",
       "      <td>21</td>\n",
       "      <td>[JJ, NNP, NNP, UK, NNP, VBZ, NNP, NNP, VBZ, VB...</td>\n",
       "      <td>21</td>\n",
       "    </tr>\n",
       "  </tbody>\n",
       "</table>\n",
       "</div>"
      ],
      "text/plain": [
       "           Sentence_ID                                               Word  \\\n",
       "41662  Sentence: 47495  ['The', 'ministry', 'says', 'eight', 'armed', ...   \n",
       "26783  Sentence: 34102  ['A', 'FATHER', ',', 'being', 'on', 'the', 'po...   \n",
       "40136  Sentence: 46120  ['French', 'Interior', 'Minister', 'Brice', 'H...   \n",
       "\n",
       "                                                     POS  \\\n",
       "41662  ['DT', 'NN', 'VBZ', 'CD', 'JJ', 'NNS', 'IN', '...   \n",
       "26783  ['DT', 'NN', ',', 'VBG', 'IN', 'DT', 'NN', 'IN...   \n",
       "40136  ['JJ', 'NNP', 'NNP', 'NNP', 'NNP', 'VBZ', 'NNP...   \n",
       "\n",
       "                                                     Tag  validTagging  \\\n",
       "41662  ['O', 'O', 'O', 'O', 'O', 'O', 'O', 'O', 'O', ...          True   \n",
       "26783  ['O', 'O', 'O', 'O', 'O', 'O', 'O', 'O', 'O', ...          True   \n",
       "40136  ['B-gpe', 'O', 'B-per', 'I-per', 'I-per', 'O',...          True   \n",
       "\n",
       "                                                WordList  \\\n",
       "41662  [The, ministry, says, eight, armed, assailants...   \n",
       "26783  [A, FATHER, being, on, the, point, of, death, ...   \n",
       "40136  [French, Interior, Minister, Brice, Hortefeux,...   \n",
       "\n",
       "                                                 POSList  \\\n",
       "41662  [DT, NN, VBZ, CD, JJ, NNS, IN, CD, NN, NNS, VB...   \n",
       "26783  [DT, NN, VBG, IN, DT, NN, IN, NN, VBD, TO, VB,...   \n",
       "40136  [JJ, NNP, NNP, NNP, NNP, VBZ, NNP, NNP, VBZ, V...   \n",
       "\n",
       "                                            TagToWordMap  wordCount  \\\n",
       "41662  {'DT': {'The': 1, 'the': 1}, 'NN': {'ministry'...         14   \n",
       "26783  {'DT': {'A': 1, 'the': 2}, 'NN': {'FATHER': 1,...         29   \n",
       "40136  {'JJ': {'French': 1, 'particular': 1}, 'NNP': ...         22   \n",
       "\n",
       "       UniqueWordCount                                       predictedTag  \\\n",
       "41662               14  [DT, NN, VBZ, CD, JJ, NNS, IN, CD, NN, NNS, VB...   \n",
       "26783               26  [DT, UK, VBG, IN, DT, NN, IN, NN, VBD, TO, VB,...   \n",
       "40136               21  [JJ, NNP, NNP, UK, NNP, VBZ, NNP, NNP, VBZ, VB...   \n",
       "\n",
       "       CorrectPredictionCount  \n",
       "41662                      14  \n",
       "26783                      28  \n",
       "40136                      21  "
      ]
     },
     "execution_count": 46,
     "metadata": {},
     "output_type": "execute_result"
    }
   ],
   "source": [
    "TestData.head(3)"
   ]
  },
  {
   "cell_type": "code",
   "execution_count": 47,
   "id": "0340b592-ca0a-4e2f-bd7f-96e3ffc526a8",
   "metadata": {},
   "outputs": [
    {
     "name": "stdout",
     "output_type": "stream",
     "text": [
      "Total Word in test data:-- 977\n",
      "Total correct predicted Word  in test data:-- 809\n"
     ]
    }
   ],
   "source": [
    "print(\"Total Word in test data:--\",TestData[\"wordCount\"].sum())\n",
    "print(\"Total correct predicted Word  in test data:--\",TestData[\"CorrectPredictionCount\"].sum())"
   ]
  },
  {
   "cell_type": "code",
   "execution_count": 48,
   "id": "81eba478-5a0b-4392-bcd4-3389777de97d",
   "metadata": {},
   "outputs": [
    {
     "name": "stdout",
     "output_type": "stream",
     "text": [
      "accuracy:- 0.8280450358239508\n"
     ]
    }
   ],
   "source": [
    "accuracy=TestData[\"CorrectPredictionCount\"].sum()/TestData[\"wordCount\"].sum()\n",
    "print(\"accuracy:-\",accuracy)"
   ]
  },
  {
   "cell_type": "code",
   "execution_count": null,
   "id": "3c91f063-c31f-491b-9267-c21538bfe2a7",
   "metadata": {},
   "outputs": [],
   "source": []
  },
  {
   "cell_type": "code",
   "execution_count": null,
   "id": "feca0754-a1d2-491c-8a9b-2d2f456a02d4",
   "metadata": {},
   "outputs": [],
   "source": []
  }
 ],
 "metadata": {
  "kernelspec": {
   "display_name": "pythonvenv",
   "language": "python",
   "name": "pythonvenv"
  },
  "language_info": {
   "codemirror_mode": {
    "name": "ipython",
    "version": 3
   },
   "file_extension": ".py",
   "mimetype": "text/x-python",
   "name": "python",
   "nbconvert_exporter": "python",
   "pygments_lexer": "ipython3",
   "version": "3.12.2"
  }
 },
 "nbformat": 4,
 "nbformat_minor": 5
}
