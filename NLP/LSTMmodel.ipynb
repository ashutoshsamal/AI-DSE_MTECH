{
 "cells": [
  {
   "cell_type": "code",
   "execution_count": 1,
   "id": "b009379d-c0a8-4063-96a1-3496ae6586b9",
   "metadata": {},
   "outputs": [],
   "source": [
    "from tensorflow.keras.layers import Dense,LSTM,Embedding\n",
    "import pandas as pd \n",
    "import numpy as np\n",
    "import matplotlib.pyplot as plt\n",
    "from sklearn.model_selection import train_test_split\n",
    "from sklearn.preprocessing import StandardScaler\n",
    "import tensorflow\n",
    "from tensorflow import keras\n",
    "from tensorflow.keras import Sequential\n",
    "from tensorflow.keras.preprocessing.sequence import pad_sequences\n",
    "from tensorflow.keras.utils import to_categorical\n",
    "from tensorflow.keras.models import load_model\n",
    "\n"
   ]
  },
  {
   "cell_type": "code",
   "execution_count": 2,
   "id": "089ff64a-3a99-4c94-9f4a-fc1f533dbb9f",
   "metadata": {},
   "outputs": [],
   "source": [
    "words=pd.read_csv(\"US_Names_data.csv\")['name'].drop_duplicates().dropna()"
   ]
  },
  {
   "cell_type": "code",
   "execution_count": 3,
   "id": "22274c64-3327-4296-8f43-639466b9ec5b",
   "metadata": {},
   "outputs": [
    {
     "data": {
      "text/plain": [
       "0            Madison\n",
       "1              Emily\n",
       "2             Hannah\n",
       "3             Ashley\n",
       "4            Abigail\n",
       "             ...    \n",
       "1917175        Amnen\n",
       "1917208       Finnan\n",
       "1917257    Peregrine\n",
       "1920174       Dierks\n",
       "1922023        Sully\n",
       "Name: name, Length: 21118, dtype: object"
      ]
     },
     "execution_count": 3,
     "metadata": {},
     "output_type": "execute_result"
    }
   ],
   "source": [
    "words"
   ]
  },
  {
   "cell_type": "code",
   "execution_count": 4,
   "id": "ddf4de67-cc45-4318-a38e-1df906abb16e",
   "metadata": {},
   "outputs": [],
   "source": [
    "wordList=list(words)"
   ]
  },
  {
   "cell_type": "code",
   "execution_count": null,
   "id": "c9a590e5-8035-43dd-8e9c-0c17c65869b0",
   "metadata": {},
   "outputs": [],
   "source": []
  },
  {
   "cell_type": "code",
   "execution_count": 5,
   "id": "da299c1d-4220-41c5-b2f5-74af88666403",
   "metadata": {},
   "outputs": [],
   "source": [
    "#### Create a char dectionary "
   ]
  },
  {
   "cell_type": "code",
   "execution_count": 6,
   "id": "2298559c-5f8d-4811-b4a1-5814e3eccb3c",
   "metadata": {},
   "outputs": [
    {
     "data": {
      "text/plain": [
       "97"
      ]
     },
     "execution_count": 6,
     "metadata": {},
     "output_type": "execute_result"
    }
   ],
   "source": [
    "ord(\"a\")"
   ]
  },
  {
   "cell_type": "code",
   "execution_count": 7,
   "id": "8a4209db-2b56-46a8-94f8-050aae39dc62",
   "metadata": {},
   "outputs": [],
   "source": [
    "charToInt={\"end\":0}\n",
    "IntToChar={0:\"end\"}"
   ]
  },
  {
   "cell_type": "code",
   "execution_count": 8,
   "id": "a8f820bb-4c9e-491f-adf9-e0c47251a689",
   "metadata": {},
   "outputs": [],
   "source": [
    "for i in range(26):\n",
    "    charToInt[chr(i+97)]=(i+1)\n",
    "    IntToChar[i+1]=chr(i+97)\n",
    "    "
   ]
  },
  {
   "cell_type": "code",
   "execution_count": 44,
   "id": "c27bb9fa-4b7a-4007-9843-5e5b3c75a713",
   "metadata": {},
   "outputs": [
    {
     "data": {
      "text/plain": [
       "{'end': 0,\n",
       " 'a': 1,\n",
       " 'b': 2,\n",
       " 'c': 3,\n",
       " 'd': 4,\n",
       " 'e': 5,\n",
       " 'f': 6,\n",
       " 'g': 7,\n",
       " 'h': 8,\n",
       " 'i': 9,\n",
       " 'j': 10,\n",
       " 'k': 11,\n",
       " 'l': 12,\n",
       " 'm': 13,\n",
       " 'n': 14,\n",
       " 'o': 15,\n",
       " 'p': 16,\n",
       " 'q': 17,\n",
       " 'r': 18,\n",
       " 's': 19,\n",
       " 't': 20,\n",
       " 'u': 21,\n",
       " 'v': 22,\n",
       " 'w': 23,\n",
       " 'x': 24,\n",
       " 'y': 25,\n",
       " 'z': 26}"
      ]
     },
     "execution_count": 44,
     "metadata": {},
     "output_type": "execute_result"
    }
   ],
   "source": [
    "charToInt"
   ]
  },
  {
   "cell_type": "code",
   "execution_count": 9,
   "id": "6751f667-fe2a-4645-8280-0fbb6c20ef33",
   "metadata": {},
   "outputs": [],
   "source": [
    "## Integer incoding of all words "
   ]
  },
  {
   "cell_type": "code",
   "execution_count": 10,
   "id": "5b71bd88-b52c-4e99-adaf-09ef28006ad7",
   "metadata": {},
   "outputs": [
    {
     "data": {
      "text/plain": [
       "21118"
      ]
     },
     "execution_count": 10,
     "metadata": {},
     "output_type": "execute_result"
    }
   ],
   "source": [
    "len(wordList)"
   ]
  },
  {
   "cell_type": "code",
   "execution_count": 11,
   "id": "17514c31-f350-4a96-b7ce-2baf8c5e06da",
   "metadata": {},
   "outputs": [],
   "source": [
    "c=0\n",
    "finalwordList=[]\n",
    "for word in wordList:\n",
    "    if len(word)<=15 and len(word)>2:\n",
    "        finalwordList.append(word)\n",
    "        \n",
    "        \n",
    "        \n",
    "   "
   ]
  },
  {
   "cell_type": "code",
   "execution_count": 12,
   "id": "4529c4c5-bcc9-45e2-9933-b9a35cdfc2f8",
   "metadata": {},
   "outputs": [
    {
     "data": {
      "text/plain": [
       "21067"
      ]
     },
     "execution_count": 12,
     "metadata": {},
     "output_type": "execute_result"
    }
   ],
   "source": [
    "len(finalwordList)"
   ]
  },
  {
   "cell_type": "code",
   "execution_count": 13,
   "id": "12f12325-e9fa-4315-aa4e-57e443d71077",
   "metadata": {},
   "outputs": [],
   "source": [
    "def Encoding(words):\n",
    "    result=[]\n",
    "    for word in words:\n",
    "        charMapping=[]\n",
    "        for c in word.lower():\n",
    "            charMapping.append(charToInt[c])\n",
    "        charMapping.append(0)\n",
    "        result.append(charMapping)\n",
    "    return result \n",
    "        \n",
    "            \n",
    "            "
   ]
  },
  {
   "cell_type": "code",
   "execution_count": 14,
   "id": "55d2eec3-58fa-4ae9-996c-b53e783e18d7",
   "metadata": {},
   "outputs": [],
   "source": [
    "IntigerembeddedWords=Encoding(finalwordList)"
   ]
  },
  {
   "cell_type": "code",
   "execution_count": 15,
   "id": "792f59af-0ef3-43ad-b815-aaa65dabe88c",
   "metadata": {},
   "outputs": [],
   "source": [
    "maxLen=max([len(x) for x in IntigerembeddedWords])"
   ]
  },
  {
   "cell_type": "code",
   "execution_count": 16,
   "id": "d9a29096-346c-418d-b5a9-33fb46693ae3",
   "metadata": {},
   "outputs": [
    {
     "data": {
      "text/plain": [
       "15"
      ]
     },
     "execution_count": 16,
     "metadata": {},
     "output_type": "execute_result"
    }
   ],
   "source": [
    "maxLen"
   ]
  },
  {
   "cell_type": "code",
   "execution_count": 17,
   "id": "5bccfe83-73ca-440f-a950-e3eb08a00223",
   "metadata": {},
   "outputs": [
    {
     "data": {
      "text/plain": [
       "21067"
      ]
     },
     "execution_count": 17,
     "metadata": {},
     "output_type": "execute_result"
    }
   ],
   "source": [
    "len(IntigerembeddedWords)"
   ]
  },
  {
   "cell_type": "code",
   "execution_count": 18,
   "id": "196fb496-b98f-45ae-99d6-acf3c084011a",
   "metadata": {},
   "outputs": [
    {
     "data": {
      "text/plain": [
       "[3, 8, 18, 9, 19, 20, 9, 14, 1, 0]"
      ]
     },
     "execution_count": 18,
     "metadata": {},
     "output_type": "execute_result"
    }
   ],
   "source": [
    "IntigerembeddedWords[100]"
   ]
  },
  {
   "cell_type": "code",
   "execution_count": 19,
   "id": "ff080d6c-16fb-48e8-b69f-92a295066b62",
   "metadata": {},
   "outputs": [],
   "source": [
    "### Creating X and Y data for tranning"
   ]
  },
  {
   "cell_type": "code",
   "execution_count": 20,
   "id": "91eaeef6-4a43-4efd-b3ff-2ddff786e001",
   "metadata": {},
   "outputs": [
    {
     "data": {
      "text/plain": [
       "[3, 8, 18, 9, 19, 20]"
      ]
     },
     "execution_count": 20,
     "metadata": {},
     "output_type": "execute_result"
    }
   ],
   "source": [
    "IntigerembeddedWords[100][:6]"
   ]
  },
  {
   "cell_type": "code",
   "execution_count": 21,
   "id": "453e62f5-ba24-472f-acbb-7e5a4c8e44e5",
   "metadata": {},
   "outputs": [
    {
     "data": {
      "text/plain": [
       "8"
      ]
     },
     "execution_count": 21,
     "metadata": {},
     "output_type": "execute_result"
    }
   ],
   "source": [
    "IntigerembeddedWords[100][1]"
   ]
  },
  {
   "cell_type": "code",
   "execution_count": 22,
   "id": "412b8dcc-2ad3-4b99-a07f-b7b6fbe1bd5f",
   "metadata": {},
   "outputs": [],
   "source": [
    "inputdata=[]\n",
    "for emmbededword in IntigerembeddedWords:\n",
    "    for i in range(4,len(emmbededword)+1):\n",
    "        inputdata.append(emmbededword[:i])\n",
    "\n",
    "        "
   ]
  },
  {
   "cell_type": "code",
   "execution_count": 23,
   "id": "9768e3aa-0461-41d2-bce0-5ae90736d20e",
   "metadata": {},
   "outputs": [],
   "source": [
    "padded_sequence=pad_sequences(inputdata,maxlen=maxLen,padding='pre')"
   ]
  },
  {
   "cell_type": "code",
   "execution_count": 24,
   "id": "5ce9ee5c-853d-4eff-8c90-bcdb842b1136",
   "metadata": {},
   "outputs": [
    {
     "data": {
      "text/plain": [
       "(88063, 15)"
      ]
     },
     "execution_count": 24,
     "metadata": {},
     "output_type": "execute_result"
    }
   ],
   "source": [
    "padded_sequence.shape"
   ]
  },
  {
   "cell_type": "code",
   "execution_count": 25,
   "id": "a00e5b24-55b4-4352-8a37-c004ea06d5d8",
   "metadata": {},
   "outputs": [
    {
     "data": {
      "text/plain": [
       "array([[ 0,  0,  0, ...,  1,  4,  9],\n",
       "       [ 0,  0,  0, ...,  4,  9, 19],\n",
       "       [ 0,  0,  0, ...,  9, 19, 15],\n",
       "       ...,\n",
       "       [ 0,  0,  0, ..., 21, 12, 12],\n",
       "       [ 0,  0,  0, ..., 12, 12, 25],\n",
       "       [ 0,  0,  0, ..., 12, 25,  0]], dtype=int32)"
      ]
     },
     "execution_count": 25,
     "metadata": {},
     "output_type": "execute_result"
    }
   ],
   "source": [
    "padded_sequence"
   ]
  },
  {
   "cell_type": "code",
   "execution_count": 26,
   "id": "e218766f-6fd7-4b3a-bef2-fb6629b0cf27",
   "metadata": {},
   "outputs": [],
   "source": [
    "X=padded_sequence[:,: -1]"
   ]
  },
  {
   "cell_type": "code",
   "execution_count": 27,
   "id": "dacb0186-4375-417c-98c3-d32850b5076d",
   "metadata": {},
   "outputs": [
    {
     "data": {
      "text/plain": [
       "(88063, 14)"
      ]
     },
     "execution_count": 27,
     "metadata": {},
     "output_type": "execute_result"
    }
   ],
   "source": [
    "X.shape"
   ]
  },
  {
   "cell_type": "code",
   "execution_count": 28,
   "id": "46b2a25f-8492-429e-b128-832aa0809c2d",
   "metadata": {},
   "outputs": [],
   "source": [
    "Y=padded_sequence[:,-1]"
   ]
  },
  {
   "cell_type": "code",
   "execution_count": 29,
   "id": "f29e36fa-d90e-4c02-b1e5-4af39fab9e17",
   "metadata": {},
   "outputs": [
    {
     "data": {
      "text/plain": [
       "(88063,)"
      ]
     },
     "execution_count": 29,
     "metadata": {},
     "output_type": "execute_result"
    }
   ],
   "source": [
    "Y.shape"
   ]
  },
  {
   "cell_type": "code",
   "execution_count": 30,
   "id": "f995f198-bfa8-468a-b7d3-41e37b20a953",
   "metadata": {},
   "outputs": [
    {
     "data": {
      "text/plain": [
       "array([ 0,  0,  0,  0,  0,  0,  0,  0,  0, 13,  1,  4,  9, 19],\n",
       "      dtype=int32)"
      ]
     },
     "execution_count": 30,
     "metadata": {},
     "output_type": "execute_result"
    }
   ],
   "source": [
    "X[2]"
   ]
  },
  {
   "cell_type": "code",
   "execution_count": 31,
   "id": "1e29d192-2a0f-4abe-8074-72d372fed8a3",
   "metadata": {},
   "outputs": [
    {
     "data": {
      "text/plain": [
       "15"
      ]
     },
     "execution_count": 31,
     "metadata": {},
     "output_type": "execute_result"
    }
   ],
   "source": [
    "Y[2]"
   ]
  },
  {
   "cell_type": "code",
   "execution_count": 32,
   "id": "4ee6b0a9-c17c-4581-aea2-b3135d0af656",
   "metadata": {},
   "outputs": [],
   "source": [
    "cat_Y=to_categorical(Y,num_classes=27)"
   ]
  },
  {
   "cell_type": "code",
   "execution_count": 33,
   "id": "c827e70b-aa6f-438f-83e3-c68cb8229a7f",
   "metadata": {},
   "outputs": [
    {
     "data": {
      "text/plain": [
       "(88063, 27)"
      ]
     },
     "execution_count": 33,
     "metadata": {},
     "output_type": "execute_result"
    }
   ],
   "source": [
    "cat_Y.shape"
   ]
  },
  {
   "cell_type": "code",
   "execution_count": 34,
   "id": "08dbd355-473e-46f3-b764-696983ae281a",
   "metadata": {},
   "outputs": [],
   "source": [
    "Train_size=int(len(X)*0.8)"
   ]
  },
  {
   "cell_type": "code",
   "execution_count": 35,
   "id": "974c9fc1-a028-4871-ac0d-15322e824db3",
   "metadata": {},
   "outputs": [],
   "source": [
    "X_train=X[:Train_size+8]\n",
    "Y_train=cat_Y[:Train_size+8]\n"
   ]
  },
  {
   "cell_type": "code",
   "execution_count": 36,
   "id": "b7abd69e-fba5-47ec-a0ca-270a29add3cd",
   "metadata": {},
   "outputs": [],
   "source": [
    "X_test=X[Train_size:]\n",
    "Y_test=cat_Y[Train_size:]"
   ]
  },
  {
   "cell_type": "code",
   "execution_count": 37,
   "id": "633a651f-6956-4037-80f6-8b7cd6cce3db",
   "metadata": {},
   "outputs": [
    {
     "data": {
      "text/plain": [
       "(17613, 14)"
      ]
     },
     "execution_count": 37,
     "metadata": {},
     "output_type": "execute_result"
    }
   ],
   "source": [
    "X_test.shape"
   ]
  },
  {
   "cell_type": "code",
   "execution_count": 38,
   "id": "eef7c12a-af78-4fa2-b77d-7d867ed5ba99",
   "metadata": {},
   "outputs": [
    {
     "data": {
      "text/plain": [
       "(70458, 14)"
      ]
     },
     "execution_count": 38,
     "metadata": {},
     "output_type": "execute_result"
    }
   ],
   "source": [
    "X_train.shape"
   ]
  },
  {
   "cell_type": "code",
   "execution_count": 39,
   "id": "b9b8d098-0914-442e-96ff-0404cd744526",
   "metadata": {},
   "outputs": [
    {
     "data": {
      "text/plain": [
       "(70458, 27)"
      ]
     },
     "execution_count": 39,
     "metadata": {},
     "output_type": "execute_result"
    }
   ],
   "source": [
    "Y_train.shape"
   ]
  },
  {
   "cell_type": "code",
   "execution_count": 40,
   "id": "5f513ad6-568e-4700-8080-41bc35ce7ce8",
   "metadata": {},
   "outputs": [],
   "source": [
    "model=Sequential()\n",
    "model.add(Embedding(27,10))\n",
    "model.add(LSTM(150,return_sequences=False,return_state=False))\n",
    "model.add(Dense(27,activation='softmax'))"
   ]
  },
  {
   "cell_type": "code",
   "execution_count": 41,
   "id": "5c2994b0-1e4c-4205-8a1e-7ce56de17bce",
   "metadata": {},
   "outputs": [],
   "source": [
    "model.compile(loss='categorical_crossentropy',optimizer='adam',metrics=['accuracy'])\n",
    "# model.build((12,1))"
   ]
  },
  {
   "cell_type": "code",
   "execution_count": 45,
   "id": "8bcf5f15-8471-456c-8739-7aa82c0c8223",
   "metadata": {},
   "outputs": [
    {
     "data": {
      "text/html": [
       "<pre style=\"white-space:pre;overflow-x:auto;line-height:normal;font-family:Menlo,'DejaVu Sans Mono',consolas,'Courier New',monospace\"><span style=\"font-weight: bold\">Model: \"sequential\"</span>\n",
       "</pre>\n"
      ],
      "text/plain": [
       "\u001b[1mModel: \"sequential\"\u001b[0m\n"
      ]
     },
     "metadata": {},
     "output_type": "display_data"
    },
    {
     "data": {
      "text/html": [
       "<pre style=\"white-space:pre;overflow-x:auto;line-height:normal;font-family:Menlo,'DejaVu Sans Mono',consolas,'Courier New',monospace\">┏━━━━━━━━━━━━━━━━━━━━━━━━━━━━━━━━━┳━━━━━━━━━━━━━━━━━━━━━━━━┳━━━━━━━━━━━━━━━┓\n",
       "┃<span style=\"font-weight: bold\"> Layer (type)                    </span>┃<span style=\"font-weight: bold\"> Output Shape           </span>┃<span style=\"font-weight: bold\">       Param # </span>┃\n",
       "┡━━━━━━━━━━━━━━━━━━━━━━━━━━━━━━━━━╇━━━━━━━━━━━━━━━━━━━━━━━━╇━━━━━━━━━━━━━━━┩\n",
       "│ embedding (<span style=\"color: #0087ff; text-decoration-color: #0087ff\">Embedding</span>)           │ (<span style=\"color: #00d7ff; text-decoration-color: #00d7ff\">None</span>, <span style=\"color: #00af00; text-decoration-color: #00af00\">14</span>, <span style=\"color: #00af00; text-decoration-color: #00af00\">10</span>)         │           <span style=\"color: #00af00; text-decoration-color: #00af00\">270</span> │\n",
       "├─────────────────────────────────┼────────────────────────┼───────────────┤\n",
       "│ lstm (<span style=\"color: #0087ff; text-decoration-color: #0087ff\">LSTM</span>)                     │ (<span style=\"color: #00d7ff; text-decoration-color: #00d7ff\">None</span>, <span style=\"color: #00af00; text-decoration-color: #00af00\">150</span>)            │        <span style=\"color: #00af00; text-decoration-color: #00af00\">96,600</span> │\n",
       "├─────────────────────────────────┼────────────────────────┼───────────────┤\n",
       "│ dense (<span style=\"color: #0087ff; text-decoration-color: #0087ff\">Dense</span>)                   │ (<span style=\"color: #00d7ff; text-decoration-color: #00d7ff\">None</span>, <span style=\"color: #00af00; text-decoration-color: #00af00\">27</span>)             │         <span style=\"color: #00af00; text-decoration-color: #00af00\">4,077</span> │\n",
       "└─────────────────────────────────┴────────────────────────┴───────────────┘\n",
       "</pre>\n"
      ],
      "text/plain": [
       "┏━━━━━━━━━━━━━━━━━━━━━━━━━━━━━━━━━┳━━━━━━━━━━━━━━━━━━━━━━━━┳━━━━━━━━━━━━━━━┓\n",
       "┃\u001b[1m \u001b[0m\u001b[1mLayer (type)                   \u001b[0m\u001b[1m \u001b[0m┃\u001b[1m \u001b[0m\u001b[1mOutput Shape          \u001b[0m\u001b[1m \u001b[0m┃\u001b[1m \u001b[0m\u001b[1m      Param #\u001b[0m\u001b[1m \u001b[0m┃\n",
       "┡━━━━━━━━━━━━━━━━━━━━━━━━━━━━━━━━━╇━━━━━━━━━━━━━━━━━━━━━━━━╇━━━━━━━━━━━━━━━┩\n",
       "│ embedding (\u001b[38;5;33mEmbedding\u001b[0m)           │ (\u001b[38;5;45mNone\u001b[0m, \u001b[38;5;34m14\u001b[0m, \u001b[38;5;34m10\u001b[0m)         │           \u001b[38;5;34m270\u001b[0m │\n",
       "├─────────────────────────────────┼────────────────────────┼───────────────┤\n",
       "│ lstm (\u001b[38;5;33mLSTM\u001b[0m)                     │ (\u001b[38;5;45mNone\u001b[0m, \u001b[38;5;34m150\u001b[0m)            │        \u001b[38;5;34m96,600\u001b[0m │\n",
       "├─────────────────────────────────┼────────────────────────┼───────────────┤\n",
       "│ dense (\u001b[38;5;33mDense\u001b[0m)                   │ (\u001b[38;5;45mNone\u001b[0m, \u001b[38;5;34m27\u001b[0m)             │         \u001b[38;5;34m4,077\u001b[0m │\n",
       "└─────────────────────────────────┴────────────────────────┴───────────────┘\n"
      ]
     },
     "metadata": {},
     "output_type": "display_data"
    },
    {
     "data": {
      "text/html": [
       "<pre style=\"white-space:pre;overflow-x:auto;line-height:normal;font-family:Menlo,'DejaVu Sans Mono',consolas,'Courier New',monospace\"><span style=\"font-weight: bold\"> Total params: </span><span style=\"color: #00af00; text-decoration-color: #00af00\">302,843</span> (1.16 MB)\n",
       "</pre>\n"
      ],
      "text/plain": [
       "\u001b[1m Total params: \u001b[0m\u001b[38;5;34m302,843\u001b[0m (1.16 MB)\n"
      ]
     },
     "metadata": {},
     "output_type": "display_data"
    },
    {
     "data": {
      "text/html": [
       "<pre style=\"white-space:pre;overflow-x:auto;line-height:normal;font-family:Menlo,'DejaVu Sans Mono',consolas,'Courier New',monospace\"><span style=\"font-weight: bold\"> Trainable params: </span><span style=\"color: #00af00; text-decoration-color: #00af00\">100,947</span> (394.32 KB)\n",
       "</pre>\n"
      ],
      "text/plain": [
       "\u001b[1m Trainable params: \u001b[0m\u001b[38;5;34m100,947\u001b[0m (394.32 KB)\n"
      ]
     },
     "metadata": {},
     "output_type": "display_data"
    },
    {
     "data": {
      "text/html": [
       "<pre style=\"white-space:pre;overflow-x:auto;line-height:normal;font-family:Menlo,'DejaVu Sans Mono',consolas,'Courier New',monospace\"><span style=\"font-weight: bold\"> Non-trainable params: </span><span style=\"color: #00af00; text-decoration-color: #00af00\">0</span> (0.00 B)\n",
       "</pre>\n"
      ],
      "text/plain": [
       "\u001b[1m Non-trainable params: \u001b[0m\u001b[38;5;34m0\u001b[0m (0.00 B)\n"
      ]
     },
     "metadata": {},
     "output_type": "display_data"
    },
    {
     "data": {
      "text/html": [
       "<pre style=\"white-space:pre;overflow-x:auto;line-height:normal;font-family:Menlo,'DejaVu Sans Mono',consolas,'Courier New',monospace\"><span style=\"font-weight: bold\"> Optimizer params: </span><span style=\"color: #00af00; text-decoration-color: #00af00\">201,896</span> (788.66 KB)\n",
       "</pre>\n"
      ],
      "text/plain": [
       "\u001b[1m Optimizer params: \u001b[0m\u001b[38;5;34m201,896\u001b[0m (788.66 KB)\n"
      ]
     },
     "metadata": {},
     "output_type": "display_data"
    }
   ],
   "source": [
    "model.summary()"
   ]
  },
  {
   "cell_type": "code",
   "execution_count": 43,
   "id": "5f5237fe-5c1e-40bd-9435-18f26d983453",
   "metadata": {},
   "outputs": [
    {
     "name": "stdout",
     "output_type": "stream",
     "text": [
      "Epoch 1/200\n",
      "\u001b[1m2202/2202\u001b[0m \u001b[32m━━━━━━━━━━━━━━━━━━━━\u001b[0m\u001b[37m\u001b[0m \u001b[1m9s\u001b[0m 4ms/step - accuracy: 0.2854 - loss: 2.4024\n",
      "Epoch 2/200\n",
      "\u001b[1m2202/2202\u001b[0m \u001b[32m━━━━━━━━━━━━━━━━━━━━\u001b[0m\u001b[37m\u001b[0m \u001b[1m10s\u001b[0m 4ms/step - accuracy: 0.3649 - loss: 2.0380\n",
      "Epoch 3/200\n",
      "\u001b[1m2202/2202\u001b[0m \u001b[32m━━━━━━━━━━━━━━━━━━━━\u001b[0m\u001b[37m\u001b[0m \u001b[1m9s\u001b[0m 4ms/step - accuracy: 0.3942 - loss: 1.9273\n",
      "Epoch 4/200\n",
      "\u001b[1m2202/2202\u001b[0m \u001b[32m━━━━━━━━━━━━━━━━━━━━\u001b[0m\u001b[37m\u001b[0m \u001b[1m9s\u001b[0m 4ms/step - accuracy: 0.4177 - loss: 1.8446\n",
      "Epoch 5/200\n",
      "\u001b[1m2202/2202\u001b[0m \u001b[32m━━━━━━━━━━━━━━━━━━━━\u001b[0m\u001b[37m\u001b[0m \u001b[1m9s\u001b[0m 4ms/step - accuracy: 0.4380 - loss: 1.7643\n",
      "Epoch 6/200\n",
      "\u001b[1m2202/2202\u001b[0m \u001b[32m━━━━━━━━━━━━━━━━━━━━\u001b[0m\u001b[37m\u001b[0m \u001b[1m9s\u001b[0m 4ms/step - accuracy: 0.4544 - loss: 1.7027\n",
      "Epoch 7/200\n",
      "\u001b[1m2202/2202\u001b[0m \u001b[32m━━━━━━━━━━━━━━━━━━━━\u001b[0m\u001b[37m\u001b[0m \u001b[1m9s\u001b[0m 4ms/step - accuracy: 0.4720 - loss: 1.6477\n",
      "Epoch 8/200\n",
      "\u001b[1m2202/2202\u001b[0m \u001b[32m━━━━━━━━━━━━━━━━━━━━\u001b[0m\u001b[37m\u001b[0m \u001b[1m9s\u001b[0m 4ms/step - accuracy: 0.4938 - loss: 1.5899\n",
      "Epoch 9/200\n",
      "\u001b[1m2202/2202\u001b[0m \u001b[32m━━━━━━━━━━━━━━━━━━━━\u001b[0m\u001b[37m\u001b[0m \u001b[1m10s\u001b[0m 4ms/step - accuracy: 0.5050 - loss: 1.5376\n",
      "Epoch 10/200\n",
      "\u001b[1m2202/2202\u001b[0m \u001b[32m━━━━━━━━━━━━━━━━━━━━\u001b[0m\u001b[37m\u001b[0m \u001b[1m9s\u001b[0m 4ms/step - accuracy: 0.5151 - loss: 1.4970\n",
      "Epoch 11/200\n",
      "\u001b[1m2202/2202\u001b[0m \u001b[32m━━━━━━━━━━━━━━━━━━━━\u001b[0m\u001b[37m\u001b[0m \u001b[1m9s\u001b[0m 4ms/step - accuracy: 0.5281 - loss: 1.4558\n",
      "Epoch 12/200\n",
      "\u001b[1m2202/2202\u001b[0m \u001b[32m━━━━━━━━━━━━━━━━━━━━\u001b[0m\u001b[37m\u001b[0m \u001b[1m10s\u001b[0m 4ms/step - accuracy: 0.5367 - loss: 1.4231\n",
      "Epoch 13/200\n",
      "\u001b[1m2202/2202\u001b[0m \u001b[32m━━━━━━━━━━━━━━━━━━━━\u001b[0m\u001b[37m\u001b[0m \u001b[1m10s\u001b[0m 5ms/step - accuracy: 0.5405 - loss: 1.3964\n",
      "Epoch 14/200\n",
      "\u001b[1m2202/2202\u001b[0m \u001b[32m━━━━━━━━━━━━━━━━━━━━\u001b[0m\u001b[37m\u001b[0m \u001b[1m9s\u001b[0m 4ms/step - accuracy: 0.5579 - loss: 1.3485\n",
      "Epoch 15/200\n",
      "\u001b[1m2202/2202\u001b[0m \u001b[32m━━━━━━━━━━━━━━━━━━━━\u001b[0m\u001b[37m\u001b[0m \u001b[1m10s\u001b[0m 4ms/step - accuracy: 0.5606 - loss: 1.3360\n",
      "Epoch 16/200\n",
      "\u001b[1m2202/2202\u001b[0m \u001b[32m━━━━━━━━━━━━━━━━━━━━\u001b[0m\u001b[37m\u001b[0m \u001b[1m10s\u001b[0m 4ms/step - accuracy: 0.5661 - loss: 1.3094\n",
      "Epoch 17/200\n",
      "\u001b[1m2202/2202\u001b[0m \u001b[32m━━━━━━━━━━━━━━━━━━━━\u001b[0m\u001b[37m\u001b[0m \u001b[1m9s\u001b[0m 4ms/step - accuracy: 0.5697 - loss: 1.2966\n",
      "Epoch 18/200\n",
      "\u001b[1m2202/2202\u001b[0m \u001b[32m━━━━━━━━━━━━━━━━━━━━\u001b[0m\u001b[37m\u001b[0m \u001b[1m9s\u001b[0m 4ms/step - accuracy: 0.5774 - loss: 1.2696\n",
      "Epoch 19/200\n",
      "\u001b[1m2202/2202\u001b[0m \u001b[32m━━━━━━━━━━━━━━━━━━━━\u001b[0m\u001b[37m\u001b[0m \u001b[1m9s\u001b[0m 4ms/step - accuracy: 0.5830 - loss: 1.2399\n",
      "Epoch 20/200\n",
      "\u001b[1m2202/2202\u001b[0m \u001b[32m━━━━━━━━━━━━━━━━━━━━\u001b[0m\u001b[37m\u001b[0m \u001b[1m10s\u001b[0m 4ms/step - accuracy: 0.5920 - loss: 1.2182\n",
      "Epoch 21/200\n",
      "\u001b[1m2202/2202\u001b[0m \u001b[32m━━━━━━━━━━━━━━━━━━━━\u001b[0m\u001b[37m\u001b[0m \u001b[1m9s\u001b[0m 4ms/step - accuracy: 0.5912 - loss: 1.2102\n",
      "Epoch 22/200\n",
      "\u001b[1m2202/2202\u001b[0m \u001b[32m━━━━━━━━━━━━━━━━━━━━\u001b[0m\u001b[37m\u001b[0m \u001b[1m10s\u001b[0m 4ms/step - accuracy: 0.5953 - loss: 1.1970\n",
      "Epoch 23/200\n",
      "\u001b[1m2202/2202\u001b[0m \u001b[32m━━━━━━━━━━━━━━━━━━━━\u001b[0m\u001b[37m\u001b[0m \u001b[1m9s\u001b[0m 4ms/step - accuracy: 0.5997 - loss: 1.1748\n",
      "Epoch 24/200\n",
      "\u001b[1m2202/2202\u001b[0m \u001b[32m━━━━━━━━━━━━━━━━━━━━\u001b[0m\u001b[37m\u001b[0m \u001b[1m10s\u001b[0m 4ms/step - accuracy: 0.6033 - loss: 1.1604\n",
      "Epoch 25/200\n",
      "\u001b[1m2202/2202\u001b[0m \u001b[32m━━━━━━━━━━━━━━━━━━━━\u001b[0m\u001b[37m\u001b[0m \u001b[1m9s\u001b[0m 4ms/step - accuracy: 0.6035 - loss: 1.1513\n",
      "Epoch 26/200\n",
      "\u001b[1m2202/2202\u001b[0m \u001b[32m━━━━━━━━━━━━━━━━━━━━\u001b[0m\u001b[37m\u001b[0m \u001b[1m10s\u001b[0m 4ms/step - accuracy: 0.6087 - loss: 1.1411\n",
      "Epoch 27/200\n",
      "\u001b[1m2202/2202\u001b[0m \u001b[32m━━━━━━━━━━━━━━━━━━━━\u001b[0m\u001b[37m\u001b[0m \u001b[1m10s\u001b[0m 5ms/step - accuracy: 0.6137 - loss: 1.1215\n",
      "Epoch 28/200\n",
      "\u001b[1m2202/2202\u001b[0m \u001b[32m━━━━━━━━━━━━━━━━━━━━\u001b[0m\u001b[37m\u001b[0m \u001b[1m10s\u001b[0m 5ms/step - accuracy: 0.6172 - loss: 1.1166\n",
      "Epoch 29/200\n",
      "\u001b[1m2202/2202\u001b[0m \u001b[32m━━━━━━━━━━━━━━━━━━━━\u001b[0m\u001b[37m\u001b[0m \u001b[1m11s\u001b[0m 5ms/step - accuracy: 0.6152 - loss: 1.1061\n",
      "Epoch 30/200\n",
      "\u001b[1m2202/2202\u001b[0m \u001b[32m━━━━━━━━━━━━━━━━━━━━\u001b[0m\u001b[37m\u001b[0m \u001b[1m10s\u001b[0m 5ms/step - accuracy: 0.6164 - loss: 1.1018\n",
      "Epoch 31/200\n",
      "\u001b[1m2202/2202\u001b[0m \u001b[32m━━━━━━━━━━━━━━━━━━━━\u001b[0m\u001b[37m\u001b[0m \u001b[1m9s\u001b[0m 4ms/step - accuracy: 0.6195 - loss: 1.0940\n",
      "Epoch 32/200\n",
      "\u001b[1m2202/2202\u001b[0m \u001b[32m━━━━━━━━━━━━━━━━━━━━\u001b[0m\u001b[37m\u001b[0m \u001b[1m9s\u001b[0m 4ms/step - accuracy: 0.6246 - loss: 1.0758\n",
      "Epoch 33/200\n",
      "\u001b[1m2202/2202\u001b[0m \u001b[32m━━━━━━━━━━━━━━━━━━━━\u001b[0m\u001b[37m\u001b[0m \u001b[1m10s\u001b[0m 5ms/step - accuracy: 0.6259 - loss: 1.0692\n",
      "Epoch 34/200\n",
      "\u001b[1m2202/2202\u001b[0m \u001b[32m━━━━━━━━━━━━━━━━━━━━\u001b[0m\u001b[37m\u001b[0m \u001b[1m9s\u001b[0m 4ms/step - accuracy: 0.6287 - loss: 1.0642\n",
      "Epoch 35/200\n",
      "\u001b[1m2202/2202\u001b[0m \u001b[32m━━━━━━━━━━━━━━━━━━━━\u001b[0m\u001b[37m\u001b[0m \u001b[1m9s\u001b[0m 4ms/step - accuracy: 0.6304 - loss: 1.0531\n",
      "Epoch 36/200\n",
      "\u001b[1m2202/2202\u001b[0m \u001b[32m━━━━━━━━━━━━━━━━━━━━\u001b[0m\u001b[37m\u001b[0m \u001b[1m9s\u001b[0m 4ms/step - accuracy: 0.6293 - loss: 1.0449\n",
      "Epoch 37/200\n",
      "\u001b[1m2202/2202\u001b[0m \u001b[32m━━━━━━━━━━━━━━━━━━━━\u001b[0m\u001b[37m\u001b[0m \u001b[1m10s\u001b[0m 4ms/step - accuracy: 0.6290 - loss: 1.0456\n",
      "Epoch 38/200\n",
      "\u001b[1m2202/2202\u001b[0m \u001b[32m━━━━━━━━━━━━━━━━━━━━\u001b[0m\u001b[37m\u001b[0m \u001b[1m9s\u001b[0m 4ms/step - accuracy: 0.6363 - loss: 1.0260\n",
      "Epoch 39/200\n",
      "\u001b[1m2202/2202\u001b[0m \u001b[32m━━━━━━━━━━━━━━━━━━━━\u001b[0m\u001b[37m\u001b[0m \u001b[1m9s\u001b[0m 4ms/step - accuracy: 0.6322 - loss: 1.0287\n",
      "Epoch 40/200\n",
      "\u001b[1m2202/2202\u001b[0m \u001b[32m━━━━━━━━━━━━━━━━━━━━\u001b[0m\u001b[37m\u001b[0m \u001b[1m9s\u001b[0m 4ms/step - accuracy: 0.6358 - loss: 1.0235\n",
      "Epoch 41/200\n",
      "\u001b[1m2202/2202\u001b[0m \u001b[32m━━━━━━━━━━━━━━━━━━━━\u001b[0m\u001b[37m\u001b[0m \u001b[1m9s\u001b[0m 4ms/step - accuracy: 0.6355 - loss: 1.0141\n",
      "Epoch 42/200\n",
      "\u001b[1m2202/2202\u001b[0m \u001b[32m━━━━━━━━━━━━━━━━━━━━\u001b[0m\u001b[37m\u001b[0m \u001b[1m9s\u001b[0m 4ms/step - accuracy: 0.6401 - loss: 1.0047\n",
      "Epoch 43/200\n",
      "\u001b[1m2202/2202\u001b[0m \u001b[32m━━━━━━━━━━━━━━━━━━━━\u001b[0m\u001b[37m\u001b[0m \u001b[1m10s\u001b[0m 4ms/step - accuracy: 0.6385 - loss: 1.0065\n",
      "Epoch 44/200\n",
      "\u001b[1m2202/2202\u001b[0m \u001b[32m━━━━━━━━━━━━━━━━━━━━\u001b[0m\u001b[37m\u001b[0m \u001b[1m9s\u001b[0m 4ms/step - accuracy: 0.6402 - loss: 1.0042\n",
      "Epoch 45/200\n",
      "\u001b[1m2202/2202\u001b[0m \u001b[32m━━━━━━━━━━━━━━━━━━━━\u001b[0m\u001b[37m\u001b[0m \u001b[1m9s\u001b[0m 4ms/step - accuracy: 0.6402 - loss: 0.9964\n",
      "Epoch 46/200\n",
      "\u001b[1m2202/2202\u001b[0m \u001b[32m━━━━━━━━━━━━━━━━━━━━\u001b[0m\u001b[37m\u001b[0m \u001b[1m9s\u001b[0m 4ms/step - accuracy: 0.6448 - loss: 0.9940\n",
      "Epoch 47/200\n",
      "\u001b[1m2202/2202\u001b[0m \u001b[32m━━━━━━━━━━━━━━━━━━━━\u001b[0m\u001b[37m\u001b[0m \u001b[1m9s\u001b[0m 4ms/step - accuracy: 0.6400 - loss: 0.9885\n",
      "Epoch 48/200\n",
      "\u001b[1m2202/2202\u001b[0m \u001b[32m━━━━━━━━━━━━━━━━━━━━\u001b[0m\u001b[37m\u001b[0m \u001b[1m9s\u001b[0m 4ms/step - accuracy: 0.6434 - loss: 0.9870\n",
      "Epoch 49/200\n",
      "\u001b[1m2202/2202\u001b[0m \u001b[32m━━━━━━━━━━━━━━━━━━━━\u001b[0m\u001b[37m\u001b[0m \u001b[1m9s\u001b[0m 4ms/step - accuracy: 0.6407 - loss: 0.9879\n",
      "Epoch 50/200\n",
      "\u001b[1m2202/2202\u001b[0m \u001b[32m━━━━━━━━━━━━━━━━━━━━\u001b[0m\u001b[37m\u001b[0m \u001b[1m9s\u001b[0m 4ms/step - accuracy: 0.6479 - loss: 0.9718\n",
      "Epoch 51/200\n",
      "\u001b[1m2202/2202\u001b[0m \u001b[32m━━━━━━━━━━━━━━━━━━━━\u001b[0m\u001b[37m\u001b[0m \u001b[1m9s\u001b[0m 4ms/step - accuracy: 0.6426 - loss: 0.9783\n",
      "Epoch 52/200\n",
      "\u001b[1m2202/2202\u001b[0m \u001b[32m━━━━━━━━━━━━━━━━━━━━\u001b[0m\u001b[37m\u001b[0m \u001b[1m10s\u001b[0m 4ms/step - accuracy: 0.6449 - loss: 0.9696\n",
      "Epoch 53/200\n",
      "\u001b[1m2202/2202\u001b[0m \u001b[32m━━━━━━━━━━━━━━━━━━━━\u001b[0m\u001b[37m\u001b[0m \u001b[1m9s\u001b[0m 4ms/step - accuracy: 0.6441 - loss: 0.9705\n",
      "Epoch 54/200\n",
      "\u001b[1m2202/2202\u001b[0m \u001b[32m━━━━━━━━━━━━━━━━━━━━\u001b[0m\u001b[37m\u001b[0m \u001b[1m10s\u001b[0m 5ms/step - accuracy: 0.6447 - loss: 0.9690\n",
      "Epoch 55/200\n",
      "\u001b[1m2202/2202\u001b[0m \u001b[32m━━━━━━━━━━━━━━━━━━━━\u001b[0m\u001b[37m\u001b[0m \u001b[1m9s\u001b[0m 4ms/step - accuracy: 0.6456 - loss: 0.9633\n",
      "Epoch 56/200\n",
      "\u001b[1m2202/2202\u001b[0m \u001b[32m━━━━━━━━━━━━━━━━━━━━\u001b[0m\u001b[37m\u001b[0m \u001b[1m10s\u001b[0m 4ms/step - accuracy: 0.6453 - loss: 0.9628\n",
      "Epoch 57/200\n",
      "\u001b[1m2202/2202\u001b[0m \u001b[32m━━━━━━━━━━━━━━━━━━━━\u001b[0m\u001b[37m\u001b[0m \u001b[1m10s\u001b[0m 4ms/step - accuracy: 0.6435 - loss: 0.9608\n",
      "Epoch 58/200\n",
      "\u001b[1m2202/2202\u001b[0m \u001b[32m━━━━━━━━━━━━━━━━━━━━\u001b[0m\u001b[37m\u001b[0m \u001b[1m9s\u001b[0m 4ms/step - accuracy: 0.6464 - loss: 0.9570\n",
      "Epoch 59/200\n",
      "\u001b[1m2202/2202\u001b[0m \u001b[32m━━━━━━━━━━━━━━━━━━━━\u001b[0m\u001b[37m\u001b[0m \u001b[1m9s\u001b[0m 4ms/step - accuracy: 0.6486 - loss: 0.9472\n",
      "Epoch 60/200\n",
      "\u001b[1m2202/2202\u001b[0m \u001b[32m━━━━━━━━━━━━━━━━━━━━\u001b[0m\u001b[37m\u001b[0m \u001b[1m9s\u001b[0m 4ms/step - accuracy: 0.6501 - loss: 0.9510\n",
      "Epoch 61/200\n",
      "\u001b[1m2202/2202\u001b[0m \u001b[32m━━━━━━━━━━━━━━━━━━━━\u001b[0m\u001b[37m\u001b[0m \u001b[1m9s\u001b[0m 4ms/step - accuracy: 0.6501 - loss: 0.9450\n",
      "Epoch 62/200\n",
      "\u001b[1m2202/2202\u001b[0m \u001b[32m━━━━━━━━━━━━━━━━━━━━\u001b[0m\u001b[37m\u001b[0m \u001b[1m10s\u001b[0m 4ms/step - accuracy: 0.6512 - loss: 0.9409\n",
      "Epoch 63/200\n",
      "\u001b[1m2202/2202\u001b[0m \u001b[32m━━━━━━━━━━━━━━━━━━━━\u001b[0m\u001b[37m\u001b[0m \u001b[1m10s\u001b[0m 4ms/step - accuracy: 0.6485 - loss: 0.9452\n",
      "Epoch 64/200\n",
      "\u001b[1m2202/2202\u001b[0m \u001b[32m━━━━━━━━━━━━━━━━━━━━\u001b[0m\u001b[37m\u001b[0m \u001b[1m10s\u001b[0m 4ms/step - accuracy: 0.6531 - loss: 0.9339\n",
      "Epoch 65/200\n",
      "\u001b[1m2202/2202\u001b[0m \u001b[32m━━━━━━━━━━━━━━━━━━━━\u001b[0m\u001b[37m\u001b[0m \u001b[1m10s\u001b[0m 4ms/step - accuracy: 0.6505 - loss: 0.9360\n",
      "Epoch 66/200\n",
      "\u001b[1m2202/2202\u001b[0m \u001b[32m━━━━━━━━━━━━━━━━━━━━\u001b[0m\u001b[37m\u001b[0m \u001b[1m10s\u001b[0m 4ms/step - accuracy: 0.6522 - loss: 0.9326\n",
      "Epoch 67/200\n",
      "\u001b[1m2202/2202\u001b[0m \u001b[32m━━━━━━━━━━━━━━━━━━━━\u001b[0m\u001b[37m\u001b[0m \u001b[1m10s\u001b[0m 4ms/step - accuracy: 0.6517 - loss: 0.9314\n",
      "Epoch 68/200\n",
      "\u001b[1m2202/2202\u001b[0m \u001b[32m━━━━━━━━━━━━━━━━━━━━\u001b[0m\u001b[37m\u001b[0m \u001b[1m10s\u001b[0m 4ms/step - accuracy: 0.6481 - loss: 0.9315\n",
      "Epoch 69/200\n",
      "\u001b[1m2202/2202\u001b[0m \u001b[32m━━━━━━━━━━━━━━━━━━━━\u001b[0m\u001b[37m\u001b[0m \u001b[1m10s\u001b[0m 4ms/step - accuracy: 0.6544 - loss: 0.9262\n",
      "Epoch 70/200\n",
      "\u001b[1m2202/2202\u001b[0m \u001b[32m━━━━━━━━━━━━━━━━━━━━\u001b[0m\u001b[37m\u001b[0m \u001b[1m10s\u001b[0m 4ms/step - accuracy: 0.6537 - loss: 0.9242\n",
      "Epoch 71/200\n",
      "\u001b[1m2202/2202\u001b[0m \u001b[32m━━━━━━━━━━━━━━━━━━━━\u001b[0m\u001b[37m\u001b[0m \u001b[1m10s\u001b[0m 4ms/step - accuracy: 0.6531 - loss: 0.9303\n",
      "Epoch 72/200\n",
      "\u001b[1m2202/2202\u001b[0m \u001b[32m━━━━━━━━━━━━━━━━━━━━\u001b[0m\u001b[37m\u001b[0m \u001b[1m10s\u001b[0m 4ms/step - accuracy: 0.6545 - loss: 0.9197\n",
      "Epoch 73/200\n",
      "\u001b[1m2202/2202\u001b[0m \u001b[32m━━━━━━━━━━━━━━━━━━━━\u001b[0m\u001b[37m\u001b[0m \u001b[1m10s\u001b[0m 5ms/step - accuracy: 0.6520 - loss: 0.9198\n",
      "Epoch 74/200\n",
      "\u001b[1m2202/2202\u001b[0m \u001b[32m━━━━━━━━━━━━━━━━━━━━\u001b[0m\u001b[37m\u001b[0m \u001b[1m10s\u001b[0m 4ms/step - accuracy: 0.6549 - loss: 0.9166\n",
      "Epoch 75/200\n",
      "\u001b[1m2202/2202\u001b[0m \u001b[32m━━━━━━━━━━━━━━━━━━━━\u001b[0m\u001b[37m\u001b[0m \u001b[1m10s\u001b[0m 5ms/step - accuracy: 0.6560 - loss: 0.9142\n",
      "Epoch 76/200\n",
      "\u001b[1m2202/2202\u001b[0m \u001b[32m━━━━━━━━━━━━━━━━━━━━\u001b[0m\u001b[37m\u001b[0m \u001b[1m10s\u001b[0m 4ms/step - accuracy: 0.6519 - loss: 0.9186\n",
      "Epoch 77/200\n",
      "\u001b[1m2202/2202\u001b[0m \u001b[32m━━━━━━━━━━━━━━━━━━━━\u001b[0m\u001b[37m\u001b[0m \u001b[1m10s\u001b[0m 4ms/step - accuracy: 0.6564 - loss: 0.9130\n",
      "Epoch 78/200\n",
      "\u001b[1m2202/2202\u001b[0m \u001b[32m━━━━━━━━━━━━━━━━━━━━\u001b[0m\u001b[37m\u001b[0m \u001b[1m10s\u001b[0m 4ms/step - accuracy: 0.6531 - loss: 0.9163\n",
      "Epoch 79/200\n",
      "\u001b[1m2202/2202\u001b[0m \u001b[32m━━━━━━━━━━━━━━━━━━━━\u001b[0m\u001b[37m\u001b[0m \u001b[1m10s\u001b[0m 5ms/step - accuracy: 0.6493 - loss: 0.9200\n",
      "Epoch 80/200\n",
      "\u001b[1m2202/2202\u001b[0m \u001b[32m━━━━━━━━━━━━━━━━━━━━\u001b[0m\u001b[37m\u001b[0m \u001b[1m10s\u001b[0m 5ms/step - accuracy: 0.6528 - loss: 0.9111\n",
      "Epoch 81/200\n",
      "\u001b[1m2202/2202\u001b[0m \u001b[32m━━━━━━━━━━━━━━━━━━━━\u001b[0m\u001b[37m\u001b[0m \u001b[1m10s\u001b[0m 4ms/step - accuracy: 0.6579 - loss: 0.9011\n",
      "Epoch 82/200\n",
      "\u001b[1m2202/2202\u001b[0m \u001b[32m━━━━━━━━━━━━━━━━━━━━\u001b[0m\u001b[37m\u001b[0m \u001b[1m10s\u001b[0m 4ms/step - accuracy: 0.6551 - loss: 0.9072\n",
      "Epoch 83/200\n",
      "\u001b[1m2202/2202\u001b[0m \u001b[32m━━━━━━━━━━━━━━━━━━━━\u001b[0m\u001b[37m\u001b[0m \u001b[1m10s\u001b[0m 5ms/step - accuracy: 0.6555 - loss: 0.9023\n",
      "Epoch 84/200\n",
      "\u001b[1m2202/2202\u001b[0m \u001b[32m━━━━━━━━━━━━━━━━━━━━\u001b[0m\u001b[37m\u001b[0m \u001b[1m10s\u001b[0m 5ms/step - accuracy: 0.6536 - loss: 0.9085\n",
      "Epoch 85/200\n",
      "\u001b[1m2202/2202\u001b[0m \u001b[32m━━━━━━━━━━━━━━━━━━━━\u001b[0m\u001b[37m\u001b[0m \u001b[1m10s\u001b[0m 5ms/step - accuracy: 0.6530 - loss: 0.9080\n",
      "Epoch 86/200\n",
      "\u001b[1m2202/2202\u001b[0m \u001b[32m━━━━━━━━━━━━━━━━━━━━\u001b[0m\u001b[37m\u001b[0m \u001b[1m10s\u001b[0m 5ms/step - accuracy: 0.6543 - loss: 0.9080\n",
      "Epoch 87/200\n",
      "\u001b[1m2202/2202\u001b[0m \u001b[32m━━━━━━━━━━━━━━━━━━━━\u001b[0m\u001b[37m\u001b[0m \u001b[1m10s\u001b[0m 5ms/step - accuracy: 0.6613 - loss: 0.8939\n",
      "Epoch 88/200\n",
      "\u001b[1m2202/2202\u001b[0m \u001b[32m━━━━━━━━━━━━━━━━━━━━\u001b[0m\u001b[37m\u001b[0m \u001b[1m10s\u001b[0m 4ms/step - accuracy: 0.6594 - loss: 0.8990\n",
      "Epoch 89/200\n",
      "\u001b[1m2202/2202\u001b[0m \u001b[32m━━━━━━━━━━━━━━━━━━━━\u001b[0m\u001b[37m\u001b[0m \u001b[1m9s\u001b[0m 4ms/step - accuracy: 0.6568 - loss: 0.8963\n",
      "Epoch 90/200\n",
      "\u001b[1m2202/2202\u001b[0m \u001b[32m━━━━━━━━━━━━━━━━━━━━\u001b[0m\u001b[37m\u001b[0m \u001b[1m9s\u001b[0m 4ms/step - accuracy: 0.6554 - loss: 0.9000\n",
      "Epoch 91/200\n",
      "\u001b[1m2202/2202\u001b[0m \u001b[32m━━━━━━━━━━━━━━━━━━━━\u001b[0m\u001b[37m\u001b[0m \u001b[1m10s\u001b[0m 4ms/step - accuracy: 0.6584 - loss: 0.8933\n",
      "Epoch 92/200\n",
      "\u001b[1m2202/2202\u001b[0m \u001b[32m━━━━━━━━━━━━━━━━━━━━\u001b[0m\u001b[37m\u001b[0m \u001b[1m9s\u001b[0m 4ms/step - accuracy: 0.6551 - loss: 0.8994\n",
      "Epoch 93/200\n",
      "\u001b[1m2202/2202\u001b[0m \u001b[32m━━━━━━━━━━━━━━━━━━━━\u001b[0m\u001b[37m\u001b[0m \u001b[1m9s\u001b[0m 4ms/step - accuracy: 0.6577 - loss: 0.8964\n",
      "Epoch 94/200\n",
      "\u001b[1m2202/2202\u001b[0m \u001b[32m━━━━━━━━━━━━━━━━━━━━\u001b[0m\u001b[37m\u001b[0m \u001b[1m9s\u001b[0m 4ms/step - accuracy: 0.6574 - loss: 0.8962\n",
      "Epoch 95/200\n",
      "\u001b[1m2202/2202\u001b[0m \u001b[32m━━━━━━━━━━━━━━━━━━━━\u001b[0m\u001b[37m\u001b[0m \u001b[1m9s\u001b[0m 4ms/step - accuracy: 0.6603 - loss: 0.8912\n",
      "Epoch 96/200\n",
      "\u001b[1m2202/2202\u001b[0m \u001b[32m━━━━━━━━━━━━━━━━━━━━\u001b[0m\u001b[37m\u001b[0m \u001b[1m9s\u001b[0m 4ms/step - accuracy: 0.6526 - loss: 0.8954\n",
      "Epoch 97/200\n",
      "\u001b[1m2202/2202\u001b[0m \u001b[32m━━━━━━━━━━━━━━━━━━━━\u001b[0m\u001b[37m\u001b[0m \u001b[1m9s\u001b[0m 4ms/step - accuracy: 0.6582 - loss: 0.8964\n",
      "Epoch 98/200\n",
      "\u001b[1m2202/2202\u001b[0m \u001b[32m━━━━━━━━━━━━━━━━━━━━\u001b[0m\u001b[37m\u001b[0m \u001b[1m9s\u001b[0m 4ms/step - accuracy: 0.6564 - loss: 0.8925\n",
      "Epoch 99/200\n",
      "\u001b[1m2202/2202\u001b[0m \u001b[32m━━━━━━━━━━━━━━━━━━━━\u001b[0m\u001b[37m\u001b[0m \u001b[1m9s\u001b[0m 4ms/step - accuracy: 0.6564 - loss: 0.8912\n",
      "Epoch 100/200\n",
      "\u001b[1m2202/2202\u001b[0m \u001b[32m━━━━━━━━━━━━━━━━━━━━\u001b[0m\u001b[37m\u001b[0m \u001b[1m9s\u001b[0m 4ms/step - accuracy: 0.6594 - loss: 0.8916\n",
      "Epoch 101/200\n",
      "\u001b[1m2202/2202\u001b[0m \u001b[32m━━━━━━━━━━━━━━━━━━━━\u001b[0m\u001b[37m\u001b[0m \u001b[1m9s\u001b[0m 4ms/step - accuracy: 0.6568 - loss: 0.8913\n",
      "Epoch 102/200\n",
      "\u001b[1m2202/2202\u001b[0m \u001b[32m━━━━━━━━━━━━━━━━━━━━\u001b[0m\u001b[37m\u001b[0m \u001b[1m9s\u001b[0m 4ms/step - accuracy: 0.6605 - loss: 0.8841\n",
      "Epoch 103/200\n",
      "\u001b[1m2202/2202\u001b[0m \u001b[32m━━━━━━━━━━━━━━━━━━━━\u001b[0m\u001b[37m\u001b[0m \u001b[1m9s\u001b[0m 4ms/step - accuracy: 0.6578 - loss: 0.8884\n",
      "Epoch 104/200\n",
      "\u001b[1m2202/2202\u001b[0m \u001b[32m━━━━━━━━━━━━━━━━━━━━\u001b[0m\u001b[37m\u001b[0m \u001b[1m9s\u001b[0m 4ms/step - accuracy: 0.6578 - loss: 0.8861\n",
      "Epoch 105/200\n",
      "\u001b[1m2202/2202\u001b[0m \u001b[32m━━━━━━━━━━━━━━━━━━━━\u001b[0m\u001b[37m\u001b[0m \u001b[1m9s\u001b[0m 4ms/step - accuracy: 0.6580 - loss: 0.8841\n",
      "Epoch 106/200\n",
      "\u001b[1m2202/2202\u001b[0m \u001b[32m━━━━━━━━━━━━━━━━━━━━\u001b[0m\u001b[37m\u001b[0m \u001b[1m9s\u001b[0m 4ms/step - accuracy: 0.6586 - loss: 0.8842\n",
      "Epoch 107/200\n",
      "\u001b[1m2202/2202\u001b[0m \u001b[32m━━━━━━━━━━━━━━━━━━━━\u001b[0m\u001b[37m\u001b[0m \u001b[1m9s\u001b[0m 4ms/step - accuracy: 0.6568 - loss: 0.8823\n",
      "Epoch 108/200\n",
      "\u001b[1m2202/2202\u001b[0m \u001b[32m━━━━━━━━━━━━━━━━━━━━\u001b[0m\u001b[37m\u001b[0m \u001b[1m10s\u001b[0m 4ms/step - accuracy: 0.6603 - loss: 0.8801\n",
      "Epoch 109/200\n",
      "\u001b[1m2202/2202\u001b[0m \u001b[32m━━━━━━━━━━━━━━━━━━━━\u001b[0m\u001b[37m\u001b[0m \u001b[1m10s\u001b[0m 4ms/step - accuracy: 0.6597 - loss: 0.8797\n",
      "Epoch 110/200\n",
      "\u001b[1m2202/2202\u001b[0m \u001b[32m━━━━━━━━━━━━━━━━━━━━\u001b[0m\u001b[37m\u001b[0m \u001b[1m9s\u001b[0m 4ms/step - accuracy: 0.6600 - loss: 0.8776\n",
      "Epoch 111/200\n",
      "\u001b[1m2202/2202\u001b[0m \u001b[32m━━━━━━━━━━━━━━━━━━━━\u001b[0m\u001b[37m\u001b[0m \u001b[1m9s\u001b[0m 4ms/step - accuracy: 0.6564 - loss: 0.8843\n",
      "Epoch 112/200\n",
      "\u001b[1m2202/2202\u001b[0m \u001b[32m━━━━━━━━━━━━━━━━━━━━\u001b[0m\u001b[37m\u001b[0m \u001b[1m9s\u001b[0m 4ms/step - accuracy: 0.6616 - loss: 0.8731\n",
      "Epoch 113/200\n",
      "\u001b[1m2202/2202\u001b[0m \u001b[32m━━━━━━━━━━━━━━━━━━━━\u001b[0m\u001b[37m\u001b[0m \u001b[1m10s\u001b[0m 4ms/step - accuracy: 0.6570 - loss: 0.8856\n",
      "Epoch 114/200\n",
      "\u001b[1m2202/2202\u001b[0m \u001b[32m━━━━━━━━━━━━━━━━━━━━\u001b[0m\u001b[37m\u001b[0m \u001b[1m9s\u001b[0m 4ms/step - accuracy: 0.6593 - loss: 0.8768\n",
      "Epoch 115/200\n",
      "\u001b[1m2202/2202\u001b[0m \u001b[32m━━━━━━━━━━━━━━━━━━━━\u001b[0m\u001b[37m\u001b[0m \u001b[1m10s\u001b[0m 5ms/step - accuracy: 0.6584 - loss: 0.8782\n",
      "Epoch 116/200\n",
      "\u001b[1m2202/2202\u001b[0m \u001b[32m━━━━━━━━━━━━━━━━━━━━\u001b[0m\u001b[37m\u001b[0m \u001b[1m10s\u001b[0m 5ms/step - accuracy: 0.6538 - loss: 0.8830\n",
      "Epoch 117/200\n",
      "\u001b[1m2202/2202\u001b[0m \u001b[32m━━━━━━━━━━━━━━━━━━━━\u001b[0m\u001b[37m\u001b[0m \u001b[1m10s\u001b[0m 5ms/step - accuracy: 0.6592 - loss: 0.8729\n",
      "Epoch 118/200\n",
      "\u001b[1m2202/2202\u001b[0m \u001b[32m━━━━━━━━━━━━━━━━━━━━\u001b[0m\u001b[37m\u001b[0m \u001b[1m9s\u001b[0m 4ms/step - accuracy: 0.6568 - loss: 0.8790\n",
      "Epoch 119/200\n",
      "\u001b[1m2202/2202\u001b[0m \u001b[32m━━━━━━━━━━━━━━━━━━━━\u001b[0m\u001b[37m\u001b[0m \u001b[1m9s\u001b[0m 4ms/step - accuracy: 0.6582 - loss: 0.8751\n",
      "Epoch 120/200\n",
      "\u001b[1m2202/2202\u001b[0m \u001b[32m━━━━━━━━━━━━━━━━━━━━\u001b[0m\u001b[37m\u001b[0m \u001b[1m10s\u001b[0m 4ms/step - accuracy: 0.6611 - loss: 0.8722\n",
      "Epoch 121/200\n",
      "\u001b[1m2202/2202\u001b[0m \u001b[32m━━━━━━━━━━━━━━━━━━━━\u001b[0m\u001b[37m\u001b[0m \u001b[1m10s\u001b[0m 5ms/step - accuracy: 0.6614 - loss: 0.8777\n",
      "Epoch 122/200\n",
      "\u001b[1m2202/2202\u001b[0m \u001b[32m━━━━━━━━━━━━━━━━━━━━\u001b[0m\u001b[37m\u001b[0m \u001b[1m10s\u001b[0m 5ms/step - accuracy: 0.6578 - loss: 0.8757\n",
      "Epoch 123/200\n",
      "\u001b[1m2202/2202\u001b[0m \u001b[32m━━━━━━━━━━━━━━━━━━━━\u001b[0m\u001b[37m\u001b[0m \u001b[1m10s\u001b[0m 5ms/step - accuracy: 0.6581 - loss: 0.8764\n",
      "Epoch 124/200\n",
      "\u001b[1m2202/2202\u001b[0m \u001b[32m━━━━━━━━━━━━━━━━━━━━\u001b[0m\u001b[37m\u001b[0m \u001b[1m10s\u001b[0m 5ms/step - accuracy: 0.6562 - loss: 0.8791\n",
      "Epoch 125/200\n",
      "\u001b[1m2202/2202\u001b[0m \u001b[32m━━━━━━━━━━━━━━━━━━━━\u001b[0m\u001b[37m\u001b[0m \u001b[1m11s\u001b[0m 5ms/step - accuracy: 0.6594 - loss: 0.8753\n",
      "Epoch 126/200\n",
      "\u001b[1m2202/2202\u001b[0m \u001b[32m━━━━━━━━━━━━━━━━━━━━\u001b[0m\u001b[37m\u001b[0m \u001b[1m11s\u001b[0m 5ms/step - accuracy: 0.6606 - loss: 0.8692\n",
      "Epoch 127/200\n",
      "\u001b[1m2202/2202\u001b[0m \u001b[32m━━━━━━━━━━━━━━━━━━━━\u001b[0m\u001b[37m\u001b[0m \u001b[1m10s\u001b[0m 5ms/step - accuracy: 0.6603 - loss: 0.8696\n",
      "Epoch 128/200\n",
      "\u001b[1m2202/2202\u001b[0m \u001b[32m━━━━━━━━━━━━━━━━━━━━\u001b[0m\u001b[37m\u001b[0m \u001b[1m10s\u001b[0m 5ms/step - accuracy: 0.6561 - loss: 0.8748\n",
      "Epoch 129/200\n",
      "\u001b[1m2202/2202\u001b[0m \u001b[32m━━━━━━━━━━━━━━━━━━━━\u001b[0m\u001b[37m\u001b[0m \u001b[1m10s\u001b[0m 5ms/step - accuracy: 0.6581 - loss: 0.8700\n",
      "Epoch 130/200\n",
      "\u001b[1m2202/2202\u001b[0m \u001b[32m━━━━━━━━━━━━━━━━━━━━\u001b[0m\u001b[37m\u001b[0m \u001b[1m10s\u001b[0m 5ms/step - accuracy: 0.6576 - loss: 0.8733\n",
      "Epoch 131/200\n",
      "\u001b[1m2202/2202\u001b[0m \u001b[32m━━━━━━━━━━━━━━━━━━━━\u001b[0m\u001b[37m\u001b[0m \u001b[1m10s\u001b[0m 5ms/step - accuracy: 0.6623 - loss: 0.8638\n",
      "Epoch 132/200\n",
      "\u001b[1m2202/2202\u001b[0m \u001b[32m━━━━━━━━━━━━━━━━━━━━\u001b[0m\u001b[37m\u001b[0m \u001b[1m10s\u001b[0m 5ms/step - accuracy: 0.6574 - loss: 0.8677\n",
      "Epoch 133/200\n",
      "\u001b[1m2202/2202\u001b[0m \u001b[32m━━━━━━━━━━━━━━━━━━━━\u001b[0m\u001b[37m\u001b[0m \u001b[1m10s\u001b[0m 5ms/step - accuracy: 0.6607 - loss: 0.8676\n",
      "Epoch 134/200\n",
      "\u001b[1m2202/2202\u001b[0m \u001b[32m━━━━━━━━━━━━━━━━━━━━\u001b[0m\u001b[37m\u001b[0m \u001b[1m10s\u001b[0m 5ms/step - accuracy: 0.6597 - loss: 0.8648\n",
      "Epoch 135/200\n",
      "\u001b[1m2202/2202\u001b[0m \u001b[32m━━━━━━━━━━━━━━━━━━━━\u001b[0m\u001b[37m\u001b[0m \u001b[1m11s\u001b[0m 5ms/step - accuracy: 0.6592 - loss: 0.8686\n",
      "Epoch 136/200\n",
      "\u001b[1m2202/2202\u001b[0m \u001b[32m━━━━━━━━━━━━━━━━━━━━\u001b[0m\u001b[37m\u001b[0m \u001b[1m11s\u001b[0m 5ms/step - accuracy: 0.6622 - loss: 0.8611\n",
      "Epoch 137/200\n",
      "\u001b[1m2202/2202\u001b[0m \u001b[32m━━━━━━━━━━━━━━━━━━━━\u001b[0m\u001b[37m\u001b[0m \u001b[1m10s\u001b[0m 5ms/step - accuracy: 0.6559 - loss: 0.8687\n",
      "Epoch 138/200\n",
      "\u001b[1m2202/2202\u001b[0m \u001b[32m━━━━━━━━━━━━━━━━━━━━\u001b[0m\u001b[37m\u001b[0m \u001b[1m10s\u001b[0m 5ms/step - accuracy: 0.6593 - loss: 0.8717\n",
      "Epoch 139/200\n",
      "\u001b[1m2202/2202\u001b[0m \u001b[32m━━━━━━━━━━━━━━━━━━━━\u001b[0m\u001b[37m\u001b[0m \u001b[1m10s\u001b[0m 5ms/step - accuracy: 0.6610 - loss: 0.8614\n",
      "Epoch 140/200\n",
      "\u001b[1m2202/2202\u001b[0m \u001b[32m━━━━━━━━━━━━━━━━━━━━\u001b[0m\u001b[37m\u001b[0m \u001b[1m11s\u001b[0m 5ms/step - accuracy: 0.6622 - loss: 0.8622\n",
      "Epoch 141/200\n",
      "\u001b[1m2202/2202\u001b[0m \u001b[32m━━━━━━━━━━━━━━━━━━━━\u001b[0m\u001b[37m\u001b[0m \u001b[1m10s\u001b[0m 5ms/step - accuracy: 0.6586 - loss: 0.8642\n",
      "Epoch 142/200\n",
      "\u001b[1m2202/2202\u001b[0m \u001b[32m━━━━━━━━━━━━━━━━━━━━\u001b[0m\u001b[37m\u001b[0m \u001b[1m10s\u001b[0m 5ms/step - accuracy: 0.6604 - loss: 0.8668\n",
      "Epoch 143/200\n",
      "\u001b[1m2202/2202\u001b[0m \u001b[32m━━━━━━━━━━━━━━━━━━━━\u001b[0m\u001b[37m\u001b[0m \u001b[1m10s\u001b[0m 5ms/step - accuracy: 0.6599 - loss: 0.8645\n",
      "Epoch 144/200\n",
      "\u001b[1m2202/2202\u001b[0m \u001b[32m━━━━━━━━━━━━━━━━━━━━\u001b[0m\u001b[37m\u001b[0m \u001b[1m10s\u001b[0m 5ms/step - accuracy: 0.6571 - loss: 0.8686\n",
      "Epoch 145/200\n",
      "\u001b[1m2202/2202\u001b[0m \u001b[32m━━━━━━━━━━━━━━━━━━━━\u001b[0m\u001b[37m\u001b[0m \u001b[1m10s\u001b[0m 5ms/step - accuracy: 0.6603 - loss: 0.8584\n",
      "Epoch 146/200\n",
      "\u001b[1m2202/2202\u001b[0m \u001b[32m━━━━━━━━━━━━━━━━━━━━\u001b[0m\u001b[37m\u001b[0m \u001b[1m10s\u001b[0m 4ms/step - accuracy: 0.6606 - loss: 0.8615\n",
      "Epoch 147/200\n",
      "\u001b[1m2202/2202\u001b[0m \u001b[32m━━━━━━━━━━━━━━━━━━━━\u001b[0m\u001b[37m\u001b[0m \u001b[1m10s\u001b[0m 5ms/step - accuracy: 0.6621 - loss: 0.8604\n",
      "Epoch 148/200\n",
      "\u001b[1m2202/2202\u001b[0m \u001b[32m━━━━━━━━━━━━━━━━━━━━\u001b[0m\u001b[37m\u001b[0m \u001b[1m10s\u001b[0m 5ms/step - accuracy: 0.6615 - loss: 0.8623\n",
      "Epoch 149/200\n",
      "\u001b[1m2202/2202\u001b[0m \u001b[32m━━━━━━━━━━━━━━━━━━━━\u001b[0m\u001b[37m\u001b[0m \u001b[1m10s\u001b[0m 4ms/step - accuracy: 0.6580 - loss: 0.8685\n",
      "Epoch 150/200\n",
      "\u001b[1m2202/2202\u001b[0m \u001b[32m━━━━━━━━━━━━━━━━━━━━\u001b[0m\u001b[37m\u001b[0m \u001b[1m9s\u001b[0m 4ms/step - accuracy: 0.6581 - loss: 0.8644\n",
      "Epoch 151/200\n",
      "\u001b[1m2202/2202\u001b[0m \u001b[32m━━━━━━━━━━━━━━━━━━━━\u001b[0m\u001b[37m\u001b[0m \u001b[1m10s\u001b[0m 4ms/step - accuracy: 0.6599 - loss: 0.8613\n",
      "Epoch 152/200\n",
      "\u001b[1m2202/2202\u001b[0m \u001b[32m━━━━━━━━━━━━━━━━━━━━\u001b[0m\u001b[37m\u001b[0m \u001b[1m10s\u001b[0m 4ms/step - accuracy: 0.6616 - loss: 0.8566\n",
      "Epoch 153/200\n",
      "\u001b[1m2202/2202\u001b[0m \u001b[32m━━━━━━━━━━━━━━━━━━━━\u001b[0m\u001b[37m\u001b[0m \u001b[1m10s\u001b[0m 4ms/step - accuracy: 0.6632 - loss: 0.8569\n",
      "Epoch 154/200\n",
      "\u001b[1m2202/2202\u001b[0m \u001b[32m━━━━━━━━━━━━━━━━━━━━\u001b[0m\u001b[37m\u001b[0m \u001b[1m10s\u001b[0m 4ms/step - accuracy: 0.6600 - loss: 0.8630\n",
      "Epoch 155/200\n",
      "\u001b[1m2202/2202\u001b[0m \u001b[32m━━━━━━━━━━━━━━━━━━━━\u001b[0m\u001b[37m\u001b[0m \u001b[1m10s\u001b[0m 4ms/step - accuracy: 0.6623 - loss: 0.8552\n",
      "Epoch 156/200\n",
      "\u001b[1m2202/2202\u001b[0m \u001b[32m━━━━━━━━━━━━━━━━━━━━\u001b[0m\u001b[37m\u001b[0m \u001b[1m10s\u001b[0m 4ms/step - accuracy: 0.6602 - loss: 0.8608\n",
      "Epoch 157/200\n",
      "\u001b[1m2202/2202\u001b[0m \u001b[32m━━━━━━━━━━━━━━━━━━━━\u001b[0m\u001b[37m\u001b[0m \u001b[1m10s\u001b[0m 5ms/step - accuracy: 0.6631 - loss: 0.8569\n",
      "Epoch 158/200\n",
      "\u001b[1m2202/2202\u001b[0m \u001b[32m━━━━━━━━━━━━━━━━━━━━\u001b[0m\u001b[37m\u001b[0m \u001b[1m10s\u001b[0m 5ms/step - accuracy: 0.6625 - loss: 0.8587\n",
      "Epoch 159/200\n",
      "\u001b[1m2202/2202\u001b[0m \u001b[32m━━━━━━━━━━━━━━━━━━━━\u001b[0m\u001b[37m\u001b[0m \u001b[1m10s\u001b[0m 4ms/step - accuracy: 0.6659 - loss: 0.8512\n",
      "Epoch 160/200\n",
      "\u001b[1m2202/2202\u001b[0m \u001b[32m━━━━━━━━━━━━━━━━━━━━\u001b[0m\u001b[37m\u001b[0m \u001b[1m10s\u001b[0m 4ms/step - accuracy: 0.6587 - loss: 0.8594\n",
      "Epoch 161/200\n",
      "\u001b[1m2202/2202\u001b[0m \u001b[32m━━━━━━━━━━━━━━━━━━━━\u001b[0m\u001b[37m\u001b[0m \u001b[1m10s\u001b[0m 4ms/step - accuracy: 0.6621 - loss: 0.8565\n",
      "Epoch 162/200\n",
      "\u001b[1m2202/2202\u001b[0m \u001b[32m━━━━━━━━━━━━━━━━━━━━\u001b[0m\u001b[37m\u001b[0m \u001b[1m10s\u001b[0m 5ms/step - accuracy: 0.6616 - loss: 0.8576\n",
      "Epoch 163/200\n",
      "\u001b[1m2202/2202\u001b[0m \u001b[32m━━━━━━━━━━━━━━━━━━━━\u001b[0m\u001b[37m\u001b[0m \u001b[1m10s\u001b[0m 5ms/step - accuracy: 0.6613 - loss: 0.8544\n",
      "Epoch 164/200\n",
      "\u001b[1m2202/2202\u001b[0m \u001b[32m━━━━━━━━━━━━━━━━━━━━\u001b[0m\u001b[37m\u001b[0m \u001b[1m10s\u001b[0m 4ms/step - accuracy: 0.6616 - loss: 0.8572\n",
      "Epoch 165/200\n",
      "\u001b[1m2202/2202\u001b[0m \u001b[32m━━━━━━━━━━━━━━━━━━━━\u001b[0m\u001b[37m\u001b[0m \u001b[1m10s\u001b[0m 4ms/step - accuracy: 0.6616 - loss: 0.8541\n",
      "Epoch 166/200\n",
      "\u001b[1m2202/2202\u001b[0m \u001b[32m━━━━━━━━━━━━━━━━━━━━\u001b[0m\u001b[37m\u001b[0m \u001b[1m10s\u001b[0m 5ms/step - accuracy: 0.6622 - loss: 0.8561\n",
      "Epoch 167/200\n",
      "\u001b[1m2202/2202\u001b[0m \u001b[32m━━━━━━━━━━━━━━━━━━━━\u001b[0m\u001b[37m\u001b[0m \u001b[1m11s\u001b[0m 5ms/step - accuracy: 0.6614 - loss: 0.8566\n",
      "Epoch 168/200\n",
      "\u001b[1m2202/2202\u001b[0m \u001b[32m━━━━━━━━━━━━━━━━━━━━\u001b[0m\u001b[37m\u001b[0m \u001b[1m10s\u001b[0m 5ms/step - accuracy: 0.6614 - loss: 0.8560\n",
      "Epoch 169/200\n",
      "\u001b[1m2202/2202\u001b[0m \u001b[32m━━━━━━━━━━━━━━━━━━━━\u001b[0m\u001b[37m\u001b[0m \u001b[1m10s\u001b[0m 4ms/step - accuracy: 0.6593 - loss: 0.8545\n",
      "Epoch 170/200\n",
      "\u001b[1m2202/2202\u001b[0m \u001b[32m━━━━━━━━━━━━━━━━━━━━\u001b[0m\u001b[37m\u001b[0m \u001b[1m10s\u001b[0m 4ms/step - accuracy: 0.6638 - loss: 0.8500\n",
      "Epoch 171/200\n",
      "\u001b[1m2202/2202\u001b[0m \u001b[32m━━━━━━━━━━━━━━━━━━━━\u001b[0m\u001b[37m\u001b[0m \u001b[1m10s\u001b[0m 5ms/step - accuracy: 0.6626 - loss: 0.8504\n",
      "Epoch 172/200\n",
      "\u001b[1m2202/2202\u001b[0m \u001b[32m━━━━━━━━━━━━━━━━━━━━\u001b[0m\u001b[37m\u001b[0m \u001b[1m10s\u001b[0m 5ms/step - accuracy: 0.6604 - loss: 0.8528\n",
      "Epoch 173/200\n",
      "\u001b[1m2202/2202\u001b[0m \u001b[32m━━━━━━━━━━━━━━━━━━━━\u001b[0m\u001b[37m\u001b[0m \u001b[1m10s\u001b[0m 4ms/step - accuracy: 0.6616 - loss: 0.8476\n",
      "Epoch 174/200\n",
      "\u001b[1m2202/2202\u001b[0m \u001b[32m━━━━━━━━━━━━━━━━━━━━\u001b[0m\u001b[37m\u001b[0m \u001b[1m10s\u001b[0m 4ms/step - accuracy: 0.6595 - loss: 0.8527\n",
      "Epoch 175/200\n",
      "\u001b[1m2202/2202\u001b[0m \u001b[32m━━━━━━━━━━━━━━━━━━━━\u001b[0m\u001b[37m\u001b[0m \u001b[1m9s\u001b[0m 4ms/step - accuracy: 0.6608 - loss: 0.8539\n",
      "Epoch 176/200\n",
      "\u001b[1m2202/2202\u001b[0m \u001b[32m━━━━━━━━━━━━━━━━━━━━\u001b[0m\u001b[37m\u001b[0m \u001b[1m10s\u001b[0m 5ms/step - accuracy: 0.6617 - loss: 0.8550\n",
      "Epoch 177/200\n",
      "\u001b[1m2202/2202\u001b[0m \u001b[32m━━━━━━━━━━━━━━━━━━━━\u001b[0m\u001b[37m\u001b[0m \u001b[1m10s\u001b[0m 5ms/step - accuracy: 0.6624 - loss: 0.8515\n",
      "Epoch 178/200\n",
      "\u001b[1m2202/2202\u001b[0m \u001b[32m━━━━━━━━━━━━━━━━━━━━\u001b[0m\u001b[37m\u001b[0m \u001b[1m10s\u001b[0m 4ms/step - accuracy: 0.6615 - loss: 0.8540\n",
      "Epoch 179/200\n",
      "\u001b[1m2202/2202\u001b[0m \u001b[32m━━━━━━━━━━━━━━━━━━━━\u001b[0m\u001b[37m\u001b[0m \u001b[1m9s\u001b[0m 4ms/step - accuracy: 0.6644 - loss: 0.8530\n",
      "Epoch 180/200\n",
      "\u001b[1m2202/2202\u001b[0m \u001b[32m━━━━━━━━━━━━━━━━━━━━\u001b[0m\u001b[37m\u001b[0m \u001b[1m10s\u001b[0m 4ms/step - accuracy: 0.6610 - loss: 0.8515\n",
      "Epoch 181/200\n",
      "\u001b[1m2202/2202\u001b[0m \u001b[32m━━━━━━━━━━━━━━━━━━━━\u001b[0m\u001b[37m\u001b[0m \u001b[1m10s\u001b[0m 5ms/step - accuracy: 0.6642 - loss: 0.8473\n",
      "Epoch 182/200\n",
      "\u001b[1m2202/2202\u001b[0m \u001b[32m━━━━━━━━━━━━━━━━━━━━\u001b[0m\u001b[37m\u001b[0m \u001b[1m10s\u001b[0m 4ms/step - accuracy: 0.6609 - loss: 0.8511\n",
      "Epoch 183/200\n",
      "\u001b[1m2202/2202\u001b[0m \u001b[32m━━━━━━━━━━━━━━━━━━━━\u001b[0m\u001b[37m\u001b[0m \u001b[1m10s\u001b[0m 4ms/step - accuracy: 0.6649 - loss: 0.8406\n",
      "Epoch 184/200\n",
      "\u001b[1m2202/2202\u001b[0m \u001b[32m━━━━━━━━━━━━━━━━━━━━\u001b[0m\u001b[37m\u001b[0m \u001b[1m9s\u001b[0m 4ms/step - accuracy: 0.6595 - loss: 0.8531\n",
      "Epoch 185/200\n",
      "\u001b[1m2202/2202\u001b[0m \u001b[32m━━━━━━━━━━━━━━━━━━━━\u001b[0m\u001b[37m\u001b[0m \u001b[1m10s\u001b[0m 4ms/step - accuracy: 0.6632 - loss: 0.8437\n",
      "Epoch 186/200\n",
      "\u001b[1m2202/2202\u001b[0m \u001b[32m━━━━━━━━━━━━━━━━━━━━\u001b[0m\u001b[37m\u001b[0m \u001b[1m10s\u001b[0m 4ms/step - accuracy: 0.6600 - loss: 0.8455\n",
      "Epoch 187/200\n",
      "\u001b[1m2202/2202\u001b[0m \u001b[32m━━━━━━━━━━━━━━━━━━━━\u001b[0m\u001b[37m\u001b[0m \u001b[1m10s\u001b[0m 4ms/step - accuracy: 0.6639 - loss: 0.8424\n",
      "Epoch 188/200\n",
      "\u001b[1m2202/2202\u001b[0m \u001b[32m━━━━━━━━━━━━━━━━━━━━\u001b[0m\u001b[37m\u001b[0m \u001b[1m10s\u001b[0m 4ms/step - accuracy: 0.6615 - loss: 0.8469\n",
      "Epoch 189/200\n",
      "\u001b[1m2202/2202\u001b[0m \u001b[32m━━━━━━━━━━━━━━━━━━━━\u001b[0m\u001b[37m\u001b[0m \u001b[1m11s\u001b[0m 5ms/step - accuracy: 0.6593 - loss: 0.8557\n",
      "Epoch 190/200\n",
      "\u001b[1m2202/2202\u001b[0m \u001b[32m━━━━━━━━━━━━━━━━━━━━\u001b[0m\u001b[37m\u001b[0m \u001b[1m11s\u001b[0m 5ms/step - accuracy: 0.6624 - loss: 0.8470\n",
      "Epoch 191/200\n",
      "\u001b[1m2202/2202\u001b[0m \u001b[32m━━━━━━━━━━━━━━━━━━━━\u001b[0m\u001b[37m\u001b[0m \u001b[1m11s\u001b[0m 5ms/step - accuracy: 0.6602 - loss: 0.8481\n",
      "Epoch 192/200\n",
      "\u001b[1m2202/2202\u001b[0m \u001b[32m━━━━━━━━━━━━━━━━━━━━\u001b[0m\u001b[37m\u001b[0m \u001b[1m11s\u001b[0m 5ms/step - accuracy: 0.6656 - loss: 0.8394\n",
      "Epoch 193/200\n",
      "\u001b[1m2202/2202\u001b[0m \u001b[32m━━━━━━━━━━━━━━━━━━━━\u001b[0m\u001b[37m\u001b[0m \u001b[1m10s\u001b[0m 5ms/step - accuracy: 0.6643 - loss: 0.8460\n",
      "Epoch 194/200\n",
      "\u001b[1m2202/2202\u001b[0m \u001b[32m━━━━━━━━━━━━━━━━━━━━\u001b[0m\u001b[37m\u001b[0m \u001b[1m10s\u001b[0m 5ms/step - accuracy: 0.6594 - loss: 0.8531\n",
      "Epoch 195/200\n",
      "\u001b[1m2202/2202\u001b[0m \u001b[32m━━━━━━━━━━━━━━━━━━━━\u001b[0m\u001b[37m\u001b[0m \u001b[1m10s\u001b[0m 5ms/step - accuracy: 0.6647 - loss: 0.8462\n",
      "Epoch 196/200\n",
      "\u001b[1m2202/2202\u001b[0m \u001b[32m━━━━━━━━━━━━━━━━━━━━\u001b[0m\u001b[37m\u001b[0m \u001b[1m10s\u001b[0m 5ms/step - accuracy: 0.6567 - loss: 0.8534\n",
      "Epoch 197/200\n",
      "\u001b[1m2202/2202\u001b[0m \u001b[32m━━━━━━━━━━━━━━━━━━━━\u001b[0m\u001b[37m\u001b[0m \u001b[1m10s\u001b[0m 5ms/step - accuracy: 0.6609 - loss: 0.8504\n",
      "Epoch 198/200\n",
      "\u001b[1m2202/2202\u001b[0m \u001b[32m━━━━━━━━━━━━━━━━━━━━\u001b[0m\u001b[37m\u001b[0m \u001b[1m10s\u001b[0m 5ms/step - accuracy: 0.6640 - loss: 0.8448\n",
      "Epoch 199/200\n",
      "\u001b[1m2202/2202\u001b[0m \u001b[32m━━━━━━━━━━━━━━━━━━━━\u001b[0m\u001b[37m\u001b[0m \u001b[1m10s\u001b[0m 5ms/step - accuracy: 0.6644 - loss: 0.8458\n",
      "Epoch 200/200\n",
      "\u001b[1m2202/2202\u001b[0m \u001b[32m━━━━━━━━━━━━━━━━━━━━\u001b[0m\u001b[37m\u001b[0m \u001b[1m10s\u001b[0m 5ms/step - accuracy: 0.6645 - loss: 0.8430\n"
     ]
    },
    {
     "data": {
      "text/plain": [
       "<keras.src.callbacks.history.History at 0x3209d47a0>"
      ]
     },
     "execution_count": 43,
     "metadata": {},
     "output_type": "execute_result"
    }
   ],
   "source": [
    "model.fit(X_train,Y_train,epochs=200)"
   ]
  },
  {
   "cell_type": "code",
   "execution_count": null,
   "id": "bb093d34-e3a3-438a-9f03-c7fc6dca10ad",
   "metadata": {},
   "outputs": [],
   "source": []
  },
  {
   "cell_type": "code",
   "execution_count": 379,
   "id": "e488f6a5-24a1-40a9-9b73-1f4c2632eefd",
   "metadata": {},
   "outputs": [],
   "source": [
    "# model.save(\"model.keras\")"
   ]
  },
  {
   "cell_type": "code",
   "execution_count": 52,
   "id": "399d501c-24e8-4eb2-a966-9ac50aff8bbe",
   "metadata": {},
   "outputs": [],
   "source": [
    "model=load_model(\"model.keras\")"
   ]
  },
  {
   "cell_type": "code",
   "execution_count": null,
   "id": "c18d1c0c-3048-4404-93ed-6424dad538a2",
   "metadata": {},
   "outputs": [],
   "source": []
  },
  {
   "cell_type": "code",
   "execution_count": null,
   "id": "107a7ed0-9b2a-4cd2-82fc-e6e1157f43ea",
   "metadata": {},
   "outputs": [],
   "source": []
  },
  {
   "cell_type": "code",
   "execution_count": null,
   "id": "05438713-dfd4-4ade-9e0a-efdda4d7cd7c",
   "metadata": {},
   "outputs": [],
   "source": []
  },
  {
   "cell_type": "code",
   "execution_count": 48,
   "id": "fab62c64-ccfb-44b8-92cb-fff95e82cf38",
   "metadata": {},
   "outputs": [],
   "source": [
    "def predict(text,model):\n",
    "    encoded_text=Encoding(text)\n",
    "    padded_test=pad_sequences([encoded_text[0][:-1]],maxlen=maxLen,padding='pre')\n",
    "    pridected=model.predict(padded_test,verbose=False)\n",
    "    top_4CharPred=np.argsort(pridected[0])[-4:]\n",
    "    top_4Prob=pridected[0][top_4CharPred]\n",
    "\n",
    "    result={}\n",
    "    for i in range(4):\n",
    "        result[top_4Prob[i]]=IntToChar[top_4CharPred[i]]\n",
    "        \n",
    "    return result\n",
    "    \n",
    "    \n",
    "    "
   ]
  },
  {
   "cell_type": "code",
   "execution_count": null,
   "id": "15bcf0a8-12ff-4fba-91b0-7e98a083f883",
   "metadata": {},
   "outputs": [],
   "source": []
  },
  {
   "cell_type": "code",
   "execution_count": null,
   "id": "32fdbdab-addc-47d8-95e6-817324f6d40c",
   "metadata": {},
   "outputs": [],
   "source": [
    "\n"
   ]
  },
  {
   "cell_type": "code",
   "execution_count": 49,
   "id": "553de94e-5df0-449e-a0a2-594e0ea68dbd",
   "metadata": {},
   "outputs": [],
   "source": [
    "def completeWord(text,model):\n",
    "    prediction=predict(text,model)\n",
    "    probabilitis=sorted(prediction.keys(),reverse=True)\n",
    "    if prediction[probabilitis[0]]==\"end\":\n",
    "        print(\"Complete name is:-  \",text)\n",
    "        return\n",
    "    if probabilitis[0]>0.5:\n",
    "        text=[text[0]+prediction[probabilitis[0]]]\n",
    "        completeWord(text,model)\n",
    "    else:\n",
    "        completeWord([text[0]+prediction[probabilitis[0]]],model)\n",
    "        completeWord([text[0]+prediction[probabilitis[1]]],model)\n",
    "        \n",
    "        \n",
    "        \n",
    "        \n",
    "        \n",
    "        \n",
    "    \n",
    "    \n",
    "    \n",
    "    "
   ]
  },
  {
   "cell_type": "code",
   "execution_count": 73,
   "id": "75de61b1-f859-4f94-a343-1264e64f45ff",
   "metadata": {},
   "outputs": [],
   "source": [
    "word=[\"vic\"]\n"
   ]
  },
  {
   "cell_type": "code",
   "execution_count": 74,
   "id": "f6a1d9cb-43b3-4692-88ee-b40d8f6dfc33",
   "metadata": {},
   "outputs": [
    {
     "name": "stdout",
     "output_type": "stream",
     "text": [
      "Complete name is:-   ['victor']\n",
      "Complete name is:-   ['vickie']\n"
     ]
    }
   ],
   "source": [
    "completeWord(word,model)"
   ]
  },
  {
   "cell_type": "code",
   "execution_count": null,
   "id": "5684435e-0882-4b28-84b7-8092437e4b15",
   "metadata": {},
   "outputs": [],
   "source": []
  }
 ],
 "metadata": {
  "kernelspec": {
   "display_name": "pythonvenv",
   "language": "python",
   "name": "pythonvenv"
  },
  "language_info": {
   "codemirror_mode": {
    "name": "ipython",
    "version": 3
   },
   "file_extension": ".py",
   "mimetype": "text/x-python",
   "name": "python",
   "nbconvert_exporter": "python",
   "pygments_lexer": "ipython3",
   "version": "3.12.2"
  }
 },
 "nbformat": 4,
 "nbformat_minor": 5
}
