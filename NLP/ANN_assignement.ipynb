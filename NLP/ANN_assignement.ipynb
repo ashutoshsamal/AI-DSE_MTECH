{
 "cells": [
  {
   "cell_type": "code",
   "execution_count": 1,
   "id": "f3a8c57a-5f94-4ce3-a5ff-4ac6d05ca025",
   "metadata": {},
   "outputs": [],
   "source": [
    "import pandas as pd \n",
    "import numpy as np\n",
    "import matplotlib.pyplot as plt\n",
    "from sklearn.model_selection import train_test_split\n",
    "from sklearn.preprocessing import StandardScaler\n",
    "import tensorflow\n",
    "from tensorflow import keras\n",
    "from tensorflow.keras import Sequential\n",
    "from tensorflow.keras.layers import Dense\n",
    "from sklearn.metrics import accuracy_score"
   ]
  },
  {
   "cell_type": "code",
   "execution_count": null,
   "id": "dd672701-a550-48a7-8ae1-94e1585b2f54",
   "metadata": {},
   "outputs": [],
   "source": []
  },
  {
   "cell_type": "code",
   "execution_count": 2,
   "id": "e2dd1978-89bd-459b-a6f8-536ba6a63b75",
   "metadata": {},
   "outputs": [],
   "source": [
    "data=pd.read_csv(\"customer_churn_dataset-training-master.csv\")"
   ]
  },
  {
   "cell_type": "code",
   "execution_count": 3,
   "id": "2314af35-fb96-4d06-a50a-7e75409343fc",
   "metadata": {},
   "outputs": [
    {
     "data": {
      "text/html": [
       "<div>\n",
       "<style scoped>\n",
       "    .dataframe tbody tr th:only-of-type {\n",
       "        vertical-align: middle;\n",
       "    }\n",
       "\n",
       "    .dataframe tbody tr th {\n",
       "        vertical-align: top;\n",
       "    }\n",
       "\n",
       "    .dataframe thead th {\n",
       "        text-align: right;\n",
       "    }\n",
       "</style>\n",
       "<table border=\"1\" class=\"dataframe\">\n",
       "  <thead>\n",
       "    <tr style=\"text-align: right;\">\n",
       "      <th></th>\n",
       "      <th>CustomerID</th>\n",
       "      <th>Age</th>\n",
       "      <th>Gender</th>\n",
       "      <th>Tenure</th>\n",
       "      <th>Usage Frequency</th>\n",
       "      <th>Support Calls</th>\n",
       "      <th>Payment Delay</th>\n",
       "      <th>Subscription Type</th>\n",
       "      <th>Contract Length</th>\n",
       "      <th>Total Spend</th>\n",
       "      <th>Last Interaction</th>\n",
       "      <th>Churn</th>\n",
       "    </tr>\n",
       "  </thead>\n",
       "  <tbody>\n",
       "    <tr>\n",
       "      <th>0</th>\n",
       "      <td>2.0</td>\n",
       "      <td>30.0</td>\n",
       "      <td>Female</td>\n",
       "      <td>39.0</td>\n",
       "      <td>14.0</td>\n",
       "      <td>5.0</td>\n",
       "      <td>18.0</td>\n",
       "      <td>Standard</td>\n",
       "      <td>Annual</td>\n",
       "      <td>932.0</td>\n",
       "      <td>17.0</td>\n",
       "      <td>1.0</td>\n",
       "    </tr>\n",
       "    <tr>\n",
       "      <th>1</th>\n",
       "      <td>3.0</td>\n",
       "      <td>65.0</td>\n",
       "      <td>Female</td>\n",
       "      <td>49.0</td>\n",
       "      <td>1.0</td>\n",
       "      <td>10.0</td>\n",
       "      <td>8.0</td>\n",
       "      <td>Basic</td>\n",
       "      <td>Monthly</td>\n",
       "      <td>557.0</td>\n",
       "      <td>6.0</td>\n",
       "      <td>1.0</td>\n",
       "    </tr>\n",
       "    <tr>\n",
       "      <th>2</th>\n",
       "      <td>4.0</td>\n",
       "      <td>55.0</td>\n",
       "      <td>Female</td>\n",
       "      <td>14.0</td>\n",
       "      <td>4.0</td>\n",
       "      <td>6.0</td>\n",
       "      <td>18.0</td>\n",
       "      <td>Basic</td>\n",
       "      <td>Quarterly</td>\n",
       "      <td>185.0</td>\n",
       "      <td>3.0</td>\n",
       "      <td>1.0</td>\n",
       "    </tr>\n",
       "    <tr>\n",
       "      <th>3</th>\n",
       "      <td>5.0</td>\n",
       "      <td>58.0</td>\n",
       "      <td>Male</td>\n",
       "      <td>38.0</td>\n",
       "      <td>21.0</td>\n",
       "      <td>7.0</td>\n",
       "      <td>7.0</td>\n",
       "      <td>Standard</td>\n",
       "      <td>Monthly</td>\n",
       "      <td>396.0</td>\n",
       "      <td>29.0</td>\n",
       "      <td>1.0</td>\n",
       "    </tr>\n",
       "    <tr>\n",
       "      <th>4</th>\n",
       "      <td>6.0</td>\n",
       "      <td>23.0</td>\n",
       "      <td>Male</td>\n",
       "      <td>32.0</td>\n",
       "      <td>20.0</td>\n",
       "      <td>5.0</td>\n",
       "      <td>8.0</td>\n",
       "      <td>Basic</td>\n",
       "      <td>Monthly</td>\n",
       "      <td>617.0</td>\n",
       "      <td>20.0</td>\n",
       "      <td>1.0</td>\n",
       "    </tr>\n",
       "  </tbody>\n",
       "</table>\n",
       "</div>"
      ],
      "text/plain": [
       "   CustomerID   Age  Gender  Tenure  Usage Frequency  Support Calls  \\\n",
       "0         2.0  30.0  Female    39.0             14.0            5.0   \n",
       "1         3.0  65.0  Female    49.0              1.0           10.0   \n",
       "2         4.0  55.0  Female    14.0              4.0            6.0   \n",
       "3         5.0  58.0    Male    38.0             21.0            7.0   \n",
       "4         6.0  23.0    Male    32.0             20.0            5.0   \n",
       "\n",
       "   Payment Delay Subscription Type Contract Length  Total Spend  \\\n",
       "0           18.0          Standard          Annual        932.0   \n",
       "1            8.0             Basic         Monthly        557.0   \n",
       "2           18.0             Basic       Quarterly        185.0   \n",
       "3            7.0          Standard         Monthly        396.0   \n",
       "4            8.0             Basic         Monthly        617.0   \n",
       "\n",
       "   Last Interaction  Churn  \n",
       "0              17.0    1.0  \n",
       "1               6.0    1.0  \n",
       "2               3.0    1.0  \n",
       "3              29.0    1.0  \n",
       "4              20.0    1.0  "
      ]
     },
     "execution_count": 3,
     "metadata": {},
     "output_type": "execute_result"
    }
   ],
   "source": [
    "data.head()"
   ]
  },
  {
   "cell_type": "code",
   "execution_count": 4,
   "id": "b0270144-31a8-4554-9f7d-a3b75f65f6ee",
   "metadata": {},
   "outputs": [
    {
     "name": "stdout",
     "output_type": "stream",
     "text": [
      "<class 'pandas.core.frame.DataFrame'>\n",
      "RangeIndex: 440833 entries, 0 to 440832\n",
      "Data columns (total 12 columns):\n",
      " #   Column             Non-Null Count   Dtype  \n",
      "---  ------             --------------   -----  \n",
      " 0   CustomerID         440832 non-null  float64\n",
      " 1   Age                440832 non-null  float64\n",
      " 2   Gender             440832 non-null  object \n",
      " 3   Tenure             440832 non-null  float64\n",
      " 4   Usage Frequency    440832 non-null  float64\n",
      " 5   Support Calls      440832 non-null  float64\n",
      " 6   Payment Delay      440832 non-null  float64\n",
      " 7   Subscription Type  440832 non-null  object \n",
      " 8   Contract Length    440832 non-null  object \n",
      " 9   Total Spend        440832 non-null  float64\n",
      " 10  Last Interaction   440832 non-null  float64\n",
      " 11  Churn              440832 non-null  float64\n",
      "dtypes: float64(9), object(3)\n",
      "memory usage: 40.4+ MB\n"
     ]
    }
   ],
   "source": [
    "data.info()"
   ]
  },
  {
   "cell_type": "code",
   "execution_count": 5,
   "id": "8dd893a6-f7b3-41b1-b315-8530e0e7fe23",
   "metadata": {},
   "outputs": [],
   "source": [
    "data=data.dropna()\n",
    "data.drop(\"CustomerID\",inplace=True,axis=1)"
   ]
  },
  {
   "cell_type": "code",
   "execution_count": 6,
   "id": "cbb25cf8-b8c4-46d0-9540-1a28c2662da7",
   "metadata": {},
   "outputs": [],
   "source": [
    "CategoricalFeatures=[\"Gender\",\"Subscription Type\",\"Contract Length\"]"
   ]
  },
  {
   "cell_type": "code",
   "execution_count": null,
   "id": "c685a80d-304a-4e69-bb08-780259d69d13",
   "metadata": {},
   "outputs": [],
   "source": []
  },
  {
   "cell_type": "code",
   "execution_count": 7,
   "id": "d6453e5e-8147-4004-86b8-8145de7eaecc",
   "metadata": {},
   "outputs": [],
   "source": [
    "data=pd.get_dummies(data,columns=CategoricalFeatures,drop_first=True)"
   ]
  },
  {
   "cell_type": "code",
   "execution_count": 8,
   "id": "c189ade8-63f9-40c8-a70e-005b7e2c5c35",
   "metadata": {},
   "outputs": [
    {
     "data": {
      "text/html": [
       "<div>\n",
       "<style scoped>\n",
       "    .dataframe tbody tr th:only-of-type {\n",
       "        vertical-align: middle;\n",
       "    }\n",
       "\n",
       "    .dataframe tbody tr th {\n",
       "        vertical-align: top;\n",
       "    }\n",
       "\n",
       "    .dataframe thead th {\n",
       "        text-align: right;\n",
       "    }\n",
       "</style>\n",
       "<table border=\"1\" class=\"dataframe\">\n",
       "  <thead>\n",
       "    <tr style=\"text-align: right;\">\n",
       "      <th></th>\n",
       "      <th>Age</th>\n",
       "      <th>Tenure</th>\n",
       "      <th>Usage Frequency</th>\n",
       "      <th>Support Calls</th>\n",
       "      <th>Payment Delay</th>\n",
       "      <th>Total Spend</th>\n",
       "      <th>Last Interaction</th>\n",
       "      <th>Churn</th>\n",
       "      <th>Gender_Male</th>\n",
       "      <th>Subscription Type_Premium</th>\n",
       "      <th>Subscription Type_Standard</th>\n",
       "      <th>Contract Length_Monthly</th>\n",
       "      <th>Contract Length_Quarterly</th>\n",
       "    </tr>\n",
       "  </thead>\n",
       "  <tbody>\n",
       "    <tr>\n",
       "      <th>0</th>\n",
       "      <td>30.0</td>\n",
       "      <td>39.0</td>\n",
       "      <td>14.0</td>\n",
       "      <td>5.0</td>\n",
       "      <td>18.0</td>\n",
       "      <td>932.00</td>\n",
       "      <td>17.0</td>\n",
       "      <td>1.0</td>\n",
       "      <td>False</td>\n",
       "      <td>False</td>\n",
       "      <td>True</td>\n",
       "      <td>False</td>\n",
       "      <td>False</td>\n",
       "    </tr>\n",
       "    <tr>\n",
       "      <th>1</th>\n",
       "      <td>65.0</td>\n",
       "      <td>49.0</td>\n",
       "      <td>1.0</td>\n",
       "      <td>10.0</td>\n",
       "      <td>8.0</td>\n",
       "      <td>557.00</td>\n",
       "      <td>6.0</td>\n",
       "      <td>1.0</td>\n",
       "      <td>False</td>\n",
       "      <td>False</td>\n",
       "      <td>False</td>\n",
       "      <td>True</td>\n",
       "      <td>False</td>\n",
       "    </tr>\n",
       "    <tr>\n",
       "      <th>2</th>\n",
       "      <td>55.0</td>\n",
       "      <td>14.0</td>\n",
       "      <td>4.0</td>\n",
       "      <td>6.0</td>\n",
       "      <td>18.0</td>\n",
       "      <td>185.00</td>\n",
       "      <td>3.0</td>\n",
       "      <td>1.0</td>\n",
       "      <td>False</td>\n",
       "      <td>False</td>\n",
       "      <td>False</td>\n",
       "      <td>False</td>\n",
       "      <td>True</td>\n",
       "    </tr>\n",
       "    <tr>\n",
       "      <th>3</th>\n",
       "      <td>58.0</td>\n",
       "      <td>38.0</td>\n",
       "      <td>21.0</td>\n",
       "      <td>7.0</td>\n",
       "      <td>7.0</td>\n",
       "      <td>396.00</td>\n",
       "      <td>29.0</td>\n",
       "      <td>1.0</td>\n",
       "      <td>True</td>\n",
       "      <td>False</td>\n",
       "      <td>True</td>\n",
       "      <td>True</td>\n",
       "      <td>False</td>\n",
       "    </tr>\n",
       "    <tr>\n",
       "      <th>4</th>\n",
       "      <td>23.0</td>\n",
       "      <td>32.0</td>\n",
       "      <td>20.0</td>\n",
       "      <td>5.0</td>\n",
       "      <td>8.0</td>\n",
       "      <td>617.00</td>\n",
       "      <td>20.0</td>\n",
       "      <td>1.0</td>\n",
       "      <td>True</td>\n",
       "      <td>False</td>\n",
       "      <td>False</td>\n",
       "      <td>True</td>\n",
       "      <td>False</td>\n",
       "    </tr>\n",
       "    <tr>\n",
       "      <th>...</th>\n",
       "      <td>...</td>\n",
       "      <td>...</td>\n",
       "      <td>...</td>\n",
       "      <td>...</td>\n",
       "      <td>...</td>\n",
       "      <td>...</td>\n",
       "      <td>...</td>\n",
       "      <td>...</td>\n",
       "      <td>...</td>\n",
       "      <td>...</td>\n",
       "      <td>...</td>\n",
       "      <td>...</td>\n",
       "      <td>...</td>\n",
       "    </tr>\n",
       "    <tr>\n",
       "      <th>440828</th>\n",
       "      <td>42.0</td>\n",
       "      <td>54.0</td>\n",
       "      <td>15.0</td>\n",
       "      <td>1.0</td>\n",
       "      <td>3.0</td>\n",
       "      <td>716.38</td>\n",
       "      <td>8.0</td>\n",
       "      <td>0.0</td>\n",
       "      <td>True</td>\n",
       "      <td>True</td>\n",
       "      <td>False</td>\n",
       "      <td>False</td>\n",
       "      <td>False</td>\n",
       "    </tr>\n",
       "    <tr>\n",
       "      <th>440829</th>\n",
       "      <td>25.0</td>\n",
       "      <td>8.0</td>\n",
       "      <td>13.0</td>\n",
       "      <td>1.0</td>\n",
       "      <td>20.0</td>\n",
       "      <td>745.38</td>\n",
       "      <td>2.0</td>\n",
       "      <td>0.0</td>\n",
       "      <td>False</td>\n",
       "      <td>True</td>\n",
       "      <td>False</td>\n",
       "      <td>False</td>\n",
       "      <td>False</td>\n",
       "    </tr>\n",
       "    <tr>\n",
       "      <th>440830</th>\n",
       "      <td>26.0</td>\n",
       "      <td>35.0</td>\n",
       "      <td>27.0</td>\n",
       "      <td>1.0</td>\n",
       "      <td>5.0</td>\n",
       "      <td>977.31</td>\n",
       "      <td>9.0</td>\n",
       "      <td>0.0</td>\n",
       "      <td>True</td>\n",
       "      <td>False</td>\n",
       "      <td>True</td>\n",
       "      <td>False</td>\n",
       "      <td>True</td>\n",
       "    </tr>\n",
       "    <tr>\n",
       "      <th>440831</th>\n",
       "      <td>28.0</td>\n",
       "      <td>55.0</td>\n",
       "      <td>14.0</td>\n",
       "      <td>2.0</td>\n",
       "      <td>0.0</td>\n",
       "      <td>602.55</td>\n",
       "      <td>2.0</td>\n",
       "      <td>0.0</td>\n",
       "      <td>True</td>\n",
       "      <td>False</td>\n",
       "      <td>True</td>\n",
       "      <td>False</td>\n",
       "      <td>True</td>\n",
       "    </tr>\n",
       "    <tr>\n",
       "      <th>440832</th>\n",
       "      <td>31.0</td>\n",
       "      <td>48.0</td>\n",
       "      <td>20.0</td>\n",
       "      <td>1.0</td>\n",
       "      <td>14.0</td>\n",
       "      <td>567.77</td>\n",
       "      <td>21.0</td>\n",
       "      <td>0.0</td>\n",
       "      <td>True</td>\n",
       "      <td>True</td>\n",
       "      <td>False</td>\n",
       "      <td>False</td>\n",
       "      <td>True</td>\n",
       "    </tr>\n",
       "  </tbody>\n",
       "</table>\n",
       "<p>440832 rows × 13 columns</p>\n",
       "</div>"
      ],
      "text/plain": [
       "         Age  Tenure  Usage Frequency  Support Calls  Payment Delay  \\\n",
       "0       30.0    39.0             14.0            5.0           18.0   \n",
       "1       65.0    49.0              1.0           10.0            8.0   \n",
       "2       55.0    14.0              4.0            6.0           18.0   \n",
       "3       58.0    38.0             21.0            7.0            7.0   \n",
       "4       23.0    32.0             20.0            5.0            8.0   \n",
       "...      ...     ...              ...            ...            ...   \n",
       "440828  42.0    54.0             15.0            1.0            3.0   \n",
       "440829  25.0     8.0             13.0            1.0           20.0   \n",
       "440830  26.0    35.0             27.0            1.0            5.0   \n",
       "440831  28.0    55.0             14.0            2.0            0.0   \n",
       "440832  31.0    48.0             20.0            1.0           14.0   \n",
       "\n",
       "        Total Spend  Last Interaction  Churn  Gender_Male  \\\n",
       "0            932.00              17.0    1.0        False   \n",
       "1            557.00               6.0    1.0        False   \n",
       "2            185.00               3.0    1.0        False   \n",
       "3            396.00              29.0    1.0         True   \n",
       "4            617.00              20.0    1.0         True   \n",
       "...             ...               ...    ...          ...   \n",
       "440828       716.38               8.0    0.0         True   \n",
       "440829       745.38               2.0    0.0        False   \n",
       "440830       977.31               9.0    0.0         True   \n",
       "440831       602.55               2.0    0.0         True   \n",
       "440832       567.77              21.0    0.0         True   \n",
       "\n",
       "        Subscription Type_Premium  Subscription Type_Standard  \\\n",
       "0                           False                        True   \n",
       "1                           False                       False   \n",
       "2                           False                       False   \n",
       "3                           False                        True   \n",
       "4                           False                       False   \n",
       "...                           ...                         ...   \n",
       "440828                       True                       False   \n",
       "440829                       True                       False   \n",
       "440830                      False                        True   \n",
       "440831                      False                        True   \n",
       "440832                       True                       False   \n",
       "\n",
       "        Contract Length_Monthly  Contract Length_Quarterly  \n",
       "0                         False                      False  \n",
       "1                          True                      False  \n",
       "2                         False                       True  \n",
       "3                          True                      False  \n",
       "4                          True                      False  \n",
       "...                         ...                        ...  \n",
       "440828                    False                      False  \n",
       "440829                    False                      False  \n",
       "440830                    False                       True  \n",
       "440831                    False                       True  \n",
       "440832                    False                       True  \n",
       "\n",
       "[440832 rows x 13 columns]"
      ]
     },
     "execution_count": 8,
     "metadata": {},
     "output_type": "execute_result"
    }
   ],
   "source": [
    "data"
   ]
  },
  {
   "cell_type": "code",
   "execution_count": null,
   "id": "f5c48ee1-958a-4493-9f63-1f932e012803",
   "metadata": {},
   "outputs": [],
   "source": []
  },
  {
   "cell_type": "code",
   "execution_count": 9,
   "id": "cbc48f55-fd7b-411e-abee-996b04848bf4",
   "metadata": {},
   "outputs": [],
   "source": [
    "InputFeature=[\"Age\",\"Tenure\",\"Usage Frequency\",\"Support Calls\",\t\"Payment Delay\",\"Total Spend\",\"Last Interaction\",\"Gender_Male\",\"Subscription Type_Premium\",\"Subscription Type_Standard\",\"Contract Length_Monthly\",\"Contract Length_Quarterly\"]\n",
    "LabelColumn=[\"Churn\"]"
   ]
  },
  {
   "cell_type": "code",
   "execution_count": 10,
   "id": "afdf6ffc-de3f-49b8-b3a2-0b8fe37fa7d6",
   "metadata": {},
   "outputs": [],
   "source": [
    "X_Data=data[InputFeature]\n",
    "Y_Data=data[LabelColumn]"
   ]
  },
  {
   "cell_type": "code",
   "execution_count": 11,
   "id": "15e2ee8c-9cab-48b6-b1fc-0df0db69d779",
   "metadata": {},
   "outputs": [
    {
     "data": {
      "text/plain": [
       "Churn\n",
       "1.0      249999\n",
       "0.0      190833\n",
       "Name: count, dtype: int64"
      ]
     },
     "execution_count": 11,
     "metadata": {},
     "output_type": "execute_result"
    }
   ],
   "source": [
    "Y_Data.value_counts()"
   ]
  },
  {
   "cell_type": "code",
   "execution_count": 12,
   "id": "c06a49ea-9d82-4410-b8b9-0d475bd07a3c",
   "metadata": {},
   "outputs": [
    {
     "name": "stdout",
     "output_type": "stream",
     "text": [
      "<class 'pandas.core.frame.DataFrame'>\n",
      "Index: 440832 entries, 0 to 440832\n",
      "Data columns (total 12 columns):\n",
      " #   Column                      Non-Null Count   Dtype  \n",
      "---  ------                      --------------   -----  \n",
      " 0   Age                         440832 non-null  float64\n",
      " 1   Tenure                      440832 non-null  float64\n",
      " 2   Usage Frequency             440832 non-null  float64\n",
      " 3   Support Calls               440832 non-null  float64\n",
      " 4   Payment Delay               440832 non-null  float64\n",
      " 5   Total Spend                 440832 non-null  float64\n",
      " 6   Last Interaction            440832 non-null  float64\n",
      " 7   Gender_Male                 440832 non-null  bool   \n",
      " 8   Subscription Type_Premium   440832 non-null  bool   \n",
      " 9   Subscription Type_Standard  440832 non-null  bool   \n",
      " 10  Contract Length_Monthly     440832 non-null  bool   \n",
      " 11  Contract Length_Quarterly   440832 non-null  bool   \n",
      "dtypes: bool(5), float64(7)\n",
      "memory usage: 29.0 MB\n"
     ]
    }
   ],
   "source": [
    "X_Data.info()\n"
   ]
  },
  {
   "cell_type": "code",
   "execution_count": 13,
   "id": "156e4ff5-4c48-442a-a2ea-a3e13b3e8258",
   "metadata": {},
   "outputs": [],
   "source": [
    "X_train, X_test, y_train, y_test = train_test_split(X_Data, Y_Data, test_size=0.20, random_state=42)"
   ]
  },
  {
   "cell_type": "code",
   "execution_count": 14,
   "id": "690e3b06-a0bb-4175-98a9-e9fb3d443b0c",
   "metadata": {},
   "outputs": [
    {
     "data": {
      "text/plain": [
       "Churn\n",
       "1.0      199895\n",
       "0.0      152770\n",
       "Name: count, dtype: int64"
      ]
     },
     "execution_count": 14,
     "metadata": {},
     "output_type": "execute_result"
    }
   ],
   "source": [
    "y_train.value_counts()"
   ]
  },
  {
   "cell_type": "code",
   "execution_count": 15,
   "id": "c0158ad3-4867-4691-9b69-21591f203334",
   "metadata": {},
   "outputs": [
    {
     "data": {
      "text/plain": [
       "(352665, 12)"
      ]
     },
     "execution_count": 15,
     "metadata": {},
     "output_type": "execute_result"
    }
   ],
   "source": [
    "X_train.shape"
   ]
  },
  {
   "cell_type": "code",
   "execution_count": 16,
   "id": "64fd627e-549d-4dbb-be97-b9441b4a6909",
   "metadata": {},
   "outputs": [],
   "source": [
    "scaler=StandardScaler()\n",
    "scaler.fit(X_train)\n",
    "X_train_scaled=scaler.transform(X_train)\n",
    "X_test_scaled=scaler.transform(X_test)\n"
   ]
  },
  {
   "cell_type": "code",
   "execution_count": 17,
   "id": "a97d7f8d-2457-4f18-b8e9-b7546246b8c7",
   "metadata": {},
   "outputs": [
    {
     "name": "stderr",
     "output_type": "stream",
     "text": [
      "/Users/a0s0iro/PycharmProjects/AI-DSE_MTECH/pythonvenv/lib/python3.12/site-packages/keras/src/layers/core/dense.py:87: UserWarning: Do not pass an `input_shape`/`input_dim` argument to a layer. When using Sequential models, prefer using an `Input(shape)` object as the first layer in the model instead.\n",
      "  super().__init__(activity_regularizer=activity_regularizer, **kwargs)\n"
     ]
    }
   ],
   "source": [
    "model=Sequential()\n",
    "model.add(Dense(5,activation='sigmoid',input_dim=12))\n",
    "model.add(Dense(1,activation='sigmoid'))"
   ]
  },
  {
   "cell_type": "code",
   "execution_count": 18,
   "id": "251bc0ce-7b84-4d0c-95fb-616419b13fa6",
   "metadata": {},
   "outputs": [
    {
     "data": {
      "text/html": [
       "<pre style=\"white-space:pre;overflow-x:auto;line-height:normal;font-family:Menlo,'DejaVu Sans Mono',consolas,'Courier New',monospace\"><span style=\"font-weight: bold\">Model: \"sequential\"</span>\n",
       "</pre>\n"
      ],
      "text/plain": [
       "\u001b[1mModel: \"sequential\"\u001b[0m\n"
      ]
     },
     "metadata": {},
     "output_type": "display_data"
    },
    {
     "data": {
      "text/html": [
       "<pre style=\"white-space:pre;overflow-x:auto;line-height:normal;font-family:Menlo,'DejaVu Sans Mono',consolas,'Courier New',monospace\">┏━━━━━━━━━━━━━━━━━━━━━━━━━━━━━━━━━┳━━━━━━━━━━━━━━━━━━━━━━━━┳━━━━━━━━━━━━━━━┓\n",
       "┃<span style=\"font-weight: bold\"> Layer (type)                    </span>┃<span style=\"font-weight: bold\"> Output Shape           </span>┃<span style=\"font-weight: bold\">       Param # </span>┃\n",
       "┡━━━━━━━━━━━━━━━━━━━━━━━━━━━━━━━━━╇━━━━━━━━━━━━━━━━━━━━━━━━╇━━━━━━━━━━━━━━━┩\n",
       "│ dense (<span style=\"color: #0087ff; text-decoration-color: #0087ff\">Dense</span>)                   │ (<span style=\"color: #00d7ff; text-decoration-color: #00d7ff\">None</span>, <span style=\"color: #00af00; text-decoration-color: #00af00\">5</span>)              │            <span style=\"color: #00af00; text-decoration-color: #00af00\">65</span> │\n",
       "├─────────────────────────────────┼────────────────────────┼───────────────┤\n",
       "│ dense_1 (<span style=\"color: #0087ff; text-decoration-color: #0087ff\">Dense</span>)                 │ (<span style=\"color: #00d7ff; text-decoration-color: #00d7ff\">None</span>, <span style=\"color: #00af00; text-decoration-color: #00af00\">1</span>)              │             <span style=\"color: #00af00; text-decoration-color: #00af00\">6</span> │\n",
       "└─────────────────────────────────┴────────────────────────┴───────────────┘\n",
       "</pre>\n"
      ],
      "text/plain": [
       "┏━━━━━━━━━━━━━━━━━━━━━━━━━━━━━━━━━┳━━━━━━━━━━━━━━━━━━━━━━━━┳━━━━━━━━━━━━━━━┓\n",
       "┃\u001b[1m \u001b[0m\u001b[1mLayer (type)                   \u001b[0m\u001b[1m \u001b[0m┃\u001b[1m \u001b[0m\u001b[1mOutput Shape          \u001b[0m\u001b[1m \u001b[0m┃\u001b[1m \u001b[0m\u001b[1m      Param #\u001b[0m\u001b[1m \u001b[0m┃\n",
       "┡━━━━━━━━━━━━━━━━━━━━━━━━━━━━━━━━━╇━━━━━━━━━━━━━━━━━━━━━━━━╇━━━━━━━━━━━━━━━┩\n",
       "│ dense (\u001b[38;5;33mDense\u001b[0m)                   │ (\u001b[38;5;45mNone\u001b[0m, \u001b[38;5;34m5\u001b[0m)              │            \u001b[38;5;34m65\u001b[0m │\n",
       "├─────────────────────────────────┼────────────────────────┼───────────────┤\n",
       "│ dense_1 (\u001b[38;5;33mDense\u001b[0m)                 │ (\u001b[38;5;45mNone\u001b[0m, \u001b[38;5;34m1\u001b[0m)              │             \u001b[38;5;34m6\u001b[0m │\n",
       "└─────────────────────────────────┴────────────────────────┴───────────────┘\n"
      ]
     },
     "metadata": {},
     "output_type": "display_data"
    },
    {
     "data": {
      "text/html": [
       "<pre style=\"white-space:pre;overflow-x:auto;line-height:normal;font-family:Menlo,'DejaVu Sans Mono',consolas,'Courier New',monospace\"><span style=\"font-weight: bold\"> Total params: </span><span style=\"color: #00af00; text-decoration-color: #00af00\">71</span> (284.00 B)\n",
       "</pre>\n"
      ],
      "text/plain": [
       "\u001b[1m Total params: \u001b[0m\u001b[38;5;34m71\u001b[0m (284.00 B)\n"
      ]
     },
     "metadata": {},
     "output_type": "display_data"
    },
    {
     "data": {
      "text/html": [
       "<pre style=\"white-space:pre;overflow-x:auto;line-height:normal;font-family:Menlo,'DejaVu Sans Mono',consolas,'Courier New',monospace\"><span style=\"font-weight: bold\"> Trainable params: </span><span style=\"color: #00af00; text-decoration-color: #00af00\">71</span> (284.00 B)\n",
       "</pre>\n"
      ],
      "text/plain": [
       "\u001b[1m Trainable params: \u001b[0m\u001b[38;5;34m71\u001b[0m (284.00 B)\n"
      ]
     },
     "metadata": {},
     "output_type": "display_data"
    },
    {
     "data": {
      "text/html": [
       "<pre style=\"white-space:pre;overflow-x:auto;line-height:normal;font-family:Menlo,'DejaVu Sans Mono',consolas,'Courier New',monospace\"><span style=\"font-weight: bold\"> Non-trainable params: </span><span style=\"color: #00af00; text-decoration-color: #00af00\">0</span> (0.00 B)\n",
       "</pre>\n"
      ],
      "text/plain": [
       "\u001b[1m Non-trainable params: \u001b[0m\u001b[38;5;34m0\u001b[0m (0.00 B)\n"
      ]
     },
     "metadata": {},
     "output_type": "display_data"
    }
   ],
   "source": [
    "model.summary()"
   ]
  },
  {
   "cell_type": "code",
   "execution_count": 19,
   "id": "17fc1f76-9780-4174-8e05-a1d28d6e4684",
   "metadata": {},
   "outputs": [],
   "source": [
    "model.compile(loss='binary_crossentropy',optimizer='Adam')"
   ]
  },
  {
   "cell_type": "code",
   "execution_count": 20,
   "id": "432d8b38-3884-4973-95dd-f1242479d61f",
   "metadata": {},
   "outputs": [
    {
     "name": "stdout",
     "output_type": "stream",
     "text": [
      "Epoch 1/100\n",
      "11021/11021 - 2s - 186us/step - loss: 0.2482\n",
      "Epoch 2/100\n",
      "11021/11021 - 2s - 172us/step - loss: 0.1710\n",
      "Epoch 3/100\n",
      "11021/11021 - 2s - 169us/step - loss: 0.1393\n",
      "Epoch 4/100\n",
      "11021/11021 - 2s - 168us/step - loss: 0.1149\n",
      "Epoch 5/100\n",
      "11021/11021 - 2s - 170us/step - loss: 0.0988\n",
      "Epoch 6/100\n",
      "11021/11021 - 2s - 169us/step - loss: 0.0883\n",
      "Epoch 7/100\n",
      "11021/11021 - 2s - 170us/step - loss: 0.0815\n",
      "Epoch 8/100\n",
      "11021/11021 - 2s - 171us/step - loss: 0.0767\n",
      "Epoch 9/100\n",
      "11021/11021 - 2s - 168us/step - loss: 0.0718\n",
      "Epoch 10/100\n",
      "11021/11021 - 2s - 170us/step - loss: 0.0631\n",
      "Epoch 11/100\n",
      "11021/11021 - 2s - 172us/step - loss: 0.0547\n",
      "Epoch 12/100\n",
      "11021/11021 - 2s - 167us/step - loss: 0.0491\n",
      "Epoch 13/100\n",
      "11021/11021 - 2s - 168us/step - loss: 0.0450\n",
      "Epoch 14/100\n",
      "11021/11021 - 2s - 169us/step - loss: 0.0419\n",
      "Epoch 15/100\n",
      "11021/11021 - 2s - 168us/step - loss: 0.0395\n",
      "Epoch 16/100\n",
      "11021/11021 - 2s - 168us/step - loss: 0.0375\n",
      "Epoch 17/100\n",
      "11021/11021 - 2s - 168us/step - loss: 0.0359\n",
      "Epoch 18/100\n",
      "11021/11021 - 2s - 173us/step - loss: 0.0346\n",
      "Epoch 19/100\n",
      "11021/11021 - 2s - 171us/step - loss: 0.0335\n",
      "Epoch 20/100\n",
      "11021/11021 - 2s - 170us/step - loss: 0.0326\n",
      "Epoch 21/100\n",
      "11021/11021 - 2s - 171us/step - loss: 0.0317\n",
      "Epoch 22/100\n",
      "11021/11021 - 2s - 172us/step - loss: 0.0310\n",
      "Epoch 23/100\n",
      "11021/11021 - 2s - 172us/step - loss: 0.0304\n",
      "Epoch 24/100\n",
      "11021/11021 - 2s - 172us/step - loss: 0.0298\n",
      "Epoch 25/100\n",
      "11021/11021 - 2s - 173us/step - loss: 0.0293\n",
      "Epoch 26/100\n",
      "11021/11021 - 2s - 171us/step - loss: 0.0288\n",
      "Epoch 27/100\n",
      "11021/11021 - 2s - 173us/step - loss: 0.0284\n",
      "Epoch 28/100\n",
      "11021/11021 - 2s - 177us/step - loss: 0.0280\n",
      "Epoch 29/100\n",
      "11021/11021 - 2s - 186us/step - loss: 0.0276\n",
      "Epoch 30/100\n",
      "11021/11021 - 2s - 185us/step - loss: 0.0273\n",
      "Epoch 31/100\n",
      "11021/11021 - 2s - 192us/step - loss: 0.0270\n",
      "Epoch 32/100\n",
      "11021/11021 - 2s - 190us/step - loss: 0.0267\n",
      "Epoch 33/100\n",
      "11021/11021 - 2s - 187us/step - loss: 0.0264\n",
      "Epoch 34/100\n",
      "11021/11021 - 2s - 186us/step - loss: 0.0262\n",
      "Epoch 35/100\n",
      "11021/11021 - 2s - 178us/step - loss: 0.0260\n",
      "Epoch 36/100\n",
      "11021/11021 - 2s - 182us/step - loss: 0.0257\n",
      "Epoch 37/100\n",
      "11021/11021 - 2s - 176us/step - loss: 0.0255\n",
      "Epoch 38/100\n",
      "11021/11021 - 2s - 175us/step - loss: 0.0253\n",
      "Epoch 39/100\n",
      "11021/11021 - 2s - 176us/step - loss: 0.0251\n",
      "Epoch 40/100\n",
      "11021/11021 - 2s - 174us/step - loss: 0.0249\n",
      "Epoch 41/100\n",
      "11021/11021 - 2s - 173us/step - loss: 0.0247\n",
      "Epoch 42/100\n",
      "11021/11021 - 2s - 172us/step - loss: 0.0246\n",
      "Epoch 43/100\n",
      "11021/11021 - 2s - 177us/step - loss: 0.0244\n",
      "Epoch 44/100\n",
      "11021/11021 - 2s - 176us/step - loss: 0.0243\n",
      "Epoch 45/100\n",
      "11021/11021 - 2s - 173us/step - loss: 0.0241\n",
      "Epoch 46/100\n",
      "11021/11021 - 2s - 175us/step - loss: 0.0240\n",
      "Epoch 47/100\n",
      "11021/11021 - 2s - 177us/step - loss: 0.0238\n",
      "Epoch 48/100\n",
      "11021/11021 - 2s - 176us/step - loss: 0.0237\n",
      "Epoch 49/100\n",
      "11021/11021 - 2s - 174us/step - loss: 0.0236\n",
      "Epoch 50/100\n",
      "11021/11021 - 2s - 175us/step - loss: 0.0235\n",
      "Epoch 51/100\n",
      "11021/11021 - 2s - 177us/step - loss: 0.0233\n",
      "Epoch 52/100\n",
      "11021/11021 - 2s - 173us/step - loss: 0.0232\n",
      "Epoch 53/100\n",
      "11021/11021 - 2s - 173us/step - loss: 0.0231\n",
      "Epoch 54/100\n",
      "11021/11021 - 2s - 173us/step - loss: 0.0230\n",
      "Epoch 55/100\n",
      "11021/11021 - 2s - 175us/step - loss: 0.0229\n",
      "Epoch 56/100\n",
      "11021/11021 - 2s - 169us/step - loss: 0.0228\n",
      "Epoch 57/100\n",
      "11021/11021 - 2s - 166us/step - loss: 0.0227\n",
      "Epoch 58/100\n",
      "11021/11021 - 2s - 175us/step - loss: 0.0226\n",
      "Epoch 59/100\n",
      "11021/11021 - 2s - 177us/step - loss: 0.0225\n",
      "Epoch 60/100\n",
      "11021/11021 - 2s - 175us/step - loss: 0.0224\n",
      "Epoch 61/100\n",
      "11021/11021 - 2s - 176us/step - loss: 0.0224\n",
      "Epoch 62/100\n",
      "11021/11021 - 2s - 175us/step - loss: 0.0223\n",
      "Epoch 63/100\n",
      "11021/11021 - 2s - 178us/step - loss: 0.0222\n",
      "Epoch 64/100\n",
      "11021/11021 - 2s - 175us/step - loss: 0.0221\n",
      "Epoch 65/100\n",
      "11021/11021 - 2s - 175us/step - loss: 0.0220\n",
      "Epoch 66/100\n",
      "11021/11021 - 2s - 176us/step - loss: 0.0219\n",
      "Epoch 67/100\n",
      "11021/11021 - 2s - 175us/step - loss: 0.0219\n",
      "Epoch 68/100\n",
      "11021/11021 - 2s - 176us/step - loss: 0.0218\n",
      "Epoch 69/100\n",
      "11021/11021 - 2s - 175us/step - loss: 0.0217\n",
      "Epoch 70/100\n",
      "11021/11021 - 2s - 175us/step - loss: 0.0216\n",
      "Epoch 71/100\n",
      "11021/11021 - 2s - 175us/step - loss: 0.0216\n",
      "Epoch 72/100\n",
      "11021/11021 - 2s - 175us/step - loss: 0.0215\n",
      "Epoch 73/100\n",
      "11021/11021 - 2s - 176us/step - loss: 0.0214\n",
      "Epoch 74/100\n",
      "11021/11021 - 2s - 175us/step - loss: 0.0214\n",
      "Epoch 75/100\n",
      "11021/11021 - 2s - 176us/step - loss: 0.0213\n",
      "Epoch 76/100\n",
      "11021/11021 - 2s - 175us/step - loss: 0.0212\n",
      "Epoch 77/100\n",
      "11021/11021 - 2s - 174us/step - loss: 0.0212\n",
      "Epoch 78/100\n",
      "11021/11021 - 2s - 176us/step - loss: 0.0211\n",
      "Epoch 79/100\n",
      "11021/11021 - 2s - 173us/step - loss: 0.0211\n",
      "Epoch 80/100\n",
      "11021/11021 - 2s - 173us/step - loss: 0.0210\n",
      "Epoch 81/100\n",
      "11021/11021 - 2s - 183us/step - loss: 0.0210\n",
      "Epoch 82/100\n",
      "11021/11021 - 2s - 181us/step - loss: 0.0209\n",
      "Epoch 83/100\n",
      "11021/11021 - 2s - 183us/step - loss: 0.0209\n",
      "Epoch 84/100\n",
      "11021/11021 - 2s - 183us/step - loss: 0.0208\n",
      "Epoch 85/100\n",
      "11021/11021 - 2s - 183us/step - loss: 0.0207\n",
      "Epoch 86/100\n",
      "11021/11021 - 2s - 183us/step - loss: 0.0207\n",
      "Epoch 87/100\n",
      "11021/11021 - 2s - 185us/step - loss: 0.0207\n",
      "Epoch 88/100\n",
      "11021/11021 - 2s - 177us/step - loss: 0.0206\n",
      "Epoch 89/100\n",
      "11021/11021 - 2s - 179us/step - loss: 0.0205\n",
      "Epoch 90/100\n",
      "11021/11021 - 2s - 178us/step - loss: 0.0205\n",
      "Epoch 91/100\n",
      "11021/11021 - 2s - 184us/step - loss: 0.0205\n",
      "Epoch 92/100\n",
      "11021/11021 - 2s - 176us/step - loss: 0.0204\n",
      "Epoch 93/100\n",
      "11021/11021 - 2s - 177us/step - loss: 0.0203\n",
      "Epoch 94/100\n",
      "11021/11021 - 2s - 181us/step - loss: 0.0203\n",
      "Epoch 95/100\n",
      "11021/11021 - 2s - 176us/step - loss: 0.0203\n",
      "Epoch 96/100\n",
      "11021/11021 - 2s - 178us/step - loss: 0.0202\n",
      "Epoch 97/100\n",
      "11021/11021 - 2s - 182us/step - loss: 0.0202\n",
      "Epoch 98/100\n",
      "11021/11021 - 2s - 180us/step - loss: 0.0202\n",
      "Epoch 99/100\n",
      "11021/11021 - 2s - 177us/step - loss: 0.0201\n",
      "Epoch 100/100\n",
      "11021/11021 - 2s - 177us/step - loss: 0.0201\n"
     ]
    }
   ],
   "source": [
    "history=model.fit(X_train_scaled,y_train,epochs=100,verbose=2)"
   ]
  },
  {
   "cell_type": "code",
   "execution_count": 21,
   "id": "f3fd82d6-63f7-44d9-a396-f29a95022426",
   "metadata": {},
   "outputs": [
    {
     "name": "stdout",
     "output_type": "stream",
     "text": [
      "\u001b[1m2756/2756\u001b[0m \u001b[32m━━━━━━━━━━━━━━━━━━━━\u001b[0m\u001b[37m\u001b[0m \u001b[1m0s\u001b[0m 149us/step\n"
     ]
    }
   ],
   "source": [
    "predicted=model.predict(X_test_scaled)"
   ]
  },
  {
   "cell_type": "code",
   "execution_count": 22,
   "id": "0077e230-018c-4acf-93fc-e467827a049e",
   "metadata": {},
   "outputs": [
    {
     "name": "stdout",
     "output_type": "stream",
     "text": [
      "Accuracy with one hidden layer:- 0.9959622080823891\n"
     ]
    }
   ],
   "source": [
    "y_pred=np.where(predicted>0.5,1,0)\n",
    "print(\"Accuracy with one hidden layer:-\",accuracy_score(y_pred=y_pred,y_true=y_test))"
   ]
  },
  {
   "cell_type": "code",
   "execution_count": 23,
   "id": "c5412b0a-af2e-4790-b97d-236c0c4a7da5",
   "metadata": {},
   "outputs": [
    {
     "data": {
      "text/plain": [
       "Text(0.5, 1.0, 'Loss vs epochs for one hidden layer model')"
      ]
     },
     "execution_count": 23,
     "metadata": {},
     "output_type": "execute_result"
    },
    {
     "data": {
      "image/png": "[encoded data removed]",
      "text/plain": [
       "<Figure size 640x480 with 1 Axes>"
      ]
     },
     "metadata": {},
     "output_type": "display_data"
    }
   ],
   "source": [
    "plt.plot(history.history['loss'])   ## Plot of loss with epoch\n",
    "plt.xlabel(\"Epochs\")\n",
    "plt.ylabel(\"Loss\")\n",
    "plt.title(\"Loss vs epochs for one hidden layer model\")"
   ]
  },
  {
   "cell_type": "code",
   "execution_count": 24,
   "id": "50e37587-8019-442f-a3be-64e7778b2154",
   "metadata": {},
   "outputs": [],
   "source": [
    "### model2 with 2 hidden layer "
   ]
  },
  {
   "cell_type": "code",
   "execution_count": 25,
   "id": "70285936-f8c8-4434-a59d-03a60b139dab",
   "metadata": {},
   "outputs": [
    {
     "name": "stderr",
     "output_type": "stream",
     "text": [
      "/Users/a0s0iro/PycharmProjects/AI-DSE_MTECH/pythonvenv/lib/python3.12/site-packages/keras/src/layers/core/dense.py:87: UserWarning: Do not pass an `input_shape`/`input_dim` argument to a layer. When using Sequential models, prefer using an `Input(shape)` object as the first layer in the model instead.\n",
      "  super().__init__(activity_regularizer=activity_regularizer, **kwargs)\n"
     ]
    }
   ],
   "source": [
    "model2=Sequential()\n",
    "model2.add(Dense(7,activation='sigmoid',input_dim=12))\n",
    "model2.add(Dense(3,activation='sigmoid'))\n",
    "model2.add(Dense(1,activation='sigmoid'))"
   ]
  },
  {
   "cell_type": "code",
   "execution_count": 26,
   "id": "40a66739-ed92-4753-850e-4563048cc256",
   "metadata": {},
   "outputs": [
    {
     "data": {
      "text/html": [
       "<pre style=\"white-space:pre;overflow-x:auto;line-height:normal;font-family:Menlo,'DejaVu Sans Mono',consolas,'Courier New',monospace\"><span style=\"font-weight: bold\">Model: \"sequential_1\"</span>\n",
       "</pre>\n"
      ],
      "text/plain": [
       "\u001b[1mModel: \"sequential_1\"\u001b[0m\n"
      ]
     },
     "metadata": {},
     "output_type": "display_data"
    },
    {
     "data": {
      "text/html": [
       "<pre style=\"white-space:pre;overflow-x:auto;line-height:normal;font-family:Menlo,'DejaVu Sans Mono',consolas,'Courier New',monospace\">┏━━━━━━━━━━━━━━━━━━━━━━━━━━━━━━━━━┳━━━━━━━━━━━━━━━━━━━━━━━━┳━━━━━━━━━━━━━━━┓\n",
       "┃<span style=\"font-weight: bold\"> Layer (type)                    </span>┃<span style=\"font-weight: bold\"> Output Shape           </span>┃<span style=\"font-weight: bold\">       Param # </span>┃\n",
       "┡━━━━━━━━━━━━━━━━━━━━━━━━━━━━━━━━━╇━━━━━━━━━━━━━━━━━━━━━━━━╇━━━━━━━━━━━━━━━┩\n",
       "│ dense_2 (<span style=\"color: #0087ff; text-decoration-color: #0087ff\">Dense</span>)                 │ (<span style=\"color: #00d7ff; text-decoration-color: #00d7ff\">None</span>, <span style=\"color: #00af00; text-decoration-color: #00af00\">7</span>)              │            <span style=\"color: #00af00; text-decoration-color: #00af00\">91</span> │\n",
       "├─────────────────────────────────┼────────────────────────┼───────────────┤\n",
       "│ dense_3 (<span style=\"color: #0087ff; text-decoration-color: #0087ff\">Dense</span>)                 │ (<span style=\"color: #00d7ff; text-decoration-color: #00d7ff\">None</span>, <span style=\"color: #00af00; text-decoration-color: #00af00\">3</span>)              │            <span style=\"color: #00af00; text-decoration-color: #00af00\">24</span> │\n",
       "├─────────────────────────────────┼────────────────────────┼───────────────┤\n",
       "│ dense_4 (<span style=\"color: #0087ff; text-decoration-color: #0087ff\">Dense</span>)                 │ (<span style=\"color: #00d7ff; text-decoration-color: #00d7ff\">None</span>, <span style=\"color: #00af00; text-decoration-color: #00af00\">1</span>)              │             <span style=\"color: #00af00; text-decoration-color: #00af00\">4</span> │\n",
       "└─────────────────────────────────┴────────────────────────┴───────────────┘\n",
       "</pre>\n"
      ],
      "text/plain": [
       "┏━━━━━━━━━━━━━━━━━━━━━━━━━━━━━━━━━┳━━━━━━━━━━━━━━━━━━━━━━━━┳━━━━━━━━━━━━━━━┓\n",
       "┃\u001b[1m \u001b[0m\u001b[1mLayer (type)                   \u001b[0m\u001b[1m \u001b[0m┃\u001b[1m \u001b[0m\u001b[1mOutput Shape          \u001b[0m\u001b[1m \u001b[0m┃\u001b[1m \u001b[0m\u001b[1m      Param #\u001b[0m\u001b[1m \u001b[0m┃\n",
       "┡━━━━━━━━━━━━━━━━━━━━━━━━━━━━━━━━━╇━━━━━━━━━━━━━━━━━━━━━━━━╇━━━━━━━━━━━━━━━┩\n",
       "│ dense_2 (\u001b[38;5;33mDense\u001b[0m)                 │ (\u001b[38;5;45mNone\u001b[0m, \u001b[38;5;34m7\u001b[0m)              │            \u001b[38;5;34m91\u001b[0m │\n",
       "├─────────────────────────────────┼────────────────────────┼───────────────┤\n",
       "│ dense_3 (\u001b[38;5;33mDense\u001b[0m)                 │ (\u001b[38;5;45mNone\u001b[0m, \u001b[38;5;34m3\u001b[0m)              │            \u001b[38;5;34m24\u001b[0m │\n",
       "├─────────────────────────────────┼────────────────────────┼───────────────┤\n",
       "│ dense_4 (\u001b[38;5;33mDense\u001b[0m)                 │ (\u001b[38;5;45mNone\u001b[0m, \u001b[38;5;34m1\u001b[0m)              │             \u001b[38;5;34m4\u001b[0m │\n",
       "└─────────────────────────────────┴────────────────────────┴───────────────┘\n"
      ]
     },
     "metadata": {},
     "output_type": "display_data"
    },
    {
     "data": {
      "text/html": [
       "<pre style=\"white-space:pre;overflow-x:auto;line-height:normal;font-family:Menlo,'DejaVu Sans Mono',consolas,'Courier New',monospace\"><span style=\"font-weight: bold\"> Total params: </span><span style=\"color: #00af00; text-decoration-color: #00af00\">119</span> (476.00 B)\n",
       "</pre>\n"
      ],
      "text/plain": [
       "\u001b[1m Total params: \u001b[0m\u001b[38;5;34m119\u001b[0m (476.00 B)\n"
      ]
     },
     "metadata": {},
     "output_type": "display_data"
    },
    {
     "data": {
      "text/html": [
       "<pre style=\"white-space:pre;overflow-x:auto;line-height:normal;font-family:Menlo,'DejaVu Sans Mono',consolas,'Courier New',monospace\"><span style=\"font-weight: bold\"> Trainable params: </span><span style=\"color: #00af00; text-decoration-color: #00af00\">119</span> (476.00 B)\n",
       "</pre>\n"
      ],
      "text/plain": [
       "\u001b[1m Trainable params: \u001b[0m\u001b[38;5;34m119\u001b[0m (476.00 B)\n"
      ]
     },
     "metadata": {},
     "output_type": "display_data"
    },
    {
     "data": {
      "text/html": [
       "<pre style=\"white-space:pre;overflow-x:auto;line-height:normal;font-family:Menlo,'DejaVu Sans Mono',consolas,'Courier New',monospace\"><span style=\"font-weight: bold\"> Non-trainable params: </span><span style=\"color: #00af00; text-decoration-color: #00af00\">0</span> (0.00 B)\n",
       "</pre>\n"
      ],
      "text/plain": [
       "\u001b[1m Non-trainable params: \u001b[0m\u001b[38;5;34m0\u001b[0m (0.00 B)\n"
      ]
     },
     "metadata": {},
     "output_type": "display_data"
    }
   ],
   "source": [
    "model2.summary()"
   ]
  },
  {
   "cell_type": "code",
   "execution_count": 27,
   "id": "ab9286e1-77c2-4f01-b44a-2365c62c69ef",
   "metadata": {},
   "outputs": [],
   "source": [
    "model2.compile(loss='binary_crossentropy',optimizer='Adam')"
   ]
  },
  {
   "cell_type": "code",
   "execution_count": 28,
   "id": "2caae16b-6def-4a64-b60d-874a53631619",
   "metadata": {},
   "outputs": [
    {
     "name": "stdout",
     "output_type": "stream",
     "text": [
      "Epoch 1/50\n",
      "11021/11021 - 2s - 209us/step - loss: 0.2056\n",
      "Epoch 2/50\n",
      "11021/11021 - 2s - 188us/step - loss: 0.0912\n",
      "Epoch 3/50\n",
      "11021/11021 - 2s - 188us/step - loss: 0.0756\n",
      "Epoch 4/50\n",
      "11021/11021 - 2s - 187us/step - loss: 0.0625\n",
      "Epoch 5/50\n",
      "11021/11021 - 2s - 186us/step - loss: 0.0523\n",
      "Epoch 6/50\n",
      "11021/11021 - 2s - 186us/step - loss: 0.0463\n",
      "Epoch 7/50\n",
      "11021/11021 - 2s - 185us/step - loss: 0.0425\n",
      "Epoch 8/50\n",
      "11021/11021 - 2s - 186us/step - loss: 0.0397\n",
      "Epoch 9/50\n",
      "11021/11021 - 2s - 187us/step - loss: 0.0375\n",
      "Epoch 10/50\n",
      "11021/11021 - 2s - 185us/step - loss: 0.0358\n",
      "Epoch 11/50\n",
      "11021/11021 - 2s - 187us/step - loss: 0.0343\n",
      "Epoch 12/50\n",
      "11021/11021 - 2s - 184us/step - loss: 0.0330\n",
      "Epoch 13/50\n",
      "11021/11021 - 2s - 183us/step - loss: 0.0318\n",
      "Epoch 14/50\n",
      "11021/11021 - 2s - 184us/step - loss: 0.0309\n",
      "Epoch 15/50\n",
      "11021/11021 - 2s - 184us/step - loss: 0.0300\n",
      "Epoch 16/50\n",
      "11021/11021 - 2s - 184us/step - loss: 0.0293\n",
      "Epoch 17/50\n",
      "11021/11021 - 2s - 185us/step - loss: 0.0286\n",
      "Epoch 18/50\n",
      "11021/11021 - 2s - 183us/step - loss: 0.0280\n",
      "Epoch 19/50\n",
      "11021/11021 - 2s - 181us/step - loss: 0.0275\n",
      "Epoch 20/50\n",
      "11021/11021 - 2s - 183us/step - loss: 0.0270\n",
      "Epoch 21/50\n",
      "11021/11021 - 2s - 184us/step - loss: 0.0265\n",
      "Epoch 22/50\n",
      "11021/11021 - 2s - 183us/step - loss: 0.0261\n",
      "Epoch 23/50\n",
      "11021/11021 - 2s - 181us/step - loss: 0.0257\n",
      "Epoch 24/50\n",
      "11021/11021 - 2s - 183us/step - loss: 0.0254\n",
      "Epoch 25/50\n",
      "11021/11021 - 2s - 183us/step - loss: 0.0250\n",
      "Epoch 26/50\n",
      "11021/11021 - 2s - 182us/step - loss: 0.0246\n",
      "Epoch 27/50\n",
      "11021/11021 - 2s - 184us/step - loss: 0.0243\n",
      "Epoch 28/50\n",
      "11021/11021 - 2s - 194us/step - loss: 0.0241\n",
      "Epoch 29/50\n",
      "11021/11021 - 2s - 197us/step - loss: 0.0238\n",
      "Epoch 30/50\n",
      "11021/11021 - 2s - 193us/step - loss: 0.0235\n",
      "Epoch 31/50\n",
      "11021/11021 - 2s - 193us/step - loss: 0.0233\n",
      "Epoch 32/50\n",
      "11021/11021 - 2s - 193us/step - loss: 0.0230\n",
      "Epoch 33/50\n",
      "11021/11021 - 2s - 194us/step - loss: 0.0228\n",
      "Epoch 34/50\n",
      "11021/11021 - 2s - 193us/step - loss: 0.0226\n",
      "Epoch 35/50\n",
      "11021/11021 - 2s - 187us/step - loss: 0.0224\n",
      "Epoch 36/50\n",
      "11021/11021 - 2s - 186us/step - loss: 0.0221\n",
      "Epoch 37/50\n",
      "11021/11021 - 2s - 185us/step - loss: 0.0220\n",
      "Epoch 38/50\n",
      "11021/11021 - 2s - 186us/step - loss: 0.0218\n",
      "Epoch 39/50\n",
      "11021/11021 - 2s - 188us/step - loss: 0.0216\n",
      "Epoch 40/50\n",
      "11021/11021 - 2s - 191us/step - loss: 0.0215\n",
      "Epoch 41/50\n",
      "11021/11021 - 2s - 191us/step - loss: 0.0213\n",
      "Epoch 42/50\n",
      "11021/11021 - 2s - 204us/step - loss: 0.0212\n",
      "Epoch 43/50\n",
      "11021/11021 - 2s - 189us/step - loss: 0.0210\n",
      "Epoch 44/50\n",
      "11021/11021 - 2s - 186us/step - loss: 0.0208\n",
      "Epoch 45/50\n",
      "11021/11021 - 2s - 189us/step - loss: 0.0207\n",
      "Epoch 46/50\n",
      "11021/11021 - 2s - 192us/step - loss: 0.0206\n",
      "Epoch 47/50\n",
      "11021/11021 - 2s - 187us/step - loss: 0.0204\n",
      "Epoch 48/50\n",
      "11021/11021 - 2s - 187us/step - loss: 0.0203\n",
      "Epoch 49/50\n",
      "11021/11021 - 2s - 184us/step - loss: 0.0201\n",
      "Epoch 50/50\n",
      "11021/11021 - 2s - 184us/step - loss: 0.0201\n"
     ]
    }
   ],
   "source": [
    "history2=model2.fit(X_train_scaled,y_train,epochs=50,verbose=2)"
   ]
  },
  {
   "cell_type": "code",
   "execution_count": 29,
   "id": "eeb671da-d3eb-455c-9b9a-8ff7f453595b",
   "metadata": {},
   "outputs": [
    {
     "name": "stdout",
     "output_type": "stream",
     "text": [
      "\u001b[1m2756/2756\u001b[0m \u001b[32m━━━━━━━━━━━━━━━━━━━━\u001b[0m\u001b[37m\u001b[0m \u001b[1m0s\u001b[0m 147us/step\n"
     ]
    }
   ],
   "source": [
    "predicted=model2.predict(X_test_scaled)"
   ]
  },
  {
   "cell_type": "code",
   "execution_count": null,
   "id": "185b318f-b1a5-490d-b5d1-4b92b0ba876e",
   "metadata": {},
   "outputs": [],
   "source": []
  },
  {
   "cell_type": "code",
   "execution_count": 30,
   "id": "4e9e50a8-9594-4fdb-8d5e-ee7c2aff27c5",
   "metadata": {},
   "outputs": [
    {
     "name": "stdout",
     "output_type": "stream",
     "text": [
      "Accuracy with 2 hidden layer:- 0.9943629702723241\n"
     ]
    }
   ],
   "source": [
    "y_pred=np.where(predicted>0.5,1,0)\n",
    "print(\"Accuracy with 2 hidden layer:-\",accuracy_score(y_pred=y_pred,y_true=y_test))"
   ]
  },
  {
   "cell_type": "code",
   "execution_count": 31,
   "id": "6ae22bca-e9ce-4e83-9eea-fe6167f74089",
   "metadata": {},
   "outputs": [
    {
     "data": {
      "text/plain": [
       "Text(0.5, 1.0, 'Loss vs epochs for 2 hidden layer model')"
      ]
     },
     "execution_count": 31,
     "metadata": {},
     "output_type": "execute_result"
    },
    {
     "data": {
      "image/png": "[encoded data removed]",
      "text/plain": [
       "<Figure size 640x480 with 1 Axes>"
      ]
     },
     "metadata": {},
     "output_type": "display_data"
    }
   ],
   "source": [
    "plt.plot(history2.history['loss'])   ## Plot of loss with epoch\n",
    "plt.xlabel(\"Epochs\")\n",
    "plt.ylabel(\"Loss\")\n",
    "plt.title(\"Loss vs epochs for 2 hidden layer model\")"
   ]
  },
  {
   "cell_type": "code",
   "execution_count": null,
   "id": "7e1ead9c-4081-4dd5-98b6-6cb185cba51b",
   "metadata": {},
   "outputs": [],
   "source": []
  }
 ],
 "metadata": {
  "kernelspec": {
   "display_name": "pythonvenv",
   "language": "python",
   "name": "pythonvenv"
  },
  "language_info": {
   "codemirror_mode": {
    "name": "ipython",
    "version": 3
   },
   "file_extension": ".py",
   "mimetype": "text/x-python",
   "name": "python",
   "nbconvert_exporter": "python",
   "pygments_lexer": "ipython3",
   "version": "3.12.2"
  }
 },
 "nbformat": 4,
 "nbformat_minor": 5
}
