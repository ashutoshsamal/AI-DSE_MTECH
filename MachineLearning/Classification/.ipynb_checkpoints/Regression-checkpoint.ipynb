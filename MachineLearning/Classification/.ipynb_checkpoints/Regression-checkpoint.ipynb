{
 "cells": [
  {
   "cell_type": "code",
   "execution_count": 1,
   "id": "deb8b673-b3e2-4f99-959e-c6b52122979b",
   "metadata": {},
   "outputs": [],
   "source": [
    "import pandas as pd\n",
    "import numpy as np\n",
    "from sklearn.model_selection import train_test_split\n",
    "from sklearn.model_selection import KFold \n",
    "import matplotlib.pyplot as plt\n",
    "\n",
    "\n"
   ]
  },
  {
   "cell_type": "code",
   "execution_count": 2,
   "id": "51bbbfea-14f1-482b-8e7a-9468a5a22e43",
   "metadata": {},
   "outputs": [],
   "source": [
    "data=pd.read_csv(\"Ecommerce Customers.csv\")"
   ]
  },
  {
   "cell_type": "code",
   "execution_count": 3,
   "id": "fe15451f-75c7-4f5f-90a3-e42c9a8321b3",
   "metadata": {},
   "outputs": [
    {
     "data": {
      "text/html": [
       "<div>\n",
       "<style scoped>\n",
       "    .dataframe tbody tr th:only-of-type {\n",
       "        vertical-align: middle;\n",
       "    }\n",
       "\n",
       "    .dataframe tbody tr th {\n",
       "        vertical-align: top;\n",
       "    }\n",
       "\n",
       "    .dataframe thead th {\n",
       "        text-align: right;\n",
       "    }\n",
       "</style>\n",
       "<table border=\"1\" class=\"dataframe\">\n",
       "  <thead>\n",
       "    <tr style=\"text-align: right;\">\n",
       "      <th></th>\n",
       "      <th>Email</th>\n",
       "      <th>Address</th>\n",
       "      <th>Avatar</th>\n",
       "      <th>Avg. Session Length</th>\n",
       "      <th>Time on App</th>\n",
       "      <th>Time on Website</th>\n",
       "      <th>Length of Membership</th>\n",
       "      <th>Yearly Amount Spent</th>\n",
       "    </tr>\n",
       "  </thead>\n",
       "  <tbody>\n",
       "    <tr>\n",
       "      <th>0</th>\n",
       "      <td>mstephenson@fernandez.com</td>\n",
       "      <td>835 Frank Tunnel\\nWrightmouth, MI 82180-9605</td>\n",
       "      <td>Violet</td>\n",
       "      <td>34.497268</td>\n",
       "      <td>12.655651</td>\n",
       "      <td>39.577668</td>\n",
       "      <td>4.082621</td>\n",
       "      <td>587.951054</td>\n",
       "    </tr>\n",
       "    <tr>\n",
       "      <th>1</th>\n",
       "      <td>hduke@hotmail.com</td>\n",
       "      <td>4547 Archer Common\\nDiazchester, CA 06566-8576</td>\n",
       "      <td>DarkGreen</td>\n",
       "      <td>31.926272</td>\n",
       "      <td>11.109461</td>\n",
       "      <td>37.268959</td>\n",
       "      <td>2.664034</td>\n",
       "      <td>392.204933</td>\n",
       "    </tr>\n",
       "    <tr>\n",
       "      <th>2</th>\n",
       "      <td>pallen@yahoo.com</td>\n",
       "      <td>24645 Valerie Unions Suite 582\\nCobbborough, D...</td>\n",
       "      <td>Bisque</td>\n",
       "      <td>33.000915</td>\n",
       "      <td>11.330278</td>\n",
       "      <td>37.110597</td>\n",
       "      <td>4.104543</td>\n",
       "      <td>487.547505</td>\n",
       "    </tr>\n",
       "    <tr>\n",
       "      <th>3</th>\n",
       "      <td>riverarebecca@gmail.com</td>\n",
       "      <td>1414 David Throughway\\nPort Jason, OH 22070-1220</td>\n",
       "      <td>SaddleBrown</td>\n",
       "      <td>34.305557</td>\n",
       "      <td>13.717514</td>\n",
       "      <td>36.721283</td>\n",
       "      <td>3.120179</td>\n",
       "      <td>581.852344</td>\n",
       "    </tr>\n",
       "    <tr>\n",
       "      <th>4</th>\n",
       "      <td>mstephens@davidson-herman.com</td>\n",
       "      <td>14023 Rodriguez Passage\\nPort Jacobville, PR 3...</td>\n",
       "      <td>MediumAquaMarine</td>\n",
       "      <td>33.330673</td>\n",
       "      <td>12.795189</td>\n",
       "      <td>37.536653</td>\n",
       "      <td>4.446308</td>\n",
       "      <td>599.406092</td>\n",
       "    </tr>\n",
       "  </tbody>\n",
       "</table>\n",
       "</div>"
      ],
      "text/plain": [
       "                           Email  \\\n",
       "0      mstephenson@fernandez.com   \n",
       "1              hduke@hotmail.com   \n",
       "2               pallen@yahoo.com   \n",
       "3        riverarebecca@gmail.com   \n",
       "4  mstephens@davidson-herman.com   \n",
       "\n",
       "                                             Address            Avatar  \\\n",
       "0       835 Frank Tunnel\\nWrightmouth, MI 82180-9605            Violet   \n",
       "1     4547 Archer Common\\nDiazchester, CA 06566-8576         DarkGreen   \n",
       "2  24645 Valerie Unions Suite 582\\nCobbborough, D...            Bisque   \n",
       "3   1414 David Throughway\\nPort Jason, OH 22070-1220       SaddleBrown   \n",
       "4  14023 Rodriguez Passage\\nPort Jacobville, PR 3...  MediumAquaMarine   \n",
       "\n",
       "   Avg. Session Length  Time on App  Time on Website  Length of Membership  \\\n",
       "0            34.497268    12.655651        39.577668              4.082621   \n",
       "1            31.926272    11.109461        37.268959              2.664034   \n",
       "2            33.000915    11.330278        37.110597              4.104543   \n",
       "3            34.305557    13.717514        36.721283              3.120179   \n",
       "4            33.330673    12.795189        37.536653              4.446308   \n",
       "\n",
       "   Yearly Amount Spent  \n",
       "0           587.951054  \n",
       "1           392.204933  \n",
       "2           487.547505  \n",
       "3           581.852344  \n",
       "4           599.406092  "
      ]
     },
     "execution_count": 3,
     "metadata": {},
     "output_type": "execute_result"
    }
   ],
   "source": [
    "data.head(5)"
   ]
  },
  {
   "cell_type": "code",
   "execution_count": 4,
   "id": "c84c53e7-b7ed-4073-91ae-76f1c26c62c9",
   "metadata": {},
   "outputs": [],
   "source": [
    "features=[\"Avg. Session Length\",\"Time on App\",\"Time on Website\",\"Length of Membership\"]\n",
    "\n",
    "Xfeatures=data[features]\n",
    "\n",
    "Label=[\"Yearly Amount Spent\"]\n",
    "Ylabel=data[Label]\n",
    "\n",
    "\n",
    "\n"
   ]
  },
  {
   "cell_type": "code",
   "execution_count": 5,
   "id": "aa9288e5-c32b-4d67-8d2b-dfcf5ab4b364",
   "metadata": {},
   "outputs": [],
   "source": [
    "X_train, X_test, y_train, y_test = train_test_split(Xfeatures, Ylabel, test_size=0.20, random_state=42)"
   ]
  },
  {
   "cell_type": "markdown",
   "id": "8938c8d2-0e5d-4589-84bd-46acdd8d5966",
   "metadata": {},
   "source": [
    "## standardaztion for feature scaling"
   ]
  },
  {
   "cell_type": "code",
   "execution_count": 6,
   "id": "9d9d8cbf-67f6-48eb-8c86-1dd0212e8355",
   "metadata": {},
   "outputs": [],
   "source": [
    "std=X_train.std()\n",
    "mean=X_train.mean()"
   ]
  },
  {
   "cell_type": "code",
   "execution_count": 7,
   "id": "4953d025-6a66-4856-bac8-fe7acf122f43",
   "metadata": {},
   "outputs": [],
   "source": [
    "X_train=(X_train-mean)/std\n",
    "X_test=(X_test-mean)/std\n"
   ]
  },
  {
   "cell_type": "code",
   "execution_count": 8,
   "id": "3d2084d0-8c1b-4bb8-ba77-3307a156decd",
   "metadata": {},
   "outputs": [],
   "source": [
    "##Adding X0 as 1 for intercept\n",
    "\n",
    "X_train=X_train.assign(x0=1)\n",
    "X_train=X_train[[\"x0\"]+features]\n",
    "\n",
    "X_test=X_test.assign(x0=1)\n",
    "X_test=X_test[[\"x0\"]+features]\n",
    "\n",
    "\n"
   ]
  },
  {
   "cell_type": "markdown",
   "id": "fe9d8f76-f64d-4bd3-ad72-14ae7643b3bb",
   "metadata": {},
   "source": [
    "## Initialization of theta or coefficients "
   ]
  },
  {
   "cell_type": "code",
   "execution_count": 9,
   "id": "d1d5e2ed-70a5-4788-985a-6ac0897121d4",
   "metadata": {},
   "outputs": [],
   "source": [
    "randomlist=np.random.rand(1,5)\n",
    "\n",
    "theta=pd.DataFrame(randomlist,columns=X_train.columns)\n"
   ]
  },
  {
   "cell_type": "code",
   "execution_count": 10,
   "id": "652d4ecb-d38c-4752-a9d3-86681c148ee7",
   "metadata": {},
   "outputs": [
    {
     "data": {
      "text/html": [
       "<div>\n",
       "<style scoped>\n",
       "    .dataframe tbody tr th:only-of-type {\n",
       "        vertical-align: middle;\n",
       "    }\n",
       "\n",
       "    .dataframe tbody tr th {\n",
       "        vertical-align: top;\n",
       "    }\n",
       "\n",
       "    .dataframe thead th {\n",
       "        text-align: right;\n",
       "    }\n",
       "</style>\n",
       "<table border=\"1\" class=\"dataframe\">\n",
       "  <thead>\n",
       "    <tr style=\"text-align: right;\">\n",
       "      <th></th>\n",
       "      <th>x0</th>\n",
       "      <th>Avg. Session Length</th>\n",
       "      <th>Time on App</th>\n",
       "      <th>Time on Website</th>\n",
       "      <th>Length of Membership</th>\n",
       "    </tr>\n",
       "  </thead>\n",
       "  <tbody>\n",
       "    <tr>\n",
       "      <th>0</th>\n",
       "      <td>0.437641</td>\n",
       "      <td>0.762639</td>\n",
       "      <td>0.748009</td>\n",
       "      <td>0.834275</td>\n",
       "      <td>0.942454</td>\n",
       "    </tr>\n",
       "  </tbody>\n",
       "</table>\n",
       "</div>"
      ],
      "text/plain": [
       "         x0  Avg. Session Length  Time on App  Time on Website  \\\n",
       "0  0.437641             0.762639     0.748009         0.834275   \n",
       "\n",
       "   Length of Membership  \n",
       "0              0.942454  "
      ]
     },
     "execution_count": 10,
     "metadata": {},
     "output_type": "execute_result"
    }
   ],
   "source": [
    "theta"
   ]
  },
  {
   "cell_type": "markdown",
   "id": "e06d69c5-0890-4c9e-8189-6ab84dd7072e",
   "metadata": {},
   "source": [
    "## Training the linear regression model"
   ]
  },
  {
   "cell_type": "code",
   "execution_count": 11,
   "id": "4a18e49a-f4ee-4365-85e7-697e318f3ca4",
   "metadata": {},
   "outputs": [],
   "source": [
    "training_size=len(X_train)\n",
    "Iteration_number=500\n",
    "No_Batches=50\n",
    "alpha=0.00076 ## learning rate \n"
   ]
  },
  {
   "cell_type": "code",
   "execution_count": 12,
   "id": "47b911f5-6b29-445f-8409-0d26e36f54c5",
   "metadata": {},
   "outputs": [],
   "source": [
    "## creating 50 small batches to train our model\n",
    "kf = KFold(n_splits=No_Batches, random_state=None) \n"
   ]
  },
  {
   "cell_type": "code",
   "execution_count": null,
   "id": "eb5418d4-6ace-47a7-9bf6-2dbc7accff9c",
   "metadata": {},
   "outputs": [],
   "source": []
  },
  {
   "cell_type": "code",
   "execution_count": null,
   "id": "f4476b58-34d9-426d-9ac7-178a3003b42d",
   "metadata": {},
   "outputs": [],
   "source": [
    "\n"
   ]
  },
  {
   "cell_type": "code",
   "execution_count": 13,
   "id": "4f4b89f5-0d81-4833-9dcd-08b0876cc6a3",
   "metadata": {},
   "outputs": [
    {
     "name": "stdout",
     "output_type": "stream",
     "text": [
      "At interation:- 1\n",
      "Mean absolute error is :- 492.42041960851924\n",
      "At interation:- 51\n",
      "Mean absolute error is :- 73.57325499712215\n",
      "At interation:- 101\n",
      "Mean absolute error is :- 12.372961457613494\n",
      "At interation:- 151\n",
      "Mean absolute error is :- 7.819387848452554\n",
      "At interation:- 201\n",
      "Mean absolute error is :- 7.72888386760314\n",
      "At interation:- 251\n",
      "Mean absolute error is :- 7.728779953268799\n",
      "At interation:- 301\n",
      "Mean absolute error is :- 7.7289122569125706\n",
      "At interation:- 351\n",
      "Mean absolute error is :- 7.728930848444838\n",
      "At interation:- 401\n",
      "Mean absolute error is :- 7.7289334691755744\n",
      "At interation:- 451\n",
      "Mean absolute error is :- 7.728933840012331\n"
     ]
    }
   ],
   "source": [
    "for i in range(Iteration_number):\n",
    "    batch_diff=0\n",
    "\n",
    "    for rest_data,batch in kf.split(X_train):\n",
    "\n",
    "        X_batch=X_train.iloc[batch]\n",
    "        Y_batch=y_train.iloc[batch]\n",
    "\n",
    "        n=len(X_batch)\n",
    "\n",
    "        \"\"\"\n",
    "        Step1 :- get htheta which is the predicted values for current theta set\n",
    "        \"\"\"\n",
    "        htheta=X_batch.dot(theta.T).rename(columns={0:Y_batch.columns[0]})  ## to do matrix multiplication column names of the matrix should be same\n",
    "\n",
    "        \n",
    "        \"\"\"\n",
    "        Step2 :- Get the gadient and multiply learning rate (alpha).\n",
    "                as we know gradient= sum( i= 0 to n)(htheta(i)-y(i)x(i))\n",
    "                here dot product will take care of sum and we get gardient as an matrix with \n",
    "                length = number of features corresponding to gradient for each feature\n",
    "                \n",
    "        \"\"\"\n",
    "        diff=htheta-Y_batch\n",
    "\n",
    "\n",
    "        gradient=(alpha/n)*diff.T.dot(X_batch)\n",
    "\n",
    "\n",
    "        \"\"\"\n",
    "        step 3:- update the theta simultaneously \n",
    "        \"\"\"\n",
    "    \n",
    "        theta=theta-gradient.set_index(theta.index)\n",
    "\n",
    " \n",
    "\n",
    "        batch_diff+=(diff.abs().sum()).iloc[0]  ## Sum of all the diff of batches in each iteration \n",
    "        \n",
    "        \n",
    "    if i%50==0:\n",
    "        print(\"At interation:-\",i+1)\n",
    "        print(\"Mean absolute error is :-\",batch_diff/training_size)\n",
    "            \n",
    "    \n"
   ]
  },
  {
   "cell_type": "code",
   "execution_count": 14,
   "id": "fb1bc51e-b004-4c88-a355-798223777eda",
   "metadata": {},
   "outputs": [
    {
     "data": {
      "text/html": [
       "<div>\n",
       "<style scoped>\n",
       "    .dataframe tbody tr th:only-of-type {\n",
       "        vertical-align: middle;\n",
       "    }\n",
       "\n",
       "    .dataframe tbody tr th {\n",
       "        vertical-align: top;\n",
       "    }\n",
       "\n",
       "    .dataframe thead th {\n",
       "        text-align: right;\n",
       "    }\n",
       "</style>\n",
       "<table border=\"1\" class=\"dataframe\">\n",
       "  <thead>\n",
       "    <tr style=\"text-align: right;\">\n",
       "      <th></th>\n",
       "      <th>x0</th>\n",
       "      <th>Avg. Session Length</th>\n",
       "      <th>Time on App</th>\n",
       "      <th>Time on Website</th>\n",
       "      <th>Length of Membership</th>\n",
       "    </tr>\n",
       "  </thead>\n",
       "  <tbody>\n",
       "    <tr>\n",
       "      <th>0</th>\n",
       "      <td>502.001027</td>\n",
       "      <td>25.287354</td>\n",
       "      <td>38.744047</td>\n",
       "      <td>0.319824</td>\n",
       "      <td>63.613604</td>\n",
       "    </tr>\n",
       "  </tbody>\n",
       "</table>\n",
       "</div>"
      ],
      "text/plain": [
       "           x0  Avg. Session Length  Time on App  Time on Website  \\\n",
       "0  502.001027            25.287354    38.744047         0.319824   \n",
       "\n",
       "   Length of Membership  \n",
       "0             63.613604  "
      ]
     },
     "execution_count": 14,
     "metadata": {},
     "output_type": "execute_result"
    }
   ],
   "source": [
    "theta"
   ]
  },
  {
   "cell_type": "markdown",
   "id": "967bb4bb-6f29-4b99-9a1b-11ee6b5890a4",
   "metadata": {},
   "source": [
    "## Testing accuracy on test data"
   ]
  },
  {
   "cell_type": "code",
   "execution_count": 15,
   "id": "a2026920-61fa-4ae2-87f5-0d5a87727046",
   "metadata": {},
   "outputs": [],
   "source": [
    "predicted=X_test.dot(theta.T).rename(columns={0:X_test.columns[0]})"
   ]
  },
  {
   "cell_type": "code",
   "execution_count": 16,
   "id": "4fedf90d-00a5-4c3f-81e5-47f02b4fd2e6",
   "metadata": {},
   "outputs": [],
   "source": [
    "diff=predicted.T-(y_test.T).set_index(predicted.T.index)"
   ]
  },
  {
   "cell_type": "code",
   "execution_count": 17,
   "id": "c8556ccd-4735-457b-8373-f4bbd9c434da",
   "metadata": {},
   "outputs": [
    {
     "data": {
      "text/html": [
       "<div>\n",
       "<style scoped>\n",
       "    .dataframe tbody tr th:only-of-type {\n",
       "        vertical-align: middle;\n",
       "    }\n",
       "\n",
       "    .dataframe tbody tr th {\n",
       "        vertical-align: top;\n",
       "    }\n",
       "\n",
       "    .dataframe thead th {\n",
       "        text-align: right;\n",
       "    }\n",
       "</style>\n",
       "<table border=\"1\" class=\"dataframe\">\n",
       "  <thead>\n",
       "    <tr style=\"text-align: right;\">\n",
       "      <th></th>\n",
       "      <th>361</th>\n",
       "      <th>73</th>\n",
       "      <th>374</th>\n",
       "      <th>155</th>\n",
       "      <th>104</th>\n",
       "      <th>394</th>\n",
       "      <th>377</th>\n",
       "      <th>124</th>\n",
       "      <th>68</th>\n",
       "      <th>450</th>\n",
       "      <th>...</th>\n",
       "      <th>381</th>\n",
       "      <th>472</th>\n",
       "      <th>362</th>\n",
       "      <th>324</th>\n",
       "      <th>431</th>\n",
       "      <th>347</th>\n",
       "      <th>86</th>\n",
       "      <th>75</th>\n",
       "      <th>438</th>\n",
       "      <th>15</th>\n",
       "    </tr>\n",
       "  </thead>\n",
       "  <tbody>\n",
       "    <tr>\n",
       "      <th>x0</th>\n",
       "      <td>1.855344</td>\n",
       "      <td>7.755062</td>\n",
       "      <td>8.031016</td>\n",
       "      <td>-2.06361</td>\n",
       "      <td>-0.389357</td>\n",
       "      <td>12.307702</td>\n",
       "      <td>-7.4197</td>\n",
       "      <td>-8.382731</td>\n",
       "      <td>-0.495368</td>\n",
       "      <td>-1.538497</td>\n",
       "      <td>...</td>\n",
       "      <td>-10.964136</td>\n",
       "      <td>30.145318</td>\n",
       "      <td>-8.415417</td>\n",
       "      <td>14.422355</td>\n",
       "      <td>4.128955</td>\n",
       "      <td>-4.819947</td>\n",
       "      <td>-2.179747</td>\n",
       "      <td>-22.776037</td>\n",
       "      <td>5.706751</td>\n",
       "      <td>-10.081615</td>\n",
       "    </tr>\n",
       "  </tbody>\n",
       "</table>\n",
       "<p>1 rows × 100 columns</p>\n",
       "</div>"
      ],
      "text/plain": [
       "         361       73        374      155       104        394     377  \\\n",
       "x0  1.855344  7.755062  8.031016 -2.06361 -0.389357  12.307702 -7.4197   \n",
       "\n",
       "         124       68        450  ...        381        472       362  \\\n",
       "x0 -8.382731 -0.495368 -1.538497  ... -10.964136  30.145318 -8.415417   \n",
       "\n",
       "          324       431       347       86         75        438        15   \n",
       "x0  14.422355  4.128955 -4.819947 -2.179747 -22.776037  5.706751 -10.081615  \n",
       "\n",
       "[1 rows x 100 columns]"
      ]
     },
     "execution_count": 17,
     "metadata": {},
     "output_type": "execute_result"
    }
   ],
   "source": [
    "diff"
   ]
  },
  {
   "cell_type": "code",
   "execution_count": 18,
   "id": "fd5a89ed-de6f-470e-b43f-9ee97a860edd",
   "metadata": {},
   "outputs": [
    {
     "name": "stdout",
     "output_type": "stream",
     "text": [
      "Mean absolute error in test data is :- 8.556858871054203\n",
      "Mean squared error in test data is :- 109.83105033625121\n"
     ]
    }
   ],
   "source": [
    "mean_absolute_error=(diff.abs()).sum(axis=1)/100\n",
    "\n",
    "print(\"Mean absolute error in test data is :-\",mean_absolute_error.iloc[0])\n",
    "\n",
    "mean_squared_error=(diff**2).sum(axis=1)/100\n",
    "\n",
    "print(\"Mean squared error in test data is :-\",mean_squared_error.iloc[0])\n"
   ]
  },
  {
   "cell_type": "code",
   "execution_count": 19,
   "id": "e6c501f8-58be-47a2-852a-8f170b25f8b7",
   "metadata": {},
   "outputs": [
    {
     "data": {
      "text/html": [
       "<div>\n",
       "<style scoped>\n",
       "    .dataframe tbody tr th:only-of-type {\n",
       "        vertical-align: middle;\n",
       "    }\n",
       "\n",
       "    .dataframe tbody tr th {\n",
       "        vertical-align: top;\n",
       "    }\n",
       "\n",
       "    .dataframe thead th {\n",
       "        text-align: right;\n",
       "    }\n",
       "</style>\n",
       "<table border=\"1\" class=\"dataframe\">\n",
       "  <thead>\n",
       "    <tr style=\"text-align: right;\">\n",
       "      <th></th>\n",
       "      <th>x0</th>\n",
       "    </tr>\n",
       "  </thead>\n",
       "  <tbody>\n",
       "    <tr>\n",
       "      <th>361</th>\n",
       "      <td>402.888479</td>\n",
       "    </tr>\n",
       "    <tr>\n",
       "      <th>73</th>\n",
       "      <td>542.532250</td>\n",
       "    </tr>\n",
       "    <tr>\n",
       "      <th>374</th>\n",
       "      <td>426.633758</td>\n",
       "    </tr>\n",
       "    <tr>\n",
       "      <th>155</th>\n",
       "      <td>501.914769</td>\n",
       "    </tr>\n",
       "    <tr>\n",
       "      <th>104</th>\n",
       "      <td>409.680254</td>\n",
       "    </tr>\n",
       "    <tr>\n",
       "      <th>394</th>\n",
       "      <td>569.915964</td>\n",
       "    </tr>\n",
       "    <tr>\n",
       "      <th>377</th>\n",
       "      <td>531.522274</td>\n",
       "    </tr>\n",
       "    <tr>\n",
       "      <th>124</th>\n",
       "      <td>505.953828</td>\n",
       "    </tr>\n",
       "    <tr>\n",
       "      <th>68</th>\n",
       "      <td>408.124820</td>\n",
       "    </tr>\n",
       "    <tr>\n",
       "      <th>450</th>\n",
       "      <td>473.476910</td>\n",
       "    </tr>\n",
       "  </tbody>\n",
       "</table>\n",
       "</div>"
      ],
      "text/plain": [
       "             x0\n",
       "361  402.888479\n",
       "73   542.532250\n",
       "374  426.633758\n",
       "155  501.914769\n",
       "104  409.680254\n",
       "394  569.915964\n",
       "377  531.522274\n",
       "124  505.953828\n",
       "68   408.124820\n",
       "450  473.476910"
      ]
     },
     "execution_count": 19,
     "metadata": {},
     "output_type": "execute_result"
    }
   ],
   "source": [
    "predicted.head(10)"
   ]
  },
  {
   "cell_type": "code",
   "execution_count": 20,
   "id": "64f76c2f-1d70-455c-ba06-0217272316a3",
   "metadata": {},
   "outputs": [
    {
     "data": {
      "text/html": [
       "<div>\n",
       "<style scoped>\n",
       "    .dataframe tbody tr th:only-of-type {\n",
       "        vertical-align: middle;\n",
       "    }\n",
       "\n",
       "    .dataframe tbody tr th {\n",
       "        vertical-align: top;\n",
       "    }\n",
       "\n",
       "    .dataframe thead th {\n",
       "        text-align: right;\n",
       "    }\n",
       "</style>\n",
       "<table border=\"1\" class=\"dataframe\">\n",
       "  <thead>\n",
       "    <tr style=\"text-align: right;\">\n",
       "      <th></th>\n",
       "      <th>Yearly Amount Spent</th>\n",
       "    </tr>\n",
       "  </thead>\n",
       "  <tbody>\n",
       "    <tr>\n",
       "      <th>361</th>\n",
       "      <td>401.033135</td>\n",
       "    </tr>\n",
       "    <tr>\n",
       "      <th>73</th>\n",
       "      <td>534.777188</td>\n",
       "    </tr>\n",
       "    <tr>\n",
       "      <th>374</th>\n",
       "      <td>418.602742</td>\n",
       "    </tr>\n",
       "    <tr>\n",
       "      <th>155</th>\n",
       "      <td>503.978379</td>\n",
       "    </tr>\n",
       "    <tr>\n",
       "      <th>104</th>\n",
       "      <td>410.069611</td>\n",
       "    </tr>\n",
       "    <tr>\n",
       "      <th>394</th>\n",
       "      <td>557.608262</td>\n",
       "    </tr>\n",
       "    <tr>\n",
       "      <th>377</th>\n",
       "      <td>538.941975</td>\n",
       "    </tr>\n",
       "    <tr>\n",
       "      <th>124</th>\n",
       "      <td>514.336558</td>\n",
       "    </tr>\n",
       "    <tr>\n",
       "      <th>68</th>\n",
       "      <td>408.620188</td>\n",
       "    </tr>\n",
       "    <tr>\n",
       "      <th>450</th>\n",
       "      <td>475.015407</td>\n",
       "    </tr>\n",
       "  </tbody>\n",
       "</table>\n",
       "</div>"
      ],
      "text/plain": [
       "     Yearly Amount Spent\n",
       "361           401.033135\n",
       "73            534.777188\n",
       "374           418.602742\n",
       "155           503.978379\n",
       "104           410.069611\n",
       "394           557.608262\n",
       "377           538.941975\n",
       "124           514.336558\n",
       "68            408.620188\n",
       "450           475.015407"
      ]
     },
     "execution_count": 20,
     "metadata": {},
     "output_type": "execute_result"
    }
   ],
   "source": [
    "y_test.head(10)"
   ]
  },
  {
   "cell_type": "code",
   "execution_count": 21,
   "id": "67c33058-6ae3-4e4f-9d14-b9f89f57b42d",
   "metadata": {},
   "outputs": [
    {
     "data": {
      "image/png": "[encoded data removed]",
      "text/plain": [
       "<Figure size 640x480 with 1 Axes>"
      ]
     },
     "metadata": {},
     "output_type": "display_data"
    }
   ],
   "source": [
    "plt.scatter(X_test[\"Length of Membership\"], y_test,color='g')\n",
    "plt.scatter(X_test[\"Length of Membership\"], predicted,color='r')\n",
    "plt.show()"
   ]
  }
 ],
 "metadata": {
  "kernelspec": {
   "display_name": "Python 3 (ipykernel)",
   "language": "python",
   "name": "python3"
  },
  "language_info": {
   "codemirror_mode": {
    "name": "ipython",
    "version": 3
   },
   "file_extension": ".py",
   "mimetype": "text/x-python",
   "name": "python",
   "nbconvert_exporter": "python",
   "pygments_lexer": "ipython3",
   "version": "3.12.2"
  }
 },
 "nbformat": 4,
 "nbformat_minor": 5
}
