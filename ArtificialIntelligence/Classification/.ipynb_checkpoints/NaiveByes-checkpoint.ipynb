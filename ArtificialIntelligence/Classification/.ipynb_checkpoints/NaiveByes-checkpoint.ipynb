{
 "cells": [
  {
   "cell_type": "code",
   "execution_count": 1,
   "id": "1aabe99e-a8ef-46f6-89fb-6476d603d46d",
   "metadata": {},
   "outputs": [],
   "source": [
    "import pandas as pd\n",
    "from sklearn import preprocessing \n",
    "from matplotlib import pyplot as plt\n",
    "from sklearn.naive_bayes import GaussianNB,MultinomialNB\n",
    "from sklearn.model_selection import KFold \n",
    "from sklearn.metrics import confusion_matrix\n",
    "from sklearn.metrics import ConfusionMatrixDisplay\n",
    "\n",
    "\n"
   ]
  },
  {
   "cell_type": "code",
   "execution_count": 2,
   "id": "8c8ed2e2-a5b5-45f9-a257-7096510af4c1",
   "metadata": {},
   "outputs": [],
   "source": [
    "data=pd.read_csv(\"adult.csv\")"
   ]
  },
  {
   "cell_type": "code",
   "execution_count": 3,
   "id": "9d4cd9a5-cfd7-4ca8-9fd0-09ba5f39fc23",
   "metadata": {},
   "outputs": [
    {
     "data": {
      "text/html": [
       "<div>\n",
       "<style scoped>\n",
       "    .dataframe tbody tr th:only-of-type {\n",
       "        vertical-align: middle;\n",
       "    }\n",
       "\n",
       "    .dataframe tbody tr th {\n",
       "        vertical-align: top;\n",
       "    }\n",
       "\n",
       "    .dataframe thead th {\n",
       "        text-align: right;\n",
       "    }\n",
       "</style>\n",
       "<table border=\"1\" class=\"dataframe\">\n",
       "  <thead>\n",
       "    <tr style=\"text-align: right;\">\n",
       "      <th></th>\n",
       "      <th>age</th>\n",
       "      <th>workclass</th>\n",
       "      <th>fnlwgt</th>\n",
       "      <th>education</th>\n",
       "      <th>educational-num</th>\n",
       "      <th>marital-status</th>\n",
       "      <th>occupation</th>\n",
       "      <th>relationship</th>\n",
       "      <th>race</th>\n",
       "      <th>gender</th>\n",
       "      <th>capital-gain</th>\n",
       "      <th>capital-loss</th>\n",
       "      <th>hours-per-week</th>\n",
       "      <th>native-country</th>\n",
       "      <th>income</th>\n",
       "    </tr>\n",
       "  </thead>\n",
       "  <tbody>\n",
       "    <tr>\n",
       "      <th>0</th>\n",
       "      <td>25</td>\n",
       "      <td>Private</td>\n",
       "      <td>226802</td>\n",
       "      <td>11th</td>\n",
       "      <td>7</td>\n",
       "      <td>Never-married</td>\n",
       "      <td>Machine-op-inspct</td>\n",
       "      <td>Own-child</td>\n",
       "      <td>Black</td>\n",
       "      <td>Male</td>\n",
       "      <td>0</td>\n",
       "      <td>0</td>\n",
       "      <td>40</td>\n",
       "      <td>United-States</td>\n",
       "      <td>&lt;=50K</td>\n",
       "    </tr>\n",
       "    <tr>\n",
       "      <th>1</th>\n",
       "      <td>38</td>\n",
       "      <td>Private</td>\n",
       "      <td>89814</td>\n",
       "      <td>HS-grad</td>\n",
       "      <td>9</td>\n",
       "      <td>Married-civ-spouse</td>\n",
       "      <td>Farming-fishing</td>\n",
       "      <td>Husband</td>\n",
       "      <td>White</td>\n",
       "      <td>Male</td>\n",
       "      <td>0</td>\n",
       "      <td>0</td>\n",
       "      <td>50</td>\n",
       "      <td>United-States</td>\n",
       "      <td>&lt;=50K</td>\n",
       "    </tr>\n",
       "    <tr>\n",
       "      <th>2</th>\n",
       "      <td>28</td>\n",
       "      <td>Local-gov</td>\n",
       "      <td>336951</td>\n",
       "      <td>Assoc-acdm</td>\n",
       "      <td>12</td>\n",
       "      <td>Married-civ-spouse</td>\n",
       "      <td>Protective-serv</td>\n",
       "      <td>Husband</td>\n",
       "      <td>White</td>\n",
       "      <td>Male</td>\n",
       "      <td>0</td>\n",
       "      <td>0</td>\n",
       "      <td>40</td>\n",
       "      <td>United-States</td>\n",
       "      <td>&gt;50K</td>\n",
       "    </tr>\n",
       "    <tr>\n",
       "      <th>3</th>\n",
       "      <td>44</td>\n",
       "      <td>Private</td>\n",
       "      <td>160323</td>\n",
       "      <td>Some-college</td>\n",
       "      <td>10</td>\n",
       "      <td>Married-civ-spouse</td>\n",
       "      <td>Machine-op-inspct</td>\n",
       "      <td>Husband</td>\n",
       "      <td>Black</td>\n",
       "      <td>Male</td>\n",
       "      <td>7688</td>\n",
       "      <td>0</td>\n",
       "      <td>40</td>\n",
       "      <td>United-States</td>\n",
       "      <td>&gt;50K</td>\n",
       "    </tr>\n",
       "    <tr>\n",
       "      <th>4</th>\n",
       "      <td>18</td>\n",
       "      <td>?</td>\n",
       "      <td>103497</td>\n",
       "      <td>Some-college</td>\n",
       "      <td>10</td>\n",
       "      <td>Never-married</td>\n",
       "      <td>?</td>\n",
       "      <td>Own-child</td>\n",
       "      <td>White</td>\n",
       "      <td>Female</td>\n",
       "      <td>0</td>\n",
       "      <td>0</td>\n",
       "      <td>30</td>\n",
       "      <td>United-States</td>\n",
       "      <td>&lt;=50K</td>\n",
       "    </tr>\n",
       "  </tbody>\n",
       "</table>\n",
       "</div>"
      ],
      "text/plain": [
       "   age  workclass  fnlwgt     education  educational-num      marital-status  \\\n",
       "0   25    Private  226802          11th                7       Never-married   \n",
       "1   38    Private   89814       HS-grad                9  Married-civ-spouse   \n",
       "2   28  Local-gov  336951    Assoc-acdm               12  Married-civ-spouse   \n",
       "3   44    Private  160323  Some-college               10  Married-civ-spouse   \n",
       "4   18          ?  103497  Some-college               10       Never-married   \n",
       "\n",
       "          occupation relationship   race  gender  capital-gain  capital-loss  \\\n",
       "0  Machine-op-inspct    Own-child  Black    Male             0             0   \n",
       "1    Farming-fishing      Husband  White    Male             0             0   \n",
       "2    Protective-serv      Husband  White    Male             0             0   \n",
       "3  Machine-op-inspct      Husband  Black    Male          7688             0   \n",
       "4                  ?    Own-child  White  Female             0             0   \n",
       "\n",
       "   hours-per-week native-country income  \n",
       "0              40  United-States  <=50K  \n",
       "1              50  United-States  <=50K  \n",
       "2              40  United-States   >50K  \n",
       "3              40  United-States   >50K  \n",
       "4              30  United-States  <=50K  "
      ]
     },
     "execution_count": 3,
     "metadata": {},
     "output_type": "execute_result"
    }
   ],
   "source": [
    "data.head()"
   ]
  },
  {
   "cell_type": "markdown",
   "id": "525bc4d8-5b36-498f-97ce-b1960349f855",
   "metadata": {},
   "source": [
    "# Discretization of age and hours-per-week column to be used in multiinomial model"
   ]
  },
  {
   "cell_type": "code",
   "execution_count": 4,
   "id": "fe1ba712-9e3a-462a-9c30-fad58e4d8847",
   "metadata": {},
   "outputs": [],
   "source": [
    "## For Age\n",
    "bins = [0, 22,35,45,60,90]\n",
    "labels = ['young', 'adult', 'middle-aged', 'senior','superSenior']\n",
    "discrete_age_column=pd.cut(data[\"age\"],bins,labels=labels)\n",
    "\n",
    "## For hours-per-week\n",
    "\n",
    "bins = [0,39,40,99]\n",
    "labels = [\"WorkingLess\",\"workingOptimal\",\"WorkingMore\"]\n",
    "discrete_working_hour=pd.cut(data[\"hours-per-week\"],bins,labels=labels)\n",
    "\n",
    "DiscreteDf=pd.DataFrame({\"DiscreteAge\":discrete_age_column,\"DiscreteWorkingHour\":discrete_working_hour})\n",
    "data=pd.concat([data,DiscreteDf],axis=1)"
   ]
  },
  {
   "cell_type": "code",
   "execution_count": null,
   "id": "900c29d5-42d0-4ebf-b58f-6435818fa248",
   "metadata": {},
   "outputs": [],
   "source": []
  },
  {
   "cell_type": "code",
   "execution_count": 5,
   "id": "d4b45ea9-6670-47cb-b4c5-54189c1e28f4",
   "metadata": {},
   "outputs": [],
   "source": [
    "column_with_nulls=[\"workclass\",\"occupation\",\"native-country\"]\n",
    "column_to_drop=column_with_nulls+[\"fnlwgt\",\"capital-gain\",\"capital-loss\"]\n",
    "columns_for_label_encoding=[\"education\",\"marital-status\",\"race\",\"relationship\",\"gender\",\"income\",\"DiscreteAge\",\"DiscreteWorkingHour\"]"
   ]
  },
  {
   "cell_type": "code",
   "execution_count": 6,
   "id": "92228ddb-8e74-426b-9af8-47908c405717",
   "metadata": {},
   "outputs": [],
   "source": [
    "data=data.drop(column_to_drop,axis=1)"
   ]
  },
  {
   "cell_type": "code",
   "execution_count": 7,
   "id": "6b05d389-0dd7-4181-a31e-5c70ea63a632",
   "metadata": {},
   "outputs": [
    {
     "data": {
      "text/html": [
       "<div>\n",
       "<style scoped>\n",
       "    .dataframe tbody tr th:only-of-type {\n",
       "        vertical-align: middle;\n",
       "    }\n",
       "\n",
       "    .dataframe tbody tr th {\n",
       "        vertical-align: top;\n",
       "    }\n",
       "\n",
       "    .dataframe thead th {\n",
       "        text-align: right;\n",
       "    }\n",
       "</style>\n",
       "<table border=\"1\" class=\"dataframe\">\n",
       "  <thead>\n",
       "    <tr style=\"text-align: right;\">\n",
       "      <th></th>\n",
       "      <th>age</th>\n",
       "      <th>education</th>\n",
       "      <th>educational-num</th>\n",
       "      <th>marital-status</th>\n",
       "      <th>relationship</th>\n",
       "      <th>race</th>\n",
       "      <th>gender</th>\n",
       "      <th>hours-per-week</th>\n",
       "      <th>income</th>\n",
       "      <th>DiscreteAge</th>\n",
       "      <th>DiscreteWorkingHour</th>\n",
       "    </tr>\n",
       "  </thead>\n",
       "  <tbody>\n",
       "    <tr>\n",
       "      <th>0</th>\n",
       "      <td>25</td>\n",
       "      <td>11th</td>\n",
       "      <td>7</td>\n",
       "      <td>Never-married</td>\n",
       "      <td>Own-child</td>\n",
       "      <td>Black</td>\n",
       "      <td>Male</td>\n",
       "      <td>40</td>\n",
       "      <td>&lt;=50K</td>\n",
       "      <td>adult</td>\n",
       "      <td>workingOptimal</td>\n",
       "    </tr>\n",
       "    <tr>\n",
       "      <th>1</th>\n",
       "      <td>38</td>\n",
       "      <td>HS-grad</td>\n",
       "      <td>9</td>\n",
       "      <td>Married-civ-spouse</td>\n",
       "      <td>Husband</td>\n",
       "      <td>White</td>\n",
       "      <td>Male</td>\n",
       "      <td>50</td>\n",
       "      <td>&lt;=50K</td>\n",
       "      <td>middle-aged</td>\n",
       "      <td>WorkingMore</td>\n",
       "    </tr>\n",
       "    <tr>\n",
       "      <th>2</th>\n",
       "      <td>28</td>\n",
       "      <td>Assoc-acdm</td>\n",
       "      <td>12</td>\n",
       "      <td>Married-civ-spouse</td>\n",
       "      <td>Husband</td>\n",
       "      <td>White</td>\n",
       "      <td>Male</td>\n",
       "      <td>40</td>\n",
       "      <td>&gt;50K</td>\n",
       "      <td>adult</td>\n",
       "      <td>workingOptimal</td>\n",
       "    </tr>\n",
       "    <tr>\n",
       "      <th>3</th>\n",
       "      <td>44</td>\n",
       "      <td>Some-college</td>\n",
       "      <td>10</td>\n",
       "      <td>Married-civ-spouse</td>\n",
       "      <td>Husband</td>\n",
       "      <td>Black</td>\n",
       "      <td>Male</td>\n",
       "      <td>40</td>\n",
       "      <td>&gt;50K</td>\n",
       "      <td>middle-aged</td>\n",
       "      <td>workingOptimal</td>\n",
       "    </tr>\n",
       "    <tr>\n",
       "      <th>4</th>\n",
       "      <td>18</td>\n",
       "      <td>Some-college</td>\n",
       "      <td>10</td>\n",
       "      <td>Never-married</td>\n",
       "      <td>Own-child</td>\n",
       "      <td>White</td>\n",
       "      <td>Female</td>\n",
       "      <td>30</td>\n",
       "      <td>&lt;=50K</td>\n",
       "      <td>young</td>\n",
       "      <td>WorkingLess</td>\n",
       "    </tr>\n",
       "  </tbody>\n",
       "</table>\n",
       "</div>"
      ],
      "text/plain": [
       "   age     education  educational-num      marital-status relationship   race  \\\n",
       "0   25          11th                7       Never-married    Own-child  Black   \n",
       "1   38       HS-grad                9  Married-civ-spouse      Husband  White   \n",
       "2   28    Assoc-acdm               12  Married-civ-spouse      Husband  White   \n",
       "3   44  Some-college               10  Married-civ-spouse      Husband  Black   \n",
       "4   18  Some-college               10       Never-married    Own-child  White   \n",
       "\n",
       "   gender  hours-per-week income  DiscreteAge DiscreteWorkingHour  \n",
       "0    Male              40  <=50K        adult      workingOptimal  \n",
       "1    Male              50  <=50K  middle-aged         WorkingMore  \n",
       "2    Male              40   >50K        adult      workingOptimal  \n",
       "3    Male              40   >50K  middle-aged      workingOptimal  \n",
       "4  Female              30  <=50K        young         WorkingLess  "
      ]
     },
     "execution_count": 7,
     "metadata": {},
     "output_type": "execute_result"
    }
   ],
   "source": [
    "data.head(5)"
   ]
  },
  {
   "cell_type": "code",
   "execution_count": 8,
   "id": "bab70f10-c454-40f6-a22c-766916da0c7d",
   "metadata": {},
   "outputs": [],
   "source": [
    "label_encoder = preprocessing.LabelEncoder() \n",
    "\n",
    "def label_encoding(data,columns):\n",
    "    encoded_col_list=[]\n",
    "    for col in columns:\n",
    "        encoded_col=pd.DataFrame({col+\"Encoded\":label_encoder.fit_transform(data[col])})\n",
    "        data=pd.concat([data,encoded_col],axis=1)\n",
    "\n",
    "    return data\n",
    "        \n",
    "    \n",
    "\n",
    "    "
   ]
  },
  {
   "cell_type": "code",
   "execution_count": 9,
   "id": "a415d865-8fe1-426f-b7ae-966ea3fd962c",
   "metadata": {},
   "outputs": [],
   "source": [
    "def crossValidator(model,X_data,Y_data,k=4):\n",
    "    print(\"#######perfoming\",k,\"Fold cross validation#######\")\n",
    "\n",
    "\n",
    "    kf = KFold(n_splits=k, random_state=None) \n",
    "\n",
    "    n=1\n",
    "\n",
    "    for train_index,validate_index in kf.split(X_data):\n",
    "        \n",
    "        X_train, X_validate = X_data.iloc[train_index], X_data.iloc[validate_index] \n",
    "        Y_train, Y_validate = Y_data.iloc[train_index], Y_data.iloc[validate_index]\n",
    "\n",
    "        model.fit(X_train,Y_train)\n",
    "\n",
    "        score=model.score(X_validate,Y_validate)\n",
    "        print(\"Score for\",n,\"th validation is :-- \" ,score)\n",
    "        n+=1\n",
    "        "
   ]
  },
  {
   "cell_type": "code",
   "execution_count": 10,
   "id": "9f364130-42db-42be-8070-fae4b46cd2c2",
   "metadata": {},
   "outputs": [],
   "source": [
    "final_processed_data=label_encoding(data,columns_for_label_encoding)"
   ]
  },
  {
   "cell_type": "code",
   "execution_count": 11,
   "id": "6ef48c57-061c-4212-882b-b713af2aacdc",
   "metadata": {},
   "outputs": [
    {
     "data": {
      "text/html": [
       "<div>\n",
       "<style scoped>\n",
       "    .dataframe tbody tr th:only-of-type {\n",
       "        vertical-align: middle;\n",
       "    }\n",
       "\n",
       "    .dataframe tbody tr th {\n",
       "        vertical-align: top;\n",
       "    }\n",
       "\n",
       "    .dataframe thead th {\n",
       "        text-align: right;\n",
       "    }\n",
       "</style>\n",
       "<table border=\"1\" class=\"dataframe\">\n",
       "  <thead>\n",
       "    <tr style=\"text-align: right;\">\n",
       "      <th></th>\n",
       "      <th>age</th>\n",
       "      <th>education</th>\n",
       "      <th>educational-num</th>\n",
       "      <th>marital-status</th>\n",
       "      <th>relationship</th>\n",
       "      <th>race</th>\n",
       "      <th>gender</th>\n",
       "      <th>hours-per-week</th>\n",
       "      <th>income</th>\n",
       "      <th>DiscreteAge</th>\n",
       "      <th>DiscreteWorkingHour</th>\n",
       "      <th>educationEncoded</th>\n",
       "      <th>marital-statusEncoded</th>\n",
       "      <th>raceEncoded</th>\n",
       "      <th>relationshipEncoded</th>\n",
       "      <th>genderEncoded</th>\n",
       "      <th>incomeEncoded</th>\n",
       "      <th>DiscreteAgeEncoded</th>\n",
       "      <th>DiscreteWorkingHourEncoded</th>\n",
       "    </tr>\n",
       "  </thead>\n",
       "  <tbody>\n",
       "    <tr>\n",
       "      <th>0</th>\n",
       "      <td>25</td>\n",
       "      <td>11th</td>\n",
       "      <td>7</td>\n",
       "      <td>Never-married</td>\n",
       "      <td>Own-child</td>\n",
       "      <td>Black</td>\n",
       "      <td>Male</td>\n",
       "      <td>40</td>\n",
       "      <td>&lt;=50K</td>\n",
       "      <td>adult</td>\n",
       "      <td>workingOptimal</td>\n",
       "      <td>1</td>\n",
       "      <td>4</td>\n",
       "      <td>2</td>\n",
       "      <td>3</td>\n",
       "      <td>1</td>\n",
       "      <td>0</td>\n",
       "      <td>0</td>\n",
       "      <td>2</td>\n",
       "    </tr>\n",
       "    <tr>\n",
       "      <th>1</th>\n",
       "      <td>38</td>\n",
       "      <td>HS-grad</td>\n",
       "      <td>9</td>\n",
       "      <td>Married-civ-spouse</td>\n",
       "      <td>Husband</td>\n",
       "      <td>White</td>\n",
       "      <td>Male</td>\n",
       "      <td>50</td>\n",
       "      <td>&lt;=50K</td>\n",
       "      <td>middle-aged</td>\n",
       "      <td>WorkingMore</td>\n",
       "      <td>11</td>\n",
       "      <td>2</td>\n",
       "      <td>4</td>\n",
       "      <td>0</td>\n",
       "      <td>1</td>\n",
       "      <td>0</td>\n",
       "      <td>1</td>\n",
       "      <td>1</td>\n",
       "    </tr>\n",
       "    <tr>\n",
       "      <th>2</th>\n",
       "      <td>28</td>\n",
       "      <td>Assoc-acdm</td>\n",
       "      <td>12</td>\n",
       "      <td>Married-civ-spouse</td>\n",
       "      <td>Husband</td>\n",
       "      <td>White</td>\n",
       "      <td>Male</td>\n",
       "      <td>40</td>\n",
       "      <td>&gt;50K</td>\n",
       "      <td>adult</td>\n",
       "      <td>workingOptimal</td>\n",
       "      <td>7</td>\n",
       "      <td>2</td>\n",
       "      <td>4</td>\n",
       "      <td>0</td>\n",
       "      <td>1</td>\n",
       "      <td>1</td>\n",
       "      <td>0</td>\n",
       "      <td>2</td>\n",
       "    </tr>\n",
       "    <tr>\n",
       "      <th>3</th>\n",
       "      <td>44</td>\n",
       "      <td>Some-college</td>\n",
       "      <td>10</td>\n",
       "      <td>Married-civ-spouse</td>\n",
       "      <td>Husband</td>\n",
       "      <td>Black</td>\n",
       "      <td>Male</td>\n",
       "      <td>40</td>\n",
       "      <td>&gt;50K</td>\n",
       "      <td>middle-aged</td>\n",
       "      <td>workingOptimal</td>\n",
       "      <td>15</td>\n",
       "      <td>2</td>\n",
       "      <td>2</td>\n",
       "      <td>0</td>\n",
       "      <td>1</td>\n",
       "      <td>1</td>\n",
       "      <td>1</td>\n",
       "      <td>2</td>\n",
       "    </tr>\n",
       "  </tbody>\n",
       "</table>\n",
       "</div>"
      ],
      "text/plain": [
       "   age     education  educational-num      marital-status relationship   race  \\\n",
       "0   25          11th                7       Never-married    Own-child  Black   \n",
       "1   38       HS-grad                9  Married-civ-spouse      Husband  White   \n",
       "2   28    Assoc-acdm               12  Married-civ-spouse      Husband  White   \n",
       "3   44  Some-college               10  Married-civ-spouse      Husband  Black   \n",
       "\n",
       "  gender  hours-per-week income  DiscreteAge DiscreteWorkingHour  \\\n",
       "0   Male              40  <=50K        adult      workingOptimal   \n",
       "1   Male              50  <=50K  middle-aged         WorkingMore   \n",
       "2   Male              40   >50K        adult      workingOptimal   \n",
       "3   Male              40   >50K  middle-aged      workingOptimal   \n",
       "\n",
       "   educationEncoded  marital-statusEncoded  raceEncoded  relationshipEncoded  \\\n",
       "0                 1                      4            2                    3   \n",
       "1                11                      2            4                    0   \n",
       "2                 7                      2            4                    0   \n",
       "3                15                      2            2                    0   \n",
       "\n",
       "   genderEncoded  incomeEncoded  DiscreteAgeEncoded  \\\n",
       "0              1              0                   0   \n",
       "1              1              0                   1   \n",
       "2              1              1                   0   \n",
       "3              1              1                   1   \n",
       "\n",
       "   DiscreteWorkingHourEncoded  \n",
       "0                           2  \n",
       "1                           1  \n",
       "2                           2  \n",
       "3                           2  "
      ]
     },
     "execution_count": 11,
     "metadata": {},
     "output_type": "execute_result"
    }
   ],
   "source": [
    "final_processed_data.head(4)"
   ]
  },
  {
   "cell_type": "markdown",
   "id": "bb32bba7-9dcb-4df0-b3ba-32478f61c7f2",
   "metadata": {},
   "source": [
    "# Gaussian Naive bayes modeling"
   ]
  },
  {
   "cell_type": "code",
   "execution_count": 12,
   "id": "50de4bdd-0b3c-4a0e-9789-ca75a7879b1a",
   "metadata": {},
   "outputs": [],
   "source": [
    "GaussianFeaturesSet1=[\"age\",\"educational-num\",\"hours-per-week\",\"educationEncoded\",\"marital-statusEncoded\",\"raceEncoded\",\"relationshipEncoded\",\"genderEncoded\"]\n",
    "ExpectedValue=final_processed_data[\"incomeEncoded\"]\n",
    "GaussianDf=final_processed_data[GaussianFeaturesSet1]"
   ]
  },
  {
   "cell_type": "code",
   "execution_count": 13,
   "id": "0002db4f-633e-40d1-87f2-b469c071cde0",
   "metadata": {},
   "outputs": [
    {
     "data": {
      "text/plain": [
       "genderEncoded\n",
       "1    32650\n",
       "0    16192\n",
       "Name: count, dtype: int64"
      ]
     },
     "execution_count": 13,
     "metadata": {},
     "output_type": "execute_result"
    }
   ],
   "source": [
    "GaussianDf[\"genderEncoded\"].value_counts()"
   ]
  },
  {
   "cell_type": "code",
   "execution_count": 14,
   "id": "d5425a70-3b3e-4b46-b8eb-472f0dd249d5",
   "metadata": {},
   "outputs": [
    {
     "data": {
      "text/plain": [
       "relationshipEncoded\n",
       "0    19716\n",
       "1    12583\n",
       "3     7581\n",
       "4     5125\n",
       "5     2331\n",
       "2     1506\n",
       "Name: count, dtype: int64"
      ]
     },
     "execution_count": 14,
     "metadata": {},
     "output_type": "execute_result"
    }
   ],
   "source": [
    "GaussianDf[\"relationshipEncoded\"].value_counts()"
   ]
  },
  {
   "cell_type": "code",
   "execution_count": 15,
   "id": "2563f8b3-cdc9-48fb-a6a3-7bf79d73842c",
   "metadata": {},
   "outputs": [
    {
     "data": {
      "text/plain": [
       "raceEncoded\n",
       "4    41762\n",
       "2     4685\n",
       "1     1519\n",
       "0      470\n",
       "3      406\n",
       "Name: count, dtype: int64"
      ]
     },
     "execution_count": 15,
     "metadata": {},
     "output_type": "execute_result"
    }
   ],
   "source": [
    "GaussianDf[\"raceEncoded\"].value_counts()"
   ]
  },
  {
   "cell_type": "code",
   "execution_count": 16,
   "id": "132a7ead-b954-499c-92a0-602bc72860db",
   "metadata": {},
   "outputs": [
    {
     "data": {
      "text/plain": [
       "marital-statusEncoded\n",
       "2    22379\n",
       "4    16117\n",
       "0     6633\n",
       "5     1530\n",
       "6     1518\n",
       "3      628\n",
       "1       37\n",
       "Name: count, dtype: int64"
      ]
     },
     "execution_count": 16,
     "metadata": {},
     "output_type": "execute_result"
    }
   ],
   "source": [
    "GaussianDf[\"marital-statusEncoded\"].value_counts()"
   ]
  },
  {
   "cell_type": "code",
   "execution_count": 17,
   "id": "23c79679-2c45-4c82-bc88-7bc1f4dc277e",
   "metadata": {},
   "outputs": [],
   "source": [
    "GaussianFeatures=[\"age\",\"educational-num\",\"hours-per-week\",\"educationEncoded\",\"marital-statusEncoded\",\"relationshipEncoded\"]\n",
    "ExpectedValue=final_processed_data[\"incomeEncoded\"]\n",
    "GaussianDf=final_processed_data[GaussianFeatures]"
   ]
  },
  {
   "cell_type": "code",
   "execution_count": 18,
   "id": "d30e1e54-fee5-4da7-9b22-fba4578f5aeb",
   "metadata": {},
   "outputs": [],
   "source": [
    "trainpercent=80\n",
    "trainlength=int(len(GaussianDf)*0.8)\n",
    "\n",
    "XtrainGD=GaussianDf[0:trainlength]\n",
    "YtrainGD=ExpectedValue[0:trainlength]\n",
    "\n",
    "XtestGD=GaussianDf[trainlength:]\n",
    "YtestGD=ExpectedValue[trainlength:]\n",
    "\n"
   ]
  },
  {
   "cell_type": "code",
   "execution_count": 19,
   "id": "f8ea794e-1eac-489e-90bf-5be7a8fbf95c",
   "metadata": {},
   "outputs": [],
   "source": [
    "GaussianModel= GaussianNB()\n"
   ]
  },
  {
   "cell_type": "code",
   "execution_count": 20,
   "id": "33a2316d-4f09-4703-8dec-62c037c15ee8",
   "metadata": {},
   "outputs": [
    {
     "name": "stdout",
     "output_type": "stream",
     "text": [
      "#######perfoming 4 Fold cross validation#######\n",
      "Score for 1 th validation is :--  0.8056095813286928\n",
      "Score for 2 th validation is :--  0.8016994266994267\n",
      "Score for 3 th validation is :--  0.8024160524160524\n",
      "Score for 4 th validation is :--  0.8036445536445537\n"
     ]
    }
   ],
   "source": [
    "crossValidator(GaussianModel,XtrainGD,YtrainGD,4)"
   ]
  },
  {
   "cell_type": "code",
   "execution_count": 21,
   "id": "886fe11b-e0f2-4800-9ad4-ac83c63f796d",
   "metadata": {},
   "outputs": [
    {
     "data": {
      "text/plain": [
       "0.8075545091616337"
      ]
     },
     "execution_count": 21,
     "metadata": {},
     "output_type": "execute_result"
    }
   ],
   "source": [
    "GaussianModel.score(XtestGD,YtestGD)  ## Test score"
   ]
  },
  {
   "cell_type": "code",
   "execution_count": 22,
   "id": "c031dcb4-81e0-473f-8b14-8be4efe04980",
   "metadata": {},
   "outputs": [
    {
     "data": {
      "text/plain": [
       "<sklearn.metrics._plot.confusion_matrix.ConfusionMatrixDisplay at 0x32b613c20>"
      ]
     },
     "execution_count": 22,
     "metadata": {},
     "output_type": "execute_result"
    },
    {
     "data": {
      "image/png": "[encoded data removed]",
      "text/plain": [
       "<Figure size 640x480 with 2 Axes>"
      ]
     },
     "metadata": {},
     "output_type": "display_data"
    }
   ],
   "source": [
    "ConfusionMatrixDisplay.from_predictions(GaussianModel.predict(XtestGD),YtestGD)"
   ]
  },
  {
   "cell_type": "markdown",
   "id": "a3cf4d11-69d9-4753-b7d1-8925ecad1ae0",
   "metadata": {},
   "source": [
    "# Multinomial Modeling "
   ]
  },
  {
   "cell_type": "code",
   "execution_count": 23,
   "id": "5b8dfeba-2f70-4f5b-b556-214f6ad01246",
   "metadata": {},
   "outputs": [],
   "source": [
    "MultinomialFeatures=[\"DiscreteAgeEncoded\",\"DiscreteWorkingHourEncoded\",\"educationEncoded\",\"genderEncoded\",\"educational-num\",\"marital-statusEncoded\",\"relationshipEncoded\",\"raceEncoded\"]\n",
    "ExpectedValue=final_processed_data[\"incomeEncoded\"]\n",
    "MulinomialDf=final_processed_data[MultinomialFeatures]"
   ]
  },
  {
   "cell_type": "code",
   "execution_count": null,
   "id": "f61cf628-7898-40eb-b987-9a1d40343095",
   "metadata": {},
   "outputs": [],
   "source": []
  },
  {
   "cell_type": "code",
   "execution_count": 24,
   "id": "e79da244-0cce-4a66-859e-b0493f1e98a5",
   "metadata": {},
   "outputs": [],
   "source": [
    "trainpercent=80\n",
    "trainlength=int(len(MulinomialDf)*0.8)\n",
    "\n",
    "XtrainMN=MulinomialDf[0:trainlength]\n",
    "YtrainMN=ExpectedValue[0:trainlength]\n",
    "\n",
    "XtestMN=MulinomialDf[trainlength:]\n",
    "YtestMN=ExpectedValue[trainlength:]"
   ]
  },
  {
   "cell_type": "code",
   "execution_count": 25,
   "id": "742b2fad-a78b-4ebb-8c29-1624f6874f5f",
   "metadata": {},
   "outputs": [],
   "source": [
    "multinomialModel=MultinomialNB(alpha=10)"
   ]
  },
  {
   "cell_type": "code",
   "execution_count": 26,
   "id": "1fd7cb46-12f7-4d84-9da4-b16b6d810934",
   "metadata": {},
   "outputs": [
    {
     "name": "stdout",
     "output_type": "stream",
     "text": [
      "#######perfoming 4 Fold cross validation#######\n",
      "Score for 1 th validation is :--  0.7803255195004607\n",
      "Score for 2 th validation is :--  0.7800982800982801\n",
      "Score for 3 th validation is :--  0.7766175266175266\n",
      "Score for 4 th validation is :--  0.7732391482391482\n"
     ]
    }
   ],
   "source": [
    "crossValidator(multinomialModel,XtrainMN,YtrainMN,4)"
   ]
  },
  {
   "cell_type": "code",
   "execution_count": 27,
   "id": "69454c98-97f0-4e86-bb61-94448b7eb660",
   "metadata": {},
   "outputs": [
    {
     "data": {
      "text/plain": [
       "0.7791995086498106"
      ]
     },
     "execution_count": 27,
     "metadata": {},
     "output_type": "execute_result"
    }
   ],
   "source": [
    "multinomialModel.score(XtestMN,YtestMN)  ## Test score"
   ]
  },
  {
   "cell_type": "code",
   "execution_count": 28,
   "id": "4368db48-dbf1-47c9-bd32-5a5e677f5b6f",
   "metadata": {},
   "outputs": [
    {
     "data": {
      "text/plain": [
       "<sklearn.metrics._plot.confusion_matrix.ConfusionMatrixDisplay at 0x32d9e2b70>"
      ]
     },
     "execution_count": 28,
     "metadata": {},
     "output_type": "execute_result"
    },
    {
     "data": {
      "image/png": "[encoded data removed]",
      "text/plain": [
       "<Figure size 640x480 with 2 Axes>"
      ]
     },
     "metadata": {},
     "output_type": "display_data"
    }
   ],
   "source": [
    "ConfusionMatrixDisplay.from_predictions(multinomialModel.predict(XtestMN),YtestMN)"
   ]
  },
  {
   "cell_type": "code",
   "execution_count": null,
   "id": "2279d28a-0528-4ec8-862c-6bd3b69186a8",
   "metadata": {},
   "outputs": [],
   "source": []
  },
  {
   "cell_type": "code",
   "execution_count": null,
   "id": "99230ce0-fada-49cc-baec-edb9b76a541a",
   "metadata": {},
   "outputs": [],
   "source": []
  },
  {
   "cell_type": "code",
   "execution_count": null,
   "id": "ca428a97-08d6-4447-af1e-3a342e081198",
   "metadata": {},
   "outputs": [],
   "source": []
  }
 ],
 "metadata": {
  "kernelspec": {
   "display_name": "Python 3 (ipykernel)",
   "language": "python",
   "name": "python3"
  },
  "language_info": {
   "codemirror_mode": {
    "name": "ipython",
    "version": 3
   },
   "file_extension": ".py",
   "mimetype": "text/x-python",
   "name": "python",
   "nbconvert_exporter": "python",
   "pygments_lexer": "ipython3",
   "version": "3.12.2"
  }
 },
 "nbformat": 4,
 "nbformat_minor": 5
}
